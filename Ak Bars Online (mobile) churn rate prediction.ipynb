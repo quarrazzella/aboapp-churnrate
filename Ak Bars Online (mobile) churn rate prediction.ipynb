{
 "cells": [
  {
   "cell_type": "markdown",
   "metadata": {},
   "source": [
    "# Ak Bars Online (mobile) churn rate prediction\n",
    "\n",
    "### Источник данных\n",
    "\n",
    "Для составления исходного dataFrame (df_main) используются сессионные данные, доступные в приложении ApMetrica, а также данные о платежах и переводах, отправляемых разработчиками в AppMetrica.\n",
    "\n",
    "Количество пользователей считается по уникальному идентификатору устройства, который присваивается AppMetrica (параметр DeviceID)."
   ]
  },
  {
   "cell_type": "markdown",
   "metadata": {},
   "source": [
    "### Импорт библиотек + вспомогательные функции для работы с данными Clickhouse"
   ]
  },
  {
   "cell_type": "code",
   "execution_count": 120,
   "metadata": {
    "collapsed": true
   },
   "outputs": [],
   "source": [
    "HOST = 'http://localhost:8123'\n",
    "import requests\n",
    "import pandas as pd\n",
    "import numpy as np\n",
    "import seaborn as sns\n",
    "try:\n",
    "    from StringIO import StringIO\n",
    "except ImportError:\n",
    "    from io import StringIO\n",
    "import seaborn as sns\n",
    "import matplotlib\n",
    "import matplotlib.pyplot as plt\n",
    "import datetime\n",
    "%matplotlib inline\n",
    "\n",
    "# убираем scientific notation\n",
    "pd.options.display.float_format = '{:.2f}'.format\n",
    "\n",
    "# отключим предупреждения\n",
    "import warnings\n",
    "warnings.filterwarnings('ignore')\n",
    "\n",
    "import itertools\n",
    "from pylab import rcParams\n",
    "rcParams['figure.figsize'] = 12, 8\n",
    "\n",
    "# возвращаем результат из DataBase\n",
    "def get_clickhouse_data(query, host = HOST, connection_timeout = 1500):\n",
    "    r = requests.post(host, params = {'query': query}, timeout = connection_timeout)\n",
    "    if r.status_code == 200:\n",
    "        return r.text\n",
    "    else:\n",
    "        raise ValueError(r.text)\n",
    "        \n",
    "# преобразуем полученные данные в pandas DataFrame       \n",
    "def get_clickhouse_df(query, host = HOST, connection_timeout = 1500):\n",
    "    data = get_clickhouse_data(query, host, connection_timeout) \n",
    "    df = pd.read_csv(StringIO(data), sep = '\\t')\n",
    "    return df\n",
    "\n",
    "# константы для работы с временными диапазонами\n",
    "\n",
    "# вчерашняя дата\n",
    "yesterday = [(datetime.date.today() - datetime.timedelta(days=2)).strftime('%Y-%m-%d'),\n",
    "            (datetime.date.today() - datetime.timedelta(days=2)).strftime('%Y-%m-%d')]\n",
    "# последние 7 дней (без учета текущей даты)\n",
    "week_dates = [(datetime.date.today() - datetime.timedelta(days=7)).strftime('%Y-%m-%d'), \\\n",
    "(datetime.date.today() - datetime.timedelta(days=1)).strftime('%Y-%m-%d')]\n",
    "# текущий месяц (без учета текущей даты)\n",
    "month_dates = [datetime.date.today().strftime('%Y-%m-') + '01', \\\n",
    "(datetime.date.today() - datetime.timedelta(days=1)).strftime('%Y-%m-%d')]\n",
    "\n",
    "# выставляем даты для отчета\n",
    "query_dates = ['2018-06-01', '2018-07-31'];\n",
    "\n",
    "# выставляем даты для целевого признака по оттоку\n",
    "churn_query_dates = ['2018-08-01', '2018-08-31'];\n",
    "\n",
    "# формат даты\n",
    "fmt = '%Y-%m-%d'\n",
    "\n",
    "# функция для расчета признаков, связанных с сессиями пользователей (например, avgdaylag (средний кол-во дней между сессиями))\n",
    "def func(a):\n",
    "    i1, i2 = itertools.tee(iter(a))\n",
    "    next(i2)\n",
    "    res = [(int(round((datetime.strptime(y, fmt) - datetime.strptime(x, fmt)).total_seconds() / 60))) / 1440\n",
    "    for x, y in zip(i1, i2)]  # or just zip in Python 3\n",
    "    return round(np.mean(res),2)\n",
    "\n",
    "from datetime import datetime\n",
    "\n",
    "# здесь выставляем первое число месяца, на который прогнозируем отток\n",
    "\n",
    "reportDate = datetime(2018, 8, 1)\n",
    "\n",
    "sns.set(rc={'axes.facecolor':'grey', 'figure.facecolor':'grey'})\n",
    "sns.set(palette='Blues')"
   ]
  },
  {
   "cell_type": "markdown",
   "metadata": {},
   "source": [
    "## ВСЕ СЕССИИ"
   ]
  },
  {
   "cell_type": "markdown",
   "metadata": {},
   "source": [
    "Получим данные по сессиям за период. В нашем случае за два месяца (июнь и июль 2018)"
   ]
  },
  {
   "cell_type": "code",
   "execution_count": 3,
   "metadata": {},
   "outputs": [
    {
     "name": "stdout",
     "output_type": "stream",
     "text": [
      "CPU times: user 16.6 s, sys: 11.5 s, total: 28.1 s\n",
      "Wall time: 47.6 s\n"
     ]
    }
   ],
   "source": [
    "%%time\n",
    "\n",
    "q = '''\n",
    "SELECT\n",
    "    DeviceID,\n",
    "    AppVersionName,\n",
    "    OSName,\n",
    "    City,\n",
    "    SessionStartDate,\n",
    "    SessionStartDateTime,\n",
    "    SessionStartTimestamp\n",
    "FROM\n",
    "    mobile.sessions_starts_all\n",
    "WHERE\n",
    "    SessionStartDate BETWEEN ''' + ''' \\'''' + \\\n",
    "    query_dates[0] + '''\\' AND ''' + '''\\'''' + \\\n",
    "    query_dates[1] + '''\\' ''''FORMAT TabSeparatedWithNames'''\n",
    "\n",
    "sessions_2months = get_clickhouse_df(q)"
   ]
  },
  {
   "cell_type": "markdown",
   "metadata": {},
   "source": [
    "Добавим данные за май и апрель 2018"
   ]
  },
  {
   "cell_type": "code",
   "execution_count": 4,
   "metadata": {
    "collapsed": true
   },
   "outputs": [],
   "source": [
    "sessions_may = pd.read_csv('../dmitriilin/Downloads/sessions_starts_may.csv', sep=',')\n",
    "sessions_april = pd.read_csv('../dmitriilin/Downloads/sessions_starts_april.csv', sep=',')\n",
    "sessions_may['SessionStartDate'] = sessions_may['SessionStartDateTime'].apply(lambda x: x.split(' ')[0])"
   ]
  },
  {
   "cell_type": "code",
   "execution_count": 5,
   "metadata": {
    "collapsed": true
   },
   "outputs": [],
   "source": [
    "frames = [sessions_2months, sessions_may, sessions_april]\n",
    "sessions = pd.concat(frames)"
   ]
  },
  {
   "cell_type": "markdown",
   "metadata": {},
   "source": [
    "Создадим общий dataframe для пользователей, куда будем добавлять агрегированные данные. Посчитаем кол-во сессий на DeviceID, используя SessionStartTimestamp в качестве ID сессии"
   ]
  },
  {
   "cell_type": "code",
   "execution_count": 7,
   "metadata": {},
   "outputs": [
    {
     "name": "stdout",
     "output_type": "stream",
     "text": [
      "CPU times: user 612 ms, sys: 223 ms, total: 835 ms\n",
      "Wall time: 913 ms\n"
     ]
    }
   ],
   "source": [
    "%%time\n",
    "\n",
    "df_main = sessions.groupby('DeviceID')[['SessionStartTimestamp']]\\\n",
    "    .count().reset_index().sort_values(by='SessionStartTimestamp', ascending=False)"
   ]
  },
  {
   "cell_type": "markdown",
   "metadata": {},
   "source": [
    "Запишем дни сессий в порядке возрастания массивом в колонку SessionStartDate"
   ]
  },
  {
   "cell_type": "code",
   "execution_count": 8,
   "metadata": {
    "collapsed": true
   },
   "outputs": [],
   "source": [
    "df_main['SessionStartDate'] = [sorted(list(set(sessions['SessionStartDate'].loc[sessions['DeviceID'] == x['DeviceID']])))  \n",
    "    for _, x in df_main.iterrows()]"
   ]
  },
  {
   "cell_type": "markdown",
   "metadata": {},
   "source": [
    "Посчитаем среднюю продолжительность перерыва между днями, в течение которых были сессии"
   ]
  },
  {
   "cell_type": "code",
   "execution_count": 9,
   "metadata": {
    "collapsed": true
   },
   "outputs": [],
   "source": [
    "df_main['sessions_avgdaylag'] = df_main.apply(lambda x: func(x['SessionStartDate']), axis=1)"
   ]
  },
  {
   "cell_type": "markdown",
   "metadata": {},
   "source": [
    "Если у пользователя был один активный день, то avgdaylag будет равен кол-ву дней с этого дня и до даты отчета"
   ]
  },
  {
   "cell_type": "code",
   "execution_count": 10,
   "metadata": {
    "collapsed": true
   },
   "outputs": [],
   "source": [
    "tempSer = df_main[df_main['sessions_avgdaylag'].isnull()]['SessionStartDate'].apply(\n",
    "     lambda x: round((int(round((reportDate - datetime.strptime(x[0], fmt)).total_seconds() / 60))) / 1440))"
   ]
  },
  {
   "cell_type": "code",
   "execution_count": 11,
   "metadata": {
    "collapsed": true
   },
   "outputs": [],
   "source": [
    "df_main['sessions_avgdaylag'] = df_main['sessions_avgdaylag'].fillna(tempSer)"
   ]
  },
  {
   "cell_type": "markdown",
   "metadata": {},
   "source": [
    "Посчитаем кол-во дней, прошешдишх с последней сессии пользователя от даты формирования отчета"
   ]
  },
  {
   "cell_type": "code",
   "execution_count": 12,
   "metadata": {
    "collapsed": true
   },
   "outputs": [],
   "source": [
    "temp = sessions.groupby('DeviceID')[['SessionStartDate']].max().reset_index()\n",
    "temp['sessions_daysSinceLastSession'] = temp['SessionStartDate'].apply(\n",
    "    lambda x: round((int(round((reportDate - datetime.strptime(x, fmt)).total_seconds() / 60))) / 1440))\n",
    "df_main = df_main.join(temp.drop(['SessionStartDate'], axis=1).set_index('DeviceID'), on='DeviceID')"
   ]
  },
  {
   "cell_type": "markdown",
   "metadata": {},
   "source": [
    "Посчитаем количество дней, когда пользователь был активен в приложении"
   ]
  },
  {
   "cell_type": "code",
   "execution_count": 13,
   "metadata": {
    "collapsed": true
   },
   "outputs": [],
   "source": [
    "df_main['sessions_totaldaysactive'] = df_main['SessionStartDate'].apply(lambda x: len(x))"
   ]
  },
  {
   "cell_type": "markdown",
   "metadata": {},
   "source": [
    "Удалим массив уникальных дат с сессиями и переименуем столбец SessionStartTimestamp"
   ]
  },
  {
   "cell_type": "code",
   "execution_count": 14,
   "metadata": {
    "collapsed": true
   },
   "outputs": [],
   "source": [
    "df_main = df_main.drop(['SessionStartDate'], axis=1).rename(index=str, columns={\n",
    "    \"SessionStartTimestamp\": \"sessions_totalnumber\"\n",
    "})"
   ]
  },
  {
   "cell_type": "markdown",
   "metadata": {
    "collapsed": true
   },
   "source": [
    "## ВСЕ СОБЫТИЯ"
   ]
  },
  {
   "cell_type": "markdown",
   "metadata": {},
   "source": [
    "Создадим временный dataframe для всех событий"
   ]
  },
  {
   "cell_type": "code",
   "execution_count": 20,
   "metadata": {
    "collapsed": true,
    "scrolled": true
   },
   "outputs": [],
   "source": [
    "q = '''\n",
    "SELECT\n",
    "    AppVersionName,\n",
    "    OSName,\n",
    "    EventDate,\n",
    "    ReceiveDate,\n",
    "    ReceiveTimestamp,\n",
    "    EventTimestamp,\n",
    "    EventDateTime,\n",
    "    EventName,\n",
    "    DeviceID,\n",
    "    CAST(visitParamExtractRaw(replaceAll(EventParameters, '\"\"', '\"'), 'crmId') AS VARCHAR) AS crmId,\n",
    "    CAST(visitParamExtractRaw(replaceAll(EventParameters, '\"\"', '\"'), 'status') AS VARCHAR) AS authStatus,\n",
    "    CAST(visitParamExtractRaw(replaceAll(EventParameters, '\"\"', '\"'), 'gender') AS VARCHAR) AS gender,\n",
    "    CAST(visitParamExtractRaw(replaceAll(EventParameters, '\"\"', '\"'), 'тип операции') AS VARCHAR) AS operationType,\n",
    "    CAST(visitParamExtractRaw(replaceAll(EventParameters, '\"\"', '\"'), 'сумма операции') AS VARCHAR) AS operationAmount,\n",
    "    CAST(visitParamExtractRaw(replaceAll(EventParameters, '\"\"', '\"'), 'источник') AS VARCHAR) AS sender,\n",
    "    CAST(visitParamExtractRaw(replaceAll(EventParameters, '\"\"', '\"'), 'валюта отправителя') AS VARCHAR) AS senderCurrency,\n",
    "    CAST(visitParamExtractRaw(replaceAll(EventParameters, '\"\"', '\"'), 'получатель') AS VARCHAR) AS recipient,\n",
    "    CAST(visitParamExtractRaw(replaceAll(EventParameters, '\"\"', '\"'), 'валюта получателя') AS VARCHAR) AS recipientCurrency,\n",
    "    CAST(visitParamExtractRaw(replaceAll(EventParameters, '\"\"', '\"'), 'размер комиссии') AS VARCHAR) AS operationFee,\n",
    "    CAST(visitParamExtractRaw(replaceAll(EventParameters, '\"\"', '\"'), 'способ операции') AS VARCHAR) AS operationMethod,\n",
    "    CAST(visitParamExtractRaw(replaceAll(EventParameters, '\"\"', '\"'), 'срок') AS VARCHAR) AS depositTerm,\n",
    "    CAST(visitParamExtractRaw(replaceAll(EventParameters, '\"\"', '\"'), 'валюта') AS VARCHAR) AS depositCurrency,\n",
    "    CAST(visitParamExtractRaw(replaceAll(EventParameters, '\"\"', '\"'), 'ставка') AS VARCHAR) AS depositRate,\n",
    "    CAST(visitParamExtractRaw(replaceAll(EventParameters, '\"\"', '\"'), 'название') AS VARCHAR) AS depositName,\n",
    "    CAST(visitParamExtractRaw(replaceAll(EventParameters, '\"\"', '\"'), 'тип чата') AS VARCHAR) AS chatType,\n",
    "    CAST(visitParamExtractRaw(replaceAll(EventParameters, '\"\"', '\"'), 'операция') AS VARCHAR) AS operation\n",
    "FROM\n",
    "    mobile.events_all\n",
    "WHERE\n",
    "    match(EventName,'продажи|переводы|Переводы|^платежи$')\n",
    "    AND EventDate BETWEEN ''' + ''' \\'''' + \\\n",
    "    query_dates[0] + '''\\' AND ''' + '''\\'''' + \\\n",
    "    query_dates[1] + '''\\' ''''FORMAT TabSeparatedWithNames'''\n",
    "\n",
    "events = get_clickhouse_df(q)"
   ]
  },
  {
   "cell_type": "markdown",
   "metadata": {},
   "source": [
    "## ПЛАТЕЖИ"
   ]
  },
  {
   "cell_type": "markdown",
   "metadata": {},
   "source": [
    "Создадим отдельный dataframe для платежей без добавления платежи, где сумма операция неизвестна (недоступна). Используем сумму операции, так как, если она пустая, то все остальные поля платежа тоже пустые."
   ]
  },
  {
   "cell_type": "code",
   "execution_count": 32,
   "metadata": {},
   "outputs": [],
   "source": [
    "payments_2months = events[(events['EventName'] == 'платежи')]"
   ]
  },
  {
   "cell_type": "code",
   "execution_count": 61,
   "metadata": {},
   "outputs": [],
   "source": [
    "payments_2months = payments_2months.dropna(subset = ['operationAmount'])"
   ]
  },
  {
   "cell_type": "markdown",
   "metadata": {},
   "source": [
    "Добавим данные за май и апрель 2018"
   ]
  },
  {
   "cell_type": "code",
   "execution_count": 62,
   "metadata": {},
   "outputs": [],
   "source": [
    "payments_may = pd.read_csv('../dmitriilin/Downloads/payments_may.csv', sep=',')"
   ]
  },
  {
   "cell_type": "code",
   "execution_count": 63,
   "metadata": {
    "collapsed": true
   },
   "outputs": [],
   "source": [
    "payments_april = pd.read_csv('../dmitriilin/Downloads/payments_april.csv', sep=',')"
   ]
  },
  {
   "cell_type": "code",
   "execution_count": 64,
   "metadata": {
    "collapsed": true
   },
   "outputs": [],
   "source": [
    "frames = [payments_2months, payments_may, payments_april]\n",
    "payments = pd.concat(frames)"
   ]
  },
  {
   "cell_type": "code",
   "execution_count": 65,
   "metadata": {
    "collapsed": true
   },
   "outputs": [],
   "source": [
    "payments.drop(['Unnamed: 0', 'chatType', 'depositCurrency', 'depositName', 'depositRate', 'depositTerm'],\n",
    "              axis=1,\n",
    "              inplace=True)"
   ]
  },
  {
   "cell_type": "markdown",
   "metadata": {},
   "source": [
    "Рассчитаем агрегаты для платежей"
   ]
  },
  {
   "cell_type": "code",
   "execution_count": 66,
   "metadata": {
    "collapsed": true
   },
   "outputs": [],
   "source": [
    "f = {\n",
    "    'operationAmount':['count','sum', 'median', 'min', 'max'], #количество, сумма, медиана, минимум и максимум\n",
    "    'sender': ['nunique'], #кол-во уникальных источников платежей\n",
    "    'recipient': ['nunique'], #кол-во получателей платежей\n",
    "    'operationMethod': ['nunique'] #кол-во способов платежей\n",
    "}\n",
    "\n",
    "# расчитаем агрегаты по каждому DeviceID\n",
    "\n",
    "payments_agg = payments.groupby(['DeviceID']).agg(f)\n",
    "payments_agg.columns = payments_agg.columns.map('_'.join)\n",
    "payments_agg = payments_agg.reset_index().rename(columns={\n",
    "    'operationAmount_count': 'payments_operationAmount_count',\n",
    "    'operationAmount_sum': 'payments_operationAmount_sum',\n",
    "    'operationAmount_median': 'payments_operationAmount_median',\n",
    "    'operationAmount_min': 'payments_operationAmount_min',\n",
    "    'operationAmount_max': 'payments_operationAmount_max',\n",
    "    'sender_nunique': 'payments_sender_nunique',\n",
    "    'recipient_nunique': 'payments_recipient_nunique',\n",
    "    'operationMethod_nunique': 'payments_operationMethod_nunique'\n",
    "})"
   ]
  },
  {
   "cell_type": "markdown",
   "metadata": {},
   "source": [
    "Запишем дни платежей в порядке возрастания массивом в колонку payments_date"
   ]
  },
  {
   "cell_type": "code",
   "execution_count": 67,
   "metadata": {
    "collapsed": true
   },
   "outputs": [],
   "source": [
    "payments_agg['payments_date'] = [sorted(list(set(payments['EventDate'].loc[payments['DeviceID'] == x['DeviceID']])))  \n",
    "    for _, x in payments_agg.iterrows()]"
   ]
  },
  {
   "cell_type": "markdown",
   "metadata": {},
   "source": [
    "Посчитаем среднюю продолжительность перерыва между днями, в течение которых были платежи.\n",
    "Посчитаем количество дней, когда пользователь совершал платежи в приложении."
   ]
  },
  {
   "cell_type": "code",
   "execution_count": 68,
   "metadata": {
    "collapsed": true
   },
   "outputs": [],
   "source": [
    "payments_agg['payments_avgdaylag'] = payments_agg.apply(lambda x: func(x['payments_date']), axis=1)\n",
    "payments_agg['payments_daysactive'] = payments_agg['payments_date'].apply(lambda x: len(x))\n",
    "\n",
    "payments_agg = payments_agg.drop(['payments_date'], axis=1)"
   ]
  },
  {
   "cell_type": "markdown",
   "metadata": {},
   "source": [
    "Запишем данные о платежах в основой dataFrame"
   ]
  },
  {
   "cell_type": "code",
   "execution_count": 69,
   "metadata": {
    "collapsed": true
   },
   "outputs": [],
   "source": [
    "df_main = df_main.join(payments_agg.set_index('DeviceID'), on='DeviceID')"
   ]
  },
  {
   "cell_type": "markdown",
   "metadata": {},
   "source": [
    "Посчитаем кол-во дней, прошешдишх с последнего платежаа пользователя от даты формирования отчета"
   ]
  },
  {
   "cell_type": "code",
   "execution_count": 70,
   "metadata": {
    "collapsed": true
   },
   "outputs": [],
   "source": [
    "temp = payments.groupby('DeviceID')[['EventDate']].max().reset_index()\n",
    "temp['payments_daysSinceLastPayment'] = temp['EventDate'].apply(\n",
    "    lambda x: round((int(round((reportDate - datetime.strptime(x, fmt)).total_seconds() / 60))) / 1440))\n",
    "df_main = df_main.join(temp.drop(['EventDate'], axis=1).set_index('DeviceID'), on='DeviceID')"
   ]
  },
  {
   "cell_type": "markdown",
   "metadata": {},
   "source": [
    "Заполним отсутствующие данные для тех, кто ни разу не совершал платеж в выбранный период. Для признаков avgdaylag & daysSinceLastPayemnt запишем 122 дней (общее количество дней в периоде)."
   ]
  },
  {
   "cell_type": "code",
   "execution_count": 71,
   "metadata": {
    "collapsed": true
   },
   "outputs": [],
   "source": [
    "fillna0 = [\n",
    "    'payments_operationAmount_count',\n",
    "    'payments_operationAmount_sum',\n",
    "    'payments_operationAmount_median',\n",
    "    'payments_operationAmount_min',\n",
    "    'payments_operationAmount_max',\n",
    "    'payments_sender_nunique',\n",
    "    'payments_recipient_nunique',\n",
    "    'payments_operationMethod_nunique',\n",
    "    'payments_daysactive'\n",
    "]\n",
    "\n",
    "fillna122 = ['payments_avgdaylag', 'payments_daysSinceLastPayment']\n",
    "\n",
    "for i in fillna0:\n",
    "    df_main[i].fillna(0, inplace=True)\n",
    "\n",
    "for i in fillna122:\n",
    "    df_main[i].fillna(122, inplace=True)"
   ]
  },
  {
   "cell_type": "markdown",
   "metadata": {},
   "source": [
    "## ПЕРЕВОДЫ"
   ]
  },
  {
   "cell_type": "markdown",
   "metadata": {},
   "source": [
    "Для переводов посчитаем те же агрегаты, что и для платежей"
   ]
  },
  {
   "cell_type": "code",
   "execution_count": 73,
   "metadata": {},
   "outputs": [],
   "source": [
    "fundTransfers_2months = events[(events['EventName'] == 'переводы')]\n",
    "fundTransfers_2months = fundTransfers_2months.dropna(subset = ['sender'])"
   ]
  },
  {
   "cell_type": "code",
   "execution_count": 74,
   "metadata": {
    "collapsed": true
   },
   "outputs": [],
   "source": [
    "fundTransfers_may = pd.read_csv('../dmitriilin/Downloads/transfers_may.csv', sep=',')"
   ]
  },
  {
   "cell_type": "code",
   "execution_count": 75,
   "metadata": {
    "collapsed": true
   },
   "outputs": [],
   "source": [
    "fundTransfers_april = pd.read_csv('../dmitriilin/Downloads/transfers_april.csv', sep=',')"
   ]
  },
  {
   "cell_type": "code",
   "execution_count": 76,
   "metadata": {
    "collapsed": true
   },
   "outputs": [],
   "source": [
    "frames = [fundTransfers_2months, fundTransfers_may, fundTransfers_april]\n",
    "fundTransfers = pd.concat(frames)"
   ]
  },
  {
   "cell_type": "code",
   "execution_count": 77,
   "metadata": {
    "collapsed": true
   },
   "outputs": [],
   "source": [
    "f = {\n",
    "    'operationAmount':['count','sum', 'median', 'min', 'max'], #количество и сумма операций\n",
    "    'operationFee': ['sum'], #сумма комиссий\n",
    "    'sender': ['nunique'], #кол-во источников перевода\n",
    "    'recipient': ['nunique'], #кол-во получателей перевода\n",
    "    'operationMethod': ['nunique'], #кол-во способов перевода\n",
    "    'senderCurrency': ['nunique'], #кол-во валют источника перевода\n",
    "    'recipientCurrency': ['nunique'] #кол-во валют получателя перевода\n",
    "}\n",
    "\n",
    "fundTransfers_agg = fundTransfers.groupby(['DeviceID']).agg(f)\n",
    "fundTransfers_agg.columns = fundTransfers_agg.columns.map('_'.join)\n",
    "fundTransfers_agg = fundTransfers_agg.reset_index().rename(columns={\n",
    "    'operationAmount_count': 'transfers_operationAmount_count',\n",
    "    'operationAmount_sum': 'transfers_operationAmount_sum',\n",
    "    'operationAmount_median': 'transfers_operationAmount_median',\n",
    "    'operationAmount_min': 'transfers_operationAmount_min',\n",
    "    'operationAmount_max': 'transfers_operationAmount_max',\n",
    "    'operationFee_sum': 'transfers_operationFee_sum',\n",
    "    'sender_nunique': 'transfers_sender_nunique',\n",
    "    'recipient_nunique': 'transfers_recipient_nunique',\n",
    "    'operationMethod_nunique': 'transfers_operationMethod_nunique',\n",
    "    'senderCurrency_nunique': 'transfers_senderCurrency_nunique',\n",
    "    'recipientCurrency_nunique': 'transfers_recipientCurrency_nunique'\n",
    "})"
   ]
  },
  {
   "cell_type": "code",
   "execution_count": 78,
   "metadata": {
    "collapsed": true
   },
   "outputs": [],
   "source": [
    "fundTransfers_agg['transfers_date'] = [sorted(list(set(fundTransfers['EventDate'].loc[fundTransfers['DeviceID'] == x['DeviceID']])))  \n",
    "    for _, x in fundTransfers_agg.iterrows()]\n",
    "\n",
    "fundTransfers_agg['transfers_avgdaylag'] = fundTransfers_agg.apply(lambda x: func(x['transfers_date']), axis=1)\n",
    "fundTransfers_agg['transfers_daysactive'] = fundTransfers_agg['transfers_date'].apply(lambda x: len(x))\n",
    "\n",
    "fundTransfers_agg = fundTransfers_agg.drop(['transfers_date'], axis=1)"
   ]
  },
  {
   "cell_type": "code",
   "execution_count": 79,
   "metadata": {
    "collapsed": true
   },
   "outputs": [],
   "source": [
    "df_main = df_main.join(fundTransfers_agg.set_index('DeviceID'), on='DeviceID')"
   ]
  },
  {
   "cell_type": "code",
   "execution_count": 80,
   "metadata": {
    "collapsed": true
   },
   "outputs": [],
   "source": [
    "temp = fundTransfers.groupby('DeviceID')[['EventDate']].max().reset_index()\n",
    "temp['transfers_daysSinceLastTransfer'] = temp['EventDate'].apply(\n",
    "    lambda x: round((int(round((reportDate - datetime.strptime(x, fmt)).total_seconds() / 60))) / 1440))\n",
    "df_main = df_main.join(temp.drop(['EventDate'], axis=1).set_index('DeviceID'), on='DeviceID')"
   ]
  },
  {
   "cell_type": "code",
   "execution_count": 81,
   "metadata": {
    "collapsed": true
   },
   "outputs": [],
   "source": [
    "fillna0 = [\n",
    "    'transfers_operationAmount_count',\n",
    "    'transfers_operationAmount_sum',\n",
    "    'transfers_operationAmount_median',\n",
    "    'transfers_operationAmount_min',\n",
    "    'transfers_operationAmount_max',\n",
    "    'transfers_operationFee_sum',\n",
    "    'transfers_sender_nunique',\n",
    "    'transfers_recipient_nunique',\n",
    "    'transfers_operationMethod_nunique',\n",
    "    'transfers_senderCurrency_nunique',\n",
    "    'transfers_recipientCurrency_nunique',\n",
    "]\n",
    "\n",
    "fillna122 = ['transfers_avgdaylag', 'transfers_daysactive', 'transfers_daysSinceLastTransfer']\n",
    "\n",
    "for i in fillna0:\n",
    "    df_main[i].fillna(0, inplace=True)\n",
    "\n",
    "for i in fillna122:\n",
    "    df_main[i].fillna(122, inplace=True)"
   ]
  },
  {
   "cell_type": "markdown",
   "metadata": {},
   "source": [
    "## СЧИТАЕМ CHURN И ПРОСТАВЛЯЕМ TARGET FEATURE"
   ]
  },
  {
   "cell_type": "code",
   "execution_count": 82,
   "metadata": {
    "collapsed": true
   },
   "outputs": [],
   "source": [
    "q = '''\n",
    "SELECT\n",
    "    DeviceID,\n",
    "    AppVersionName,\n",
    "    OSName,\n",
    "    ReceiveDate,\n",
    "    ReceiveTimestamp,\n",
    "    SessionStartDate,\n",
    "    SessionStartDateTime,\n",
    "    SessionStartTimestamp\n",
    "FROM\n",
    "    mobile.sessions_starts_all\n",
    "WHERE\n",
    "    SessionStartDate BETWEEN ''' + ''' \\'''' + \\\n",
    "    churn_query_dates[0] + '''\\' AND ''' + '''\\'''' + \\\n",
    "    churn_query_dates[1] + '''\\' ''''FORMAT TabSeparatedWithNames'''\n",
    "\n",
    "sessions = get_clickhouse_df(q)\n",
    "\n",
    "\n",
    "# посчитаем кол-во сессий на DeviceID, используя SessionStartTimestamp в качестве ID сессии\n",
    "\n",
    "df_sessions_churn = sessions.groupby('DeviceID')[['SessionStartTimestamp']]\\\n",
    "    .count().reset_index().sort_values(by='SessionStartTimestamp', ascending=False)"
   ]
  },
  {
   "cell_type": "markdown",
   "metadata": {},
   "source": [
    "Посмотрим, какие DeviceID, из тех, что присутствуют в общем dataFrame за период, вернулись в прогнозируем периоде. Если DeviceID найден, ставим \"0\" (неотток), в противном случае - \"1\" (отток)"
   ]
  },
  {
   "cell_type": "code",
   "execution_count": 83,
   "metadata": {},
   "outputs": [],
   "source": [
    "df_main['churned'] = df_main['DeviceID'].isin(df_sessions_churn['DeviceID']).apply(lambda x: 0 if x is True else 1)"
   ]
  },
  {
   "cell_type": "markdown",
   "metadata": {},
   "source": [
    "Как видим, 4-месячный отток составляет порядка 30% процентов."
   ]
  },
  {
   "cell_type": "code",
   "execution_count": 84,
   "metadata": {},
   "outputs": [
    {
     "data": {
      "text/plain": [
       "0   0.67\n",
       "1   0.33\n",
       "Name: churned, dtype: float64"
      ]
     },
     "execution_count": 84,
     "metadata": {},
     "output_type": "execute_result"
    }
   ],
   "source": [
    "df_main['churned'].value_counts(normalize=True)"
   ]
  },
  {
   "cell_type": "markdown",
   "metadata": {},
   "source": [
    "Посмотрим, как признаки из разных категория коррелируют с целевым"
   ]
  },
  {
   "cell_type": "code",
   "execution_count": 85,
   "metadata": {},
   "outputs": [
    {
     "data": {
      "image/png": "[encoded data removed]",
      "text/plain": [
       "<matplotlib.figure.Figure at 0x1029a3390>"
      ]
     },
     "metadata": {},
     "output_type": "display_data"
    }
   ],
   "source": [
    "sns.heatmap(df_main[[f for f in df_main.columns if 'sessions' in f or 'churned' in f]].corr(), annot=True);\n",
    "# sns.heatmap(df_main[[f for f in df_main.columns if 'payments' in f or 'churned' in f]].corr(), annot=True);\n",
    "# sns.heatmap(df_main[[f for f in df_main.columns if 'transfers' in f or 'churned' in f]].corr(), annot=True);"
   ]
  },
  {
   "cell_type": "markdown",
   "metadata": {},
   "source": [
    "Наконец, посмотрим на получившийся dataFrame"
   ]
  },
  {
   "cell_type": "code",
   "execution_count": 86,
   "metadata": {},
   "outputs": [
    {
     "data": {
      "text/html": [
       "<div>\n",
       "<style scoped>\n",
       "    .dataframe tbody tr th:only-of-type {\n",
       "        vertical-align: middle;\n",
       "    }\n",
       "\n",
       "    .dataframe tbody tr th {\n",
       "        vertical-align: top;\n",
       "    }\n",
       "\n",
       "    .dataframe thead th {\n",
       "        text-align: right;\n",
       "    }\n",
       "</style>\n",
       "<table border=\"1\" class=\"dataframe\">\n",
       "  <thead>\n",
       "    <tr style=\"text-align: right;\">\n",
       "      <th></th>\n",
       "      <th>DeviceID</th>\n",
       "      <th>sessions_totalnumber</th>\n",
       "      <th>sessions_avgdaylag</th>\n",
       "      <th>sessions_daysSinceLastSession</th>\n",
       "      <th>sessions_totaldaysactive</th>\n",
       "      <th>payments_operationAmount_count</th>\n",
       "      <th>payments_operationAmount_sum</th>\n",
       "      <th>payments_operationAmount_median</th>\n",
       "      <th>payments_operationAmount_min</th>\n",
       "      <th>payments_operationAmount_max</th>\n",
       "      <th>...</th>\n",
       "      <th>transfers_operationFee_sum</th>\n",
       "      <th>transfers_sender_nunique</th>\n",
       "      <th>transfers_recipient_nunique</th>\n",
       "      <th>transfers_operationMethod_nunique</th>\n",
       "      <th>transfers_senderCurrency_nunique</th>\n",
       "      <th>transfers_recipientCurrency_nunique</th>\n",
       "      <th>transfers_avgdaylag</th>\n",
       "      <th>transfers_daysactive</th>\n",
       "      <th>transfers_daysSinceLastTransfer</th>\n",
       "      <th>churned</th>\n",
       "    </tr>\n",
       "  </thead>\n",
       "  <tbody>\n",
       "    <tr>\n",
       "      <th>185272</th>\n",
       "      <td>17711056090712135034</td>\n",
       "      <td>2429</td>\n",
       "      <td>1.00</td>\n",
       "      <td>1</td>\n",
       "      <td>122</td>\n",
       "      <td>0.00</td>\n",
       "      <td>0.00</td>\n",
       "      <td>0.00</td>\n",
       "      <td>0.00</td>\n",
       "      <td>0.00</td>\n",
       "      <td>...</td>\n",
       "      <td>0.00</td>\n",
       "      <td>0.00</td>\n",
       "      <td>0.00</td>\n",
       "      <td>0.00</td>\n",
       "      <td>0.00</td>\n",
       "      <td>0.00</td>\n",
       "      <td>122.00</td>\n",
       "      <td>122.00</td>\n",
       "      <td>122.00</td>\n",
       "      <td>0</td>\n",
       "    </tr>\n",
       "    <tr>\n",
       "      <th>113760</th>\n",
       "      <td>10870103398657921835</td>\n",
       "      <td>2376</td>\n",
       "      <td>1.02</td>\n",
       "      <td>1</td>\n",
       "      <td>120</td>\n",
       "      <td>0.00</td>\n",
       "      <td>0.00</td>\n",
       "      <td>0.00</td>\n",
       "      <td>0.00</td>\n",
       "      <td>0.00</td>\n",
       "      <td>...</td>\n",
       "      <td>0.00</td>\n",
       "      <td>0.00</td>\n",
       "      <td>0.00</td>\n",
       "      <td>0.00</td>\n",
       "      <td>0.00</td>\n",
       "      <td>0.00</td>\n",
       "      <td>122.00</td>\n",
       "      <td>122.00</td>\n",
       "      <td>122.00</td>\n",
       "      <td>0</td>\n",
       "    </tr>\n",
       "    <tr>\n",
       "      <th>89049</th>\n",
       "      <td>8503699400535621652</td>\n",
       "      <td>2121</td>\n",
       "      <td>2.02</td>\n",
       "      <td>1</td>\n",
       "      <td>61</td>\n",
       "      <td>0.00</td>\n",
       "      <td>0.00</td>\n",
       "      <td>0.00</td>\n",
       "      <td>0.00</td>\n",
       "      <td>0.00</td>\n",
       "      <td>...</td>\n",
       "      <td>0.00</td>\n",
       "      <td>0.00</td>\n",
       "      <td>0.00</td>\n",
       "      <td>0.00</td>\n",
       "      <td>0.00</td>\n",
       "      <td>0.00</td>\n",
       "      <td>122.00</td>\n",
       "      <td>122.00</td>\n",
       "      <td>122.00</td>\n",
       "      <td>0</td>\n",
       "    </tr>\n",
       "    <tr>\n",
       "      <th>17655</th>\n",
       "      <td>1684057822033854533</td>\n",
       "      <td>2031</td>\n",
       "      <td>1.46</td>\n",
       "      <td>1</td>\n",
       "      <td>84</td>\n",
       "      <td>0.00</td>\n",
       "      <td>0.00</td>\n",
       "      <td>0.00</td>\n",
       "      <td>0.00</td>\n",
       "      <td>0.00</td>\n",
       "      <td>...</td>\n",
       "      <td>0.00</td>\n",
       "      <td>0.00</td>\n",
       "      <td>0.00</td>\n",
       "      <td>0.00</td>\n",
       "      <td>0.00</td>\n",
       "      <td>0.00</td>\n",
       "      <td>122.00</td>\n",
       "      <td>122.00</td>\n",
       "      <td>122.00</td>\n",
       "      <td>0</td>\n",
       "    </tr>\n",
       "    <tr>\n",
       "      <th>99239</th>\n",
       "      <td>9476564823644259242</td>\n",
       "      <td>1767</td>\n",
       "      <td>1.00</td>\n",
       "      <td>1</td>\n",
       "      <td>122</td>\n",
       "      <td>0.00</td>\n",
       "      <td>0.00</td>\n",
       "      <td>0.00</td>\n",
       "      <td>0.00</td>\n",
       "      <td>0.00</td>\n",
       "      <td>...</td>\n",
       "      <td>0.00</td>\n",
       "      <td>0.00</td>\n",
       "      <td>0.00</td>\n",
       "      <td>0.00</td>\n",
       "      <td>0.00</td>\n",
       "      <td>0.00</td>\n",
       "      <td>122.00</td>\n",
       "      <td>122.00</td>\n",
       "      <td>122.00</td>\n",
       "      <td>0</td>\n",
       "    </tr>\n",
       "  </tbody>\n",
       "</table>\n",
       "<p>5 rows × 31 columns</p>\n",
       "</div>"
      ],
      "text/plain": [
       "                    DeviceID  sessions_totalnumber  sessions_avgdaylag  \\\n",
       "185272  17711056090712135034                  2429                1.00   \n",
       "113760  10870103398657921835                  2376                1.02   \n",
       "89049    8503699400535621652                  2121                2.02   \n",
       "17655    1684057822033854533                  2031                1.46   \n",
       "99239    9476564823644259242                  1767                1.00   \n",
       "\n",
       "        sessions_daysSinceLastSession  sessions_totaldaysactive  \\\n",
       "185272                              1                       122   \n",
       "113760                              1                       120   \n",
       "89049                               1                        61   \n",
       "17655                               1                        84   \n",
       "99239                               1                       122   \n",
       "\n",
       "        payments_operationAmount_count  payments_operationAmount_sum  \\\n",
       "185272                            0.00                          0.00   \n",
       "113760                            0.00                          0.00   \n",
       "89049                             0.00                          0.00   \n",
       "17655                             0.00                          0.00   \n",
       "99239                             0.00                          0.00   \n",
       "\n",
       "        payments_operationAmount_median  payments_operationAmount_min  \\\n",
       "185272                             0.00                          0.00   \n",
       "113760                             0.00                          0.00   \n",
       "89049                              0.00                          0.00   \n",
       "17655                              0.00                          0.00   \n",
       "99239                              0.00                          0.00   \n",
       "\n",
       "        payments_operationAmount_max   ...     transfers_operationFee_sum  \\\n",
       "185272                          0.00   ...                           0.00   \n",
       "113760                          0.00   ...                           0.00   \n",
       "89049                           0.00   ...                           0.00   \n",
       "17655                           0.00   ...                           0.00   \n",
       "99239                           0.00   ...                           0.00   \n",
       "\n",
       "        transfers_sender_nunique  transfers_recipient_nunique  \\\n",
       "185272                      0.00                         0.00   \n",
       "113760                      0.00                         0.00   \n",
       "89049                       0.00                         0.00   \n",
       "17655                       0.00                         0.00   \n",
       "99239                       0.00                         0.00   \n",
       "\n",
       "        transfers_operationMethod_nunique  transfers_senderCurrency_nunique  \\\n",
       "185272                               0.00                              0.00   \n",
       "113760                               0.00                              0.00   \n",
       "89049                                0.00                              0.00   \n",
       "17655                                0.00                              0.00   \n",
       "99239                                0.00                              0.00   \n",
       "\n",
       "        transfers_recipientCurrency_nunique  transfers_avgdaylag  \\\n",
       "185272                                 0.00               122.00   \n",
       "113760                                 0.00               122.00   \n",
       "89049                                  0.00               122.00   \n",
       "17655                                  0.00               122.00   \n",
       "99239                                  0.00               122.00   \n",
       "\n",
       "        transfers_daysactive  transfers_daysSinceLastTransfer  churned  \n",
       "185272                122.00                           122.00        0  \n",
       "113760                122.00                           122.00        0  \n",
       "89049                 122.00                           122.00        0  \n",
       "17655                 122.00                           122.00        0  \n",
       "99239                 122.00                           122.00        0  \n",
       "\n",
       "[5 rows x 31 columns]"
      ]
     },
     "execution_count": 86,
     "metadata": {},
     "output_type": "execute_result"
    }
   ],
   "source": [
    "df_main.head()"
   ]
  },
  {
   "cell_type": "code",
   "execution_count": 212,
   "metadata": {},
   "outputs": [
    {
     "data": {
      "text/plain": [
       "Index(['DeviceID', 'sessions_totalnumber', 'sessions_avgdaylag',\n",
       "       'sessions_daysSinceLastSession', 'sessions_totaldaysactive',\n",
       "       'payments_operationAmount_count', 'payments_operationAmount_sum',\n",
       "       'payments_operationAmount_median', 'payments_operationAmount_min',\n",
       "       'payments_operationAmount_max', 'payments_sender_nunique',\n",
       "       'payments_recipient_nunique', 'payments_operationMethod_nunique',\n",
       "       'payments_avgdaylag', 'payments_daysactive',\n",
       "       'payments_daysSinceLastPayment', 'transfers_operationAmount_count',\n",
       "       'transfers_operationAmount_sum', 'transfers_operationAmount_median',\n",
       "       'transfers_operationAmount_min', 'transfers_operationAmount_max',\n",
       "       'transfers_operationFee_sum', 'transfers_sender_nunique',\n",
       "       'transfers_recipient_nunique', 'transfers_operationMethod_nunique',\n",
       "       'transfers_senderCurrency_nunique',\n",
       "       'transfers_recipientCurrency_nunique', 'transfers_avgdaylag',\n",
       "       'transfers_daysactive', 'transfers_daysSinceLastTransfer', 'churned',\n",
       "       'sessions_totalnumber_less_2', 'sessions_totalnumber_less_6',\n",
       "       'sessions_totaldaysactive_less_2', 'sessions_avgdaylag_greater_20',\n",
       "       'sessions_avgdaylag_greater_10', 'sessions_avgdaylag_greater_15',\n",
       "       'sessions_totaldaysactive_equalsless_2',\n",
       "       'sessions_daysSinceLastSession_equalsgreater_19',\n",
       "       'sessions_totalnumber_equalsless_5', 'sessions_isPassive',\n",
       "       'payments_isPassive', 'transfers_isPassive'],\n",
       "      dtype='object')"
      ]
     },
     "execution_count": 212,
     "metadata": {},
     "output_type": "execute_result"
    }
   ],
   "source": [
    "df_main.columns"
   ]
  },
  {
   "cell_type": "code",
   "execution_count": 211,
   "metadata": {},
   "outputs": [
    {
     "data": {
      "text/plain": [
       "(193054, 43)"
      ]
     },
     "execution_count": 211,
     "metadata": {},
     "output_type": "execute_result"
    }
   ],
   "source": [
    "df_main.shape"
   ]
  },
  {
   "cell_type": "code",
   "execution_count": 213,
   "metadata": {},
   "outputs": [
    {
     "name": "stdout",
     "output_type": "stream",
     "text": [
      "<class 'pandas.core.frame.DataFrame'>\n",
      "Index: 193054 entries, 185272 to 45952\n",
      "Data columns (total 43 columns):\n",
      "DeviceID                                          193054 non-null uint64\n",
      "sessions_totalnumber                              193054 non-null int64\n",
      "sessions_avgdaylag                                193054 non-null float64\n",
      "sessions_daysSinceLastSession                     193054 non-null int64\n",
      "sessions_totaldaysactive                          193054 non-null int64\n",
      "payments_operationAmount_count                    193054 non-null float64\n",
      "payments_operationAmount_sum                      193054 non-null float64\n",
      "payments_operationAmount_median                   193054 non-null float64\n",
      "payments_operationAmount_min                      193054 non-null float64\n",
      "payments_operationAmount_max                      193054 non-null float64\n",
      "payments_sender_nunique                           193054 non-null float64\n",
      "payments_recipient_nunique                        193054 non-null float64\n",
      "payments_operationMethod_nunique                  193054 non-null float64\n",
      "payments_avgdaylag                                193054 non-null float64\n",
      "payments_daysactive                               193054 non-null float64\n",
      "payments_daysSinceLastPayment                     193054 non-null float64\n",
      "transfers_operationAmount_count                   193054 non-null float64\n",
      "transfers_operationAmount_sum                     193054 non-null float64\n",
      "transfers_operationAmount_median                  193054 non-null float64\n",
      "transfers_operationAmount_min                     193054 non-null float64\n",
      "transfers_operationAmount_max                     193054 non-null float64\n",
      "transfers_operationFee_sum                        193054 non-null float64\n",
      "transfers_sender_nunique                          193054 non-null float64\n",
      "transfers_recipient_nunique                       193054 non-null float64\n",
      "transfers_operationMethod_nunique                 193054 non-null float64\n",
      "transfers_senderCurrency_nunique                  193054 non-null float64\n",
      "transfers_recipientCurrency_nunique               193054 non-null float64\n",
      "transfers_avgdaylag                               193054 non-null float64\n",
      "transfers_daysactive                              193054 non-null float64\n",
      "transfers_daysSinceLastTransfer                   193054 non-null float64\n",
      "churned                                           193054 non-null int64\n",
      "sessions_totalnumber_less_2                       193054 non-null int64\n",
      "sessions_totalnumber_less_6                       193054 non-null int64\n",
      "sessions_totaldaysactive_less_2                   193054 non-null int64\n",
      "sessions_avgdaylag_greater_20                     193054 non-null int64\n",
      "sessions_avgdaylag_greater_10                     193054 non-null int64\n",
      "sessions_avgdaylag_greater_15                     193054 non-null int64\n",
      "sessions_totaldaysactive_equalsless_2             193054 non-null int64\n",
      "sessions_daysSinceLastSession_equalsgreater_19    193054 non-null int64\n",
      "sessions_totalnumber_equalsless_5                 193054 non-null int64\n",
      "sessions_isPassive                                193054 non-null int64\n",
      "payments_isPassive                                193054 non-null int64\n",
      "transfers_isPassive                               193054 non-null int64\n",
      "dtypes: float64(26), int64(16), uint64(1)\n",
      "memory usage: 69.8+ MB\n"
     ]
    }
   ],
   "source": [
    "df_main.info()"
   ]
  },
  {
   "cell_type": "markdown",
   "metadata": {
    "collapsed": true
   },
   "source": [
    "__________________"
   ]
  },
  {
   "cell_type": "markdown",
   "metadata": {},
   "source": [
    "## FEATURE ENGINEERING"
   ]
  },
  {
   "cell_type": "markdown",
   "metadata": {},
   "source": [
    "### Добавим признаки"
   ]
  },
  {
   "cell_type": "markdown",
   "metadata": {},
   "source": [
    "Добавим несколько новых признаков, основывающихся, прежде всего, на сессионых данных пользователей."
   ]
  },
  {
   "cell_type": "code",
   "execution_count": 98,
   "metadata": {
    "collapsed": true
   },
   "outputs": [],
   "source": [
    "# общее количество сессий за 3 месяца меньше 2\n",
    "\n",
    "df_main['sessions_totalnumber_less_2'] = df_main['sessions_totalnumber'].apply(lambda x: 1 if x < 2 else 0)"
   ]
  },
  {
   "cell_type": "code",
   "execution_count": 101,
   "metadata": {
    "collapsed": true
   },
   "outputs": [],
   "source": [
    "# общее количество сессий за 3 месяца меньше 6\n",
    "\n",
    "df_main['sessions_totalnumber_less_6'] = df_main['sessions_totalnumber'].apply(lambda x: 1 if x < 6 else 0)"
   ]
  },
  {
   "cell_type": "code",
   "execution_count": 103,
   "metadata": {
    "collapsed": true
   },
   "outputs": [],
   "source": [
    "# общее количество активных дней за 1 месяц меньше 2\n",
    "\n",
    "df_main['sessions_totaldaysactive_less_2'] = df_main['sessions_totaldaysactive'].apply(lambda x: 1 if x < 2 else 0)"
   ]
  },
  {
   "cell_type": "code",
   "execution_count": 104,
   "metadata": {
    "collapsed": true
   },
   "outputs": [],
   "source": [
    "df_main['sessions_avgdaylag_greater_20'] = df_main['sessions_avgdaylag'].apply(lambda x: 1 if x > 20.5 else 0)\n",
    "df_main['sessions_avgdaylag_greater_10'] = df_main['sessions_avgdaylag'].apply(lambda x: 1 if x > 10 else 0)\n",
    "df_main['sessions_avgdaylag_greater_15'] = df_main['sessions_avgdaylag'].apply(lambda x: 1 if x > 15 else 0)\n",
    "df_main['sessions_totaldaysactive_equalsless_2'] = df_main['sessions_totaldaysactive'].apply(lambda x: 1 if x <= 2 else 0)\n",
    "df_main['sessions_daysSinceLastSession_equalsgreater_19'] = df_main['sessions_daysSinceLastSession'].apply(lambda x: 1 if x >= 19 else 0)\n",
    "df_main['sessions_totalnumber_equalsless_5'] = df_main['sessions_totalnumber'].apply(lambda x: 1 if x <= 5 else 0)"
   ]
  },
  {
   "cell_type": "code",
   "execution_count": 106,
   "metadata": {
    "collapsed": true
   },
   "outputs": [],
   "source": [
    "def label_race(row):\n",
    "    if (row['sessions_avgdaylag_greater_10'] == 1 and row['sessions_totaldaysactive_equalsless_2'] == 1 and\n",
    "        row['sessions_daysSinceLastSession_equalsgreater_19'] == 1 and row['sessions_totalnumber_equalsless_5'] == 1):\n",
    "        return 1\n",
    "    else:\n",
    "        return 0"
   ]
  },
  {
   "cell_type": "code",
   "execution_count": 107,
   "metadata": {
    "collapsed": true
   },
   "outputs": [],
   "source": [
    "df_main['sessions_isPassive'] = df_main.apply(lambda row: label_race (row),axis=1)"
   ]
  },
  {
   "cell_type": "code",
   "execution_count": 111,
   "metadata": {
    "collapsed": true
   },
   "outputs": [],
   "source": [
    "df_main['payments_isPassive'] = df_main['payments_operationAmount_count'].apply(lambda x: 1 if x == 0 else 0)\n",
    "df_main['transfers_isPassive'] = df_main['transfers_operationAmount_count'].apply(lambda x: 1 if x == 0 else 0)"
   ]
  },
  {
   "cell_type": "markdown",
   "metadata": {},
   "source": [
    "Построим кор. матрицу для \"сессионных\" признаков"
   ]
  },
  {
   "cell_type": "code",
   "execution_count": 114,
   "metadata": {},
   "outputs": [
    {
     "data": {
      "image/png": "[encoded data removed]",
      "text/plain": [
       "<matplotlib.figure.Figure at 0x1a3e3dcd30>"
      ]
     },
     "metadata": {},
     "output_type": "display_data"
    }
   ],
   "source": [
    "fig, ax = plt.subplots(figsize=(15,10))\n",
    "# sns.heatmap(df_main.corr());\n",
    "sns.heatmap(df_main[[f for f in df_main.columns if 'sessions' in f or 'churned' in f]].corr(), annot=True);"
   ]
  },
  {
   "cell_type": "markdown",
   "metadata": {},
   "source": [
    "_______"
   ]
  },
  {
   "cell_type": "markdown",
   "metadata": {},
   "source": [
    "## ОБУЧАЕМ МОДЕЛЬ (-И)"
   ]
  },
  {
   "cell_type": "code",
   "execution_count": 115,
   "metadata": {
    "collapsed": true
   },
   "outputs": [],
   "source": [
    "from sklearn.model_selection import train_test_split, GridSearchCV, StratifiedKFold, cross_val_score\n",
    "from sklearn.metrics import accuracy_score\n",
    "from sklearn.tree import DecisionTreeClassifier, DecisionTreeRegressor\n",
    "from sklearn.neighbors import KNeighborsClassifier\n",
    "from sklearn.linear_model import LogisticRegression\n",
    "from sklearn.metrics import confusion_matrix\n",
    "from sklearn.metrics import precision_recall_curve, classification_report\n",
    "from sklearn.metrics import f1_score\n",
    "from collections import Counter"
   ]
  },
  {
   "cell_type": "code",
   "execution_count": 195,
   "metadata": {
    "collapsed": true
   },
   "outputs": [],
   "source": [
    "y = df_main['churned']\n",
    "X = df_main.drop('churned', axis=1)\n",
    "\n",
    "X_train, X_valid, y_train, y_valid = train_test_split(X, y, test_size=.33, random_state=42)\n",
    "\n",
    "# df_small = X_valid"
   ]
  },
  {
   "cell_type": "markdown",
   "metadata": {},
   "source": [
    "Как помним, целевой признак за 4 месяца слегка не сбалансирован (67 и 33). Попробуем выравнить его, используя библиотеку imbalance-learn. Для этого создадим отдельные сеты с сентетическими данными X_train_res / y_train_res"
   ]
  },
  {
   "cell_type": "code",
   "execution_count": 345,
   "metadata": {
    "collapsed": true
   },
   "outputs": [],
   "source": [
    "from imblearn.over_sampling import SMOTE, RandomOverSampler\n",
    "from imblearn.under_sampling import ClusterCentroids"
   ]
  },
  {
   "cell_type": "code",
   "execution_count": 346,
   "metadata": {},
   "outputs": [
    {
     "name": "stdout",
     "output_type": "stream",
     "text": [
      "0    85816\n",
      "1    35937\n",
      "Name: churned, dtype: int64 [85816 85816]\n",
      "[(0, 85816), (1, 85816)]\n"
     ]
    }
   ],
   "source": [
    "sm = SMOTE(random_state=42, kind='borderline2', k_neighbors=3)\n",
    "X_train_res, y_train_res = sm.fit_sample(X_train, y_train)\n",
    "print(y_train.value_counts(), np.bincount(y_train_res))\n",
    "print(sorted(Counter(y_train_res).items()))"
   ]
  },
  {
   "cell_type": "markdown",
   "metadata": {},
   "source": [
    "Сразу подберем оптимальное значение для параметра k_neighbors"
   ]
  },
  {
   "cell_type": "code",
   "execution_count": 309,
   "metadata": {},
   "outputs": [
    {
     "data": {
      "image/png": "[encoded data removed]",
      "text/plain": [
       "<matplotlib.figure.Figure at 0x1a1930fac8>"
      ]
     },
     "metadata": {},
     "output_type": "display_data"
    },
    {
     "name": "stdout",
     "output_type": "stream",
     "text": [
      "CPU times: user 7.05 s, sys: 1.17 s, total: 8.22 s\n",
      "Wall time: 25min 32s\n"
     ]
    }
   ],
   "source": [
    "%%time\n",
    "from sklearn import model_selection\n",
    "from sklearn import metrics\n",
    "\n",
    "from imblearn import over_sampling as os\n",
    "from imblearn import pipeline as pl\n",
    "\n",
    "RANDOM_STATE = 42\n",
    "\n",
    "scorer = metrics.make_scorer(metrics.f1_score)\n",
    "\n",
    "\n",
    "smote = os.SMOTE(random_state=RANDOM_STATE)\n",
    "catboost = model\n",
    "pipeline = pl.make_pipeline(smote, catboost)\n",
    "\n",
    "param_range = list(range(1, 11))\n",
    "\n",
    "train_scores, test_scores = model_selection.validation_curve(\n",
    "    pipeline, X, y, param_name=\"smote__k_neighbors\", param_range=param_range,\n",
    "    cv=3, scoring=scorer, n_jobs=-1)\n",
    "\n",
    "train_scores_mean = np.mean(train_scores, axis=1)\n",
    "train_scores_std = np.std(train_scores, axis=1)\n",
    "test_scores_mean = np.mean(test_scores, axis=1)\n",
    "test_scores_std = np.std(test_scores, axis=1)\n",
    "\n",
    "fig = plt.figure()\n",
    "ax = fig.add_subplot(1, 1, 1)\n",
    "\n",
    "plt.plot(param_range, test_scores_mean, label='SMOTE')\n",
    "ax.fill_between(param_range, test_scores_mean + test_scores_std,\n",
    "                test_scores_mean - test_scores_std, alpha=0.2)\n",
    "idx_max = np.argmax(test_scores_mean)\n",
    "plt.scatter(param_range[idx_max], test_scores_mean[idx_max],\n",
    "            label=r'F1 score: ${0:.2f}\\pm{1:.2f}$'.format(\n",
    "                test_scores_mean[idx_max], test_scores_std[idx_max]))\n",
    "\n",
    "plt.title(\"Validation Curve with SMOTE-catboost\")\n",
    "plt.xlabel(\"k_neighbors\")\n",
    "plt.ylabel(\"F1 score\")\n",
    "\n",
    "# make nice plotting\n",
    "ax.spines['top'].set_visible(False)\n",
    "ax.spines['right'].set_visible(False)\n",
    "ax.get_xaxis().tick_bottom()\n",
    "ax.get_yaxis().tick_left()\n",
    "ax.spines['left'].set_position(('outward', 10))\n",
    "ax.spines['bottom'].set_position(('outward', 10))\n",
    "plt.xlim([1, 10])\n",
    "plt.ylim([0.4, 0.8])\n",
    "\n",
    "plt.legend(loc=\"best\")\n",
    "plt.show()"
   ]
  },
  {
   "cell_type": "markdown",
   "metadata": {},
   "source": [
    "__________________"
   ]
  },
  {
   "cell_type": "markdown",
   "metadata": {},
   "source": [
    "## RANDOM FOREST"
   ]
  },
  {
   "cell_type": "code",
   "execution_count": 147,
   "metadata": {
    "collapsed": true
   },
   "outputs": [],
   "source": [
    "from sklearn.ensemble import RandomForestClassifier"
   ]
  },
  {
   "cell_type": "code",
   "execution_count": 148,
   "metadata": {
    "scrolled": true
   },
   "outputs": [
    {
     "name": "stdout",
     "output_type": "stream",
     "text": [
      "0.8655079818761076\n"
     ]
    }
   ],
   "source": [
    "forest = RandomForestClassifier(n_estimators=100, n_jobs=-1, random_state=42, max_depth=6, max_features=10)\n",
    "print(np.mean(cross_val_score(forest, X_train, y_train, cv=10)))"
   ]
  },
  {
   "cell_type": "code",
   "execution_count": 149,
   "metadata": {},
   "outputs": [
    {
     "data": {
      "text/plain": [
       "RandomForestClassifier(bootstrap=True, class_weight=None, criterion='gini',\n",
       "            max_depth=6, max_features=10, max_leaf_nodes=None,\n",
       "            min_impurity_decrease=0.0, min_impurity_split=None,\n",
       "            min_samples_leaf=1, min_samples_split=2,\n",
       "            min_weight_fraction_leaf=0.0, n_estimators=100, n_jobs=-1,\n",
       "            oob_score=False, random_state=42, verbose=0, warm_start=False)"
      ]
     },
     "execution_count": 149,
     "metadata": {},
     "output_type": "execute_result"
    }
   ],
   "source": [
    "forest.fit(X_train, y_train)"
   ]
  },
  {
   "cell_type": "code",
   "execution_count": 150,
   "metadata": {
    "scrolled": false
   },
   "outputs": [
    {
     "name": "stdout",
     "output_type": "stream",
     "text": [
      "             precision    recall  f1-score   support\n",
      "\n",
      "non-churned       0.90      0.90      0.90     42202\n",
      "    churned       0.80      0.80      0.80     21506\n",
      "\n",
      "avg / total       0.86      0.86      0.86     63708\n",
      "\n"
     ]
    }
   ],
   "source": [
    "print(classification_report(y_valid, forest.predict(X_valid), target_names=['non-churned', 'churned']))"
   ]
  },
  {
   "cell_type": "code",
   "execution_count": 203,
   "metadata": {
    "collapsed": true
   },
   "outputs": [],
   "source": [
    "forest_params = {\n",
    "    'max_depth': list(range(5,40,10)),\n",
    "    'max_features': list(range(5,41,10)) + [40]\n",
    "}\n",
    "\n",
    "forest_grid = GridSearchCV(forest, forest_params, cv=10, n_jobs=-1, verbose=True, scoring='f1') #try randomsearchgrid"
   ]
  },
  {
   "cell_type": "code",
   "execution_count": 204,
   "metadata": {
    "scrolled": true
   },
   "outputs": [
    {
     "name": "stdout",
     "output_type": "stream",
     "text": [
      "Fitting 10 folds for each of 20 candidates, totalling 200 fits\n"
     ]
    },
    {
     "name": "stderr",
     "output_type": "stream",
     "text": [
      "[Parallel(n_jobs=-1)]: Done  42 tasks      | elapsed:  4.0min\n",
      "[Parallel(n_jobs=-1)]: Done 192 tasks      | elapsed: 44.3min\n",
      "[Parallel(n_jobs=-1)]: Done 200 out of 200 | elapsed: 47.5min finished\n"
     ]
    },
    {
     "data": {
      "text/plain": [
       "GridSearchCV(cv=10, error_score='raise',\n",
       "       estimator=RandomForestClassifier(bootstrap=True, class_weight=None, criterion='gini',\n",
       "            max_depth=6, max_features=10, max_leaf_nodes=None,\n",
       "            min_impurity_decrease=0.0, min_impurity_split=None,\n",
       "            min_samples_leaf=1, min_samples_split=2,\n",
       "            min_weight_fraction_leaf=0.0, n_estimators=100, n_jobs=-1,\n",
       "            oob_score=False, random_state=42, verbose=0, warm_start=False),\n",
       "       fit_params={}, iid=True, n_jobs=-1,\n",
       "       param_grid={'max_depth': [5, 15, 25, 35], 'max_features': [5, 15, 25, 35, 40]},\n",
       "       pre_dispatch='2*n_jobs', refit=True, scoring='f1', verbose=True)"
      ]
     },
     "execution_count": 204,
     "metadata": {},
     "output_type": "execute_result"
    }
   ],
   "source": [
    "forest_grid.fit(X_train, y_train)"
   ]
  },
  {
   "cell_type": "code",
   "execution_count": 205,
   "metadata": {},
   "outputs": [
    {
     "data": {
      "text/plain": [
       "({'max_depth': 5, 'max_features': 25}, 0.7977511867871151)"
      ]
     },
     "execution_count": 205,
     "metadata": {},
     "output_type": "execute_result"
    }
   ],
   "source": [
    "forest_grid.best_params_, forest_grid.best_score_"
   ]
  },
  {
   "cell_type": "code",
   "execution_count": 206,
   "metadata": {},
   "outputs": [
    {
     "name": "stdout",
     "output_type": "stream",
     "text": [
      "             precision    recall  f1-score   support\n",
      "\n",
      "non-churned       0.89      0.92      0.90     42202\n",
      "    churned       0.83      0.77      0.80     21506\n",
      "\n",
      "avg / total       0.87      0.87      0.87     63708\n",
      "\n"
     ]
    }
   ],
   "source": [
    "print(classification_report(y_valid, forest_grid.predict(X_valid), target_names=['non-churned', 'churned']))"
   ]
  },
  {
   "cell_type": "markdown",
   "metadata": {},
   "source": [
    "## XGBOOST"
   ]
  },
  {
   "cell_type": "code",
   "execution_count": 194,
   "metadata": {
    "collapsed": true
   },
   "outputs": [],
   "source": [
    "from IPython.display import display\n",
    "\n",
    "import re\n",
    "import pandas as pd\n",
    "import numpy as np\n",
    "import xgboost as xgb\n",
    "\n",
    "from sklearn import preprocessing\n",
    "from sklearn import cross_validation\n",
    "from sklearn.model_selection import KFold\n",
    "from sklearn.feature_selection import RFECV\n",
    "from sklearn.grid_search import GridSearchCV"
   ]
  },
  {
   "cell_type": "code",
   "execution_count": 196,
   "metadata": {
    "collapsed": true
   },
   "outputs": [],
   "source": [
    "X = np.array(df_main.drop('churned', 1))\n",
    "training_features = np.array(df_main.drop('churned', 1).columns)\n",
    "#X = preprocessing.scale(X)  --- not needed for XGboost?\n",
    "y = np.array(df_main['churned'])"
   ]
  },
  {
   "cell_type": "code",
   "execution_count": 197,
   "metadata": {},
   "outputs": [
    {
     "name": "stderr",
     "output_type": "stream",
     "text": [
      "[Parallel(n_jobs=-1)]: Done   5 out of   5 | elapsed:  1.2min finished\n"
     ]
    },
    {
     "name": "stdout",
     "output_type": "stream",
     "text": [
      "[0.01795856 0.01249308 0.03026422 0.15006361 0.50510503]\n",
      "F1: 0.143 stdev: 0.19\n"
     ]
    }
   ],
   "source": [
    "xgb = xgb.XGBClassifier()\n",
    "cv = cross_validation.KFold(len(X), n_folds=20, shuffle=True, random_state=42)\n",
    "scores = cross_validation.cross_val_score(xgb, X, y, cv=5, n_jobs=-1, verbose=True, scoring='f1')\n",
    "xgb.fit(X_train, y_train)\n",
    "print(scores)\n",
    "print('F1: %.3f stdev: %.2f' % (np.mean(np.abs(scores)), np.std(scores)))"
   ]
  },
  {
   "cell_type": "code",
   "execution_count": 198,
   "metadata": {},
   "outputs": [
    {
     "name": "stdout",
     "output_type": "stream",
     "text": [
      "             precision    recall  f1-score   support\n",
      "\n",
      "Non-churned       0.89      0.92      0.90     42202\n",
      "    Churned       0.82      0.77      0.80     21506\n",
      "\n",
      "avg / total       0.87      0.87      0.87     63708\n",
      "\n"
     ]
    }
   ],
   "source": [
    "report = classification_report(y_valid, xgb.predict(X_valid), target_names=['Non-churned', 'Churned'])\n",
    "print(report)"
   ]
  },
  {
   "cell_type": "code",
   "execution_count": 199,
   "metadata": {},
   "outputs": [
    {
     "name": "stdout",
     "output_type": "stream",
     "text": [
      "Fitting 5 folds for each of 56 candidates, totalling 280 fits\n"
     ]
    },
    {
     "name": "stderr",
     "output_type": "stream",
     "text": [
      "[Parallel(n_jobs=-1)]: Done  42 tasks      | elapsed:  5.5min\n",
      "[Parallel(n_jobs=-1)]: Done 192 tasks      | elapsed: 21.7min\n",
      "[Parallel(n_jobs=-1)]: Done 280 out of 280 | elapsed: 31.4min finished\n"
     ]
    },
    {
     "name": "stdout",
     "output_type": "stream",
     "text": [
      "{'learning_rate': 0.1, 'reg_lambda': 1.0}\n",
      "0.7995659727017969\n"
     ]
    }
   ],
   "source": [
    "xgbgridparams = {'learning_rate':[0, 0.001, 0.002, 0.004, 0.006, 0.008, 0.010, 0.1], \n",
    "       'reg_lambda':[0, 0.1, 0.2, 0.4, 0.6, 0.8, 1.0]}\n",
    "\n",
    "xgb_grid = GridSearchCV(\n",
    "    estimator=xgb,\n",
    "    param_grid=xgbgridparams,\n",
    "    scoring='f1',\n",
    "    n_jobs=-1,\n",
    "    refit=True,\n",
    "    verbose=True,\n",
    "    cv=5)\n",
    "xgb_grid.fit(X_train,y_train)\n",
    "\n",
    "print(xgb_grid.best_params_)\n",
    "print(xgb_grid.best_score_)"
   ]
  },
  {
   "cell_type": "code",
   "execution_count": 200,
   "metadata": {
    "scrolled": true
   },
   "outputs": [
    {
     "name": "stdout",
     "output_type": "stream",
     "text": [
      "             precision    recall  f1-score   support\n",
      "\n",
      "Non-churned       0.89      0.92      0.90     42202\n",
      "    Churned       0.82      0.77      0.80     21506\n",
      "\n",
      "avg / total       0.87      0.87      0.87     63708\n",
      "\n"
     ]
    }
   ],
   "source": [
    "report = classification_report(y_valid, xgb_grid.predict(X_valid), target_names=['Non-churned', 'Churned'])\n",
    "print(report)"
   ]
  },
  {
   "cell_type": "markdown",
   "metadata": {},
   "source": [
    "## GradientBoosting (LIGHT)"
   ]
  },
  {
   "cell_type": "code",
   "execution_count": 187,
   "metadata": {
    "collapsed": true
   },
   "outputs": [],
   "source": [
    "import lightgbm as lgb\n",
    "\n",
    "# Set params\n",
    "# Scores ~0.784 (without tuning and early stopping)\n",
    "params = {\n",
    "    'boosting_type': 'gbdt',\n",
    "    'max_depth' : -1,\n",
    "    'objective': 'binary',\n",
    "    'nthread': 3, # Updated from nthread\n",
    "    'num_leaves': 34,\n",
    "    'learning_rate': 0.1,\n",
    "    'max_bin': 1024,\n",
    "    'subsample_for_bin': 200,\n",
    "    'subsample': 1,\n",
    "    'subsample_freq': 1,\n",
    "    'colsample_bytree': 0.8,\n",
    "    'reg_alpha': 5,\n",
    "    'reg_lambda': 10,\n",
    "    'min_split_gain': 0.5,\n",
    "    'min_child_weight': 1,\n",
    "    'min_child_samples': 5,\n",
    "    'scale_pos_weight': 1,\n",
    "    'num_class' : 1,\n",
    "    'metric' : 'binary_logloss',\n",
    "    'num_iterations' : 200\n",
    "}\n",
    "\n",
    "gridParams = {\n",
    "    'learning_rate': [0.1],\n",
    "    'n_estimators': [40],\n",
    "    'num_leaves': [31],\n",
    "    'boosting_type' : ['gbdt'],\n",
    "    'objective' : ['binary'],\n",
    "    'random_state' : [42], # Updated from 'seed'\n",
    "    'colsample_bytree' : [0.65, 0.66],\n",
    "    'subsample' : [0.7,0.75],\n",
    "    'reg_alpha' : [1.2, 1.4],\n",
    "    'reg_lambda' : [1.2, 1.4]\n",
    "}\n",
    "\n",
    "lgbm = lgb.LGBMClassifier(\n",
    "    boosting_type= params['boosting_type'],\n",
    "    objective = params['objective'],\n",
    "    n_jobs = -1, # Updated from 'nthread'\n",
    "    silent = True,\n",
    "    max_depth = params['max_depth'],\n",
    "    max_bin = params['max_bin'],\n",
    "    subsample_for_bin = params['subsample_for_bin'],\n",
    "    subsample = params['subsample'],\n",
    "    subsample_freq = params['subsample_freq'],\n",
    "    min_split_gain = params['min_split_gain'],\n",
    "    min_child_weight = params['min_child_weight'],\n",
    "    min_child_samples = params['min_child_samples'],\n",
    "    scale_pos_weight = params['scale_pos_weight'],\n",
    "    learning_rate = params['learning_rate'],\n",
    "    num_iterations=params['num_iterations'],\n",
    "    num_leaves=params['num_leaves']\n",
    ")"
   ]
  },
  {
   "cell_type": "code",
   "execution_count": 188,
   "metadata": {},
   "outputs": [
    {
     "data": {
      "text/plain": [
       "LGBMClassifier(boosting_type='gbdt', class_weight=None, colsample_bytree=1.0,\n",
       "        learning_rate=0.1, max_bin=1024, max_depth=-1, min_child_samples=5,\n",
       "        min_child_weight=1, min_split_gain=0.5, n_estimators=100,\n",
       "        n_jobs=-1, num_iterations=200, num_leaves=34, objective='binary',\n",
       "        random_state=None, reg_alpha=0.0, reg_lambda=0.0,\n",
       "        scale_pos_weight=1, silent=True, subsample=1,\n",
       "        subsample_for_bin=200, subsample_freq=1)"
      ]
     },
     "execution_count": 188,
     "metadata": {},
     "output_type": "execute_result"
    }
   ],
   "source": [
    "lgbm.fit(X_train, y_train)"
   ]
  },
  {
   "cell_type": "code",
   "execution_count": 189,
   "metadata": {},
   "outputs": [
    {
     "name": "stdout",
     "output_type": "stream",
     "text": [
      "             precision    recall  f1-score   support\n",
      "\n",
      "Non-churned       0.89      0.91      0.90     42202\n",
      "    Churned       0.82      0.78      0.80     21506\n",
      "\n",
      "avg / total       0.87      0.87      0.87     63708\n",
      "\n"
     ]
    }
   ],
   "source": [
    "# F1 score для litegb - параметры НЕоптимизированы\n",
    "\n",
    "report = classification_report(y_valid, lgbm.predict(X_valid), target_names=['Non-churned', 'Churned'])\n",
    "print(report)"
   ]
  },
  {
   "cell_type": "code",
   "execution_count": 190,
   "metadata": {},
   "outputs": [
    {
     "name": "stdout",
     "output_type": "stream",
     "text": [
      "Fitting 5 folds for each of 16 candidates, totalling 80 fits\n"
     ]
    },
    {
     "name": "stderr",
     "output_type": "stream",
     "text": [
      "[Parallel(n_jobs=-1)]: Done  42 tasks      | elapsed:  3.2min\n",
      "[Parallel(n_jobs=-1)]: Done  80 out of  80 | elapsed:  6.0min finished\n"
     ]
    },
    {
     "name": "stdout",
     "output_type": "stream",
     "text": [
      "CPU times: user 18.5 s, sys: 1.84 s, total: 20.3 s\n",
      "Wall time: 6min 1s\n"
     ]
    }
   ],
   "source": [
    "%%time\n",
    "lgbm_grid = GridSearchCV(lgbm, gridParams,\n",
    "                    verbose=True,\n",
    "                    cv=5,\n",
    "                    n_jobs=-1, scoring='f1')\n",
    "lgbm_grid.fit(X_train, y_train)"
   ]
  },
  {
   "cell_type": "code",
   "execution_count": 191,
   "metadata": {},
   "outputs": [
    {
     "data": {
      "text/plain": [
       "({'boosting_type': 'gbdt',\n",
       "  'colsample_bytree': 0.65,\n",
       "  'learning_rate': 0.1,\n",
       "  'n_estimators': 40,\n",
       "  'num_leaves': 31,\n",
       "  'objective': 'binary',\n",
       "  'random_state': 42,\n",
       "  'reg_alpha': 1.2,\n",
       "  'reg_lambda': 1.2,\n",
       "  'subsample': 0.75},\n",
       " 0.8005829365766747)"
      ]
     },
     "execution_count": 191,
     "metadata": {},
     "output_type": "execute_result"
    }
   ],
   "source": [
    "lgbm_grid.best_params_, lgbm_grid.best_score_"
   ]
  },
  {
   "cell_type": "code",
   "execution_count": 192,
   "metadata": {},
   "outputs": [
    {
     "name": "stdout",
     "output_type": "stream",
     "text": [
      "             precision    recall  f1-score   support\n",
      "\n",
      "Non-churned       0.89      0.91      0.90     42202\n",
      "    Churned       0.82      0.78      0.80     21506\n",
      "\n",
      "avg / total       0.87      0.87      0.87     63708\n",
      "\n"
     ]
    }
   ],
   "source": [
    "# F1 score для litegb - параметры НЕоптимизированы\n",
    "\n",
    "report = classification_report(y_valid, lgbm.predict(X_valid), target_names=['Non-churned', 'Churned'])\n",
    "print(report)"
   ]
  },
  {
   "cell_type": "code",
   "execution_count": 193,
   "metadata": {},
   "outputs": [
    {
     "name": "stdout",
     "output_type": "stream",
     "text": [
      "             precision    recall  f1-score   support\n",
      "\n",
      "Non-churned       0.89      0.91      0.90     42202\n",
      "    Churned       0.82      0.78      0.80     21506\n",
      "\n",
      "avg / total       0.87      0.87      0.87     63708\n",
      "\n"
     ]
    }
   ],
   "source": [
    "# F1 score для litegb - параметры оптимизированы\n",
    "\n",
    "report = classification_report(y_valid, lgbm_grid.predict(X_valid), target_names=['Non-churned', 'Churned'])\n",
    "print(report)"
   ]
  },
  {
   "cell_type": "markdown",
   "metadata": {},
   "source": [
    "## CATBOOST"
   ]
  },
  {
   "cell_type": "code",
   "execution_count": 219,
   "metadata": {
    "_cell_guid": "24967b57-732b-7180-bfd5-005beff75974",
    "_uuid": "d3b5087c7fab5542cac722ad7ebc52e0244d0559",
    "collapsed": true
   },
   "outputs": [],
   "source": [
    "from catboost import CatBoostClassifier, cv, Pool"
   ]
  },
  {
   "cell_type": "code",
   "execution_count": 220,
   "metadata": {
    "collapsed": true
   },
   "outputs": [],
   "source": [
    "model = CatBoostClassifier(\n",
    "    custom_loss=['F1'],\n",
    "    random_seed=42,\n",
    "    logging_level='Silent'\n",
    ")"
   ]
  },
  {
   "cell_type": "code",
   "execution_count": 221,
   "metadata": {
    "collapsed": true
   },
   "outputs": [],
   "source": [
    "# np.where(X.dtypes != np.float)[0]"
   ]
  },
  {
   "cell_type": "code",
   "execution_count": 222,
   "metadata": {
    "scrolled": false
   },
   "outputs": [
    {
     "name": "stdout",
     "output_type": "stream",
     "text": [
      "Learning rate set to 0.130013\n"
     ]
    }
   ],
   "source": [
    "model.fit(\n",
    "    X_train, y_train,\n",
    "    eval_set=(X_valid, y_valid),\n",
    "    plot=False\n",
    ");"
   ]
  },
  {
   "cell_type": "code",
   "execution_count": 223,
   "metadata": {},
   "outputs": [
    {
     "name": "stdout",
     "output_type": "stream",
     "text": [
      "Learning rate set to 0.066243\n"
     ]
    }
   ],
   "source": [
    "cv_data = cv(\n",
    "    Pool(X, y),\n",
    "    model.get_params(),\n",
    "    plot=False\n",
    ")"
   ]
  },
  {
   "cell_type": "code",
   "execution_count": 224,
   "metadata": {},
   "outputs": [
    {
     "name": "stdout",
     "output_type": "stream",
     "text": [
      "Best validation F1 score: 0.80±0.00 on step 190\n"
     ]
    }
   ],
   "source": [
    "print('Best validation F1 score: {:.2f}±{:.2f} on step {}'.format(\n",
    "    np.max(cv_data['test-F1-mean']),\n",
    "    cv_data['test-F1-std'][np.argmax(cv_data['test-F1-mean'])],\n",
    "    np.argmax(cv_data['test-F1-mean'])\n",
    "))"
   ]
  },
  {
   "cell_type": "code",
   "execution_count": 225,
   "metadata": {},
   "outputs": [
    {
     "name": "stdout",
     "output_type": "stream",
     "text": [
      "Precise validation F1 score: 0.8021206213855446\n"
     ]
    }
   ],
   "source": [
    "print('Precise validation F1 score: {}'.format(np.max(cv_data['test-F1-mean'])))"
   ]
  },
  {
   "cell_type": "code",
   "execution_count": 226,
   "metadata": {},
   "outputs": [
    {
     "name": "stdout",
     "output_type": "stream",
     "text": [
      "Learning rate set to 0.123018\n",
      "Random seed assigned for this model: 155474316006478\n"
     ]
    }
   ],
   "source": [
    "model_without_seed = CatBoostClassifier(iterations=500, logging_level='Silent')\n",
    "model_without_seed.fit(X_train, y_train)\n",
    "\n",
    "print('Random seed assigned for this model: {}'.format(model_without_seed.random_seed_))"
   ]
  },
  {
   "cell_type": "code",
   "execution_count": 227,
   "metadata": {
    "collapsed": true
   },
   "outputs": [],
   "source": [
    "params = {\n",
    "    'iterations': 200,\n",
    "    'learning_rate': 0.1,\n",
    "    'eval_metric': 'F1',\n",
    "    'random_seed': 42,\n",
    "    'logging_level': 'Silent'\n",
    "}\n",
    "train_pool = Pool(X_train, y_train)\n",
    "validate_pool = Pool(X_valid, y_valid)"
   ]
  },
  {
   "cell_type": "code",
   "execution_count": 228,
   "metadata": {},
   "outputs": [
    {
     "name": "stdout",
     "output_type": "stream",
     "text": [
      "Best model validation F1: 0.8028\n"
     ]
    }
   ],
   "source": [
    "cb = CatBoostClassifier(**params)\n",
    "cb.fit(train_pool, eval_set=validate_pool)\n",
    "\n",
    "# best_model_params = params.copy()\n",
    "# best_model_params.update({\n",
    "#     'use_best_model': True\n",
    "# })\n",
    "# best_model = CatBoostClassifier(**best_model_params)\n",
    "# best_model.fit(train_pool, eval_set=validate_pool);\n",
    "\n",
    "print('Best model validation F1: {:.4}'.format(\n",
    "#     accuracy_score(y_valid, best_model.predict(X_valid))\n",
    "    f1_score(y_valid, cb.predict(X_valid))\n",
    "))"
   ]
  },
  {
   "cell_type": "markdown",
   "metadata": {},
   "source": [
    "### Пробуем Early Stopping"
   ]
  },
  {
   "cell_type": "code",
   "execution_count": 229,
   "metadata": {
    "scrolled": true
   },
   "outputs": [
    {
     "name": "stdout",
     "output_type": "stream",
     "text": [
      "CPU times: user 30.1 s, sys: 1.02 s, total: 31.1 s\n",
      "Wall time: 9.57 s\n"
     ]
    }
   ],
   "source": [
    "%%time\n",
    "params.update({\n",
    "    'od_type': 'Iter',\n",
    "    'od_wait': 50\n",
    "})\n",
    "cb_early_stopping = CatBoostClassifier(**params)\n",
    "cb_early_stopping.fit(train_pool, eval_set=validate_pool);"
   ]
  },
  {
   "cell_type": "code",
   "execution_count": 230,
   "metadata": {},
   "outputs": [
    {
     "name": "stdout",
     "output_type": "stream",
     "text": [
      "Early-stopped best model tree count: 73\n",
      "Early-stopped best model validation F1: 0.8028\n"
     ]
    }
   ],
   "source": [
    "print('Early-stopped best model tree count: {}'.format(cb.tree_count_))\n",
    "print('Early-stopped best model validation F1: {:.4}'.format(\n",
    "    f1_score(y_valid, cb_early_stopping.predict(X_valid))\n",
    "))"
   ]
  },
  {
   "cell_type": "code",
   "execution_count": 231,
   "metadata": {},
   "outputs": [
    {
     "data": {
      "text/plain": [
       "({'eval_metric': 'F1',\n",
       "  'iterations': 200,\n",
       "  'learning_rate': 0.1,\n",
       "  'logging_level': 'Silent',\n",
       "  'loss_function': 'Logloss',\n",
       "  'od_type': 'Iter',\n",
       "  'od_wait': 50,\n",
       "  'random_seed': 42},\n",
       " {'eval_metric': 'F1',\n",
       "  'iterations': 200,\n",
       "  'learning_rate': 0.1,\n",
       "  'logging_level': 'Silent',\n",
       "  'loss_function': 'Logloss',\n",
       "  'random_seed': 42})"
      ]
     },
     "execution_count": 231,
     "metadata": {},
     "output_type": "execute_result"
    }
   ],
   "source": [
    "cb_early_stopping.get_params(), cb.get_params()"
   ]
  },
  {
   "cell_type": "markdown",
   "metadata": {},
   "source": [
    "### Пробуем оптимизировать параметры"
   ]
  },
  {
   "cell_type": "code",
   "execution_count": 232,
   "metadata": {
    "collapsed": true
   },
   "outputs": [],
   "source": [
    "import  hyperopt\n",
    "\n",
    "def hyperopt_objective(params):\n",
    "    model = CatBoostClassifier(\n",
    "        l2_leaf_reg=int(params['l2_leaf_reg']),\n",
    "        learning_rate=params['learning_rate'],\n",
    "        iterations=100, #make 50\n",
    "        eval_metric='F1',\n",
    "        random_seed=42,\n",
    "        logging_level='Silent'\n",
    "    )\n",
    "    \n",
    "    cv_data = cv(\n",
    "        Pool(X, y),\n",
    "        model.get_params()\n",
    "    )\n",
    "    best_accuracy = np.max(cv_data['test-F1-mean'])\n",
    "    \n",
    "    return 1 - best_accuracy # as hyperopt minimises"
   ]
  },
  {
   "cell_type": "code",
   "execution_count": 233,
   "metadata": {},
   "outputs": [
    {
     "name": "stdout",
     "output_type": "stream",
     "text": [
      "{'l2_leaf_reg': 3.0, 'learning_rate': 0.3320996532481362}\n"
     ]
    }
   ],
   "source": [
    "from numpy.random import RandomState\n",
    "\n",
    "params_space = {\n",
    "    'l2_leaf_reg': hyperopt.hp.qloguniform('l2_leaf_reg', 0, 2, 1),\n",
    "    'learning_rate': hyperopt.hp.uniform('learning_rate', 1e-3, 5e-1)\n",
    "}\n",
    "\n",
    "trials = hyperopt.Trials()\n",
    "\n",
    "best = hyperopt.fmin(\n",
    "    hyperopt_objective,\n",
    "    space=params_space,\n",
    "    algo=hyperopt.tpe.suggest,\n",
    "    max_evals=50,\n",
    "    trials=trials,\n",
    "    rstate=RandomState(123)\n",
    ")\n",
    "\n",
    "print(best)"
   ]
  },
  {
   "cell_type": "code",
   "execution_count": 234,
   "metadata": {},
   "outputs": [],
   "source": [
    "model = CatBoostClassifier(\n",
    "    l2_leaf_reg=int(best['l2_leaf_reg']),\n",
    "    learning_rate=best['learning_rate'],\n",
    "    iterations=100,\n",
    "    eval_metric='F1',\n",
    "    random_seed=42,\n",
    "    logging_level='Silent',\n",
    "    use_best_model=True\n",
    ")\n",
    "cv_data = cv(Pool(X, y), model.get_params())"
   ]
  },
  {
   "cell_type": "code",
   "execution_count": 235,
   "metadata": {},
   "outputs": [
    {
     "name": "stdout",
     "output_type": "stream",
     "text": [
      "Precise validation F1 score: 0.8021127156643941\n"
     ]
    }
   ],
   "source": [
    "print('Precise validation F1 score: {}'.format(np.max(cv_data['test-F1-mean'])))\n"
   ]
  },
  {
   "cell_type": "code",
   "execution_count": 236,
   "metadata": {},
   "outputs": [
    {
     "name": "stdout",
     "output_type": "stream",
     "text": [
      "             precision    recall  f1-score   support\n",
      "\n",
      "Non-churned       0.89      0.91      0.90     42202\n",
      "    Churned       0.82      0.79      0.80     21506\n",
      "\n",
      "avg / total       0.87      0.87      0.87     63708\n",
      "\n"
     ]
    }
   ],
   "source": [
    "# F1 score для CatBoost - параметры НЕоптимизированы\n",
    "\n",
    "report = classification_report(y_valid, cb.predict(X_valid), target_names=['Non-churned', 'Churned'])\n",
    "print(report)"
   ]
  },
  {
   "cell_type": "code",
   "execution_count": 237,
   "metadata": {
    "collapsed": true
   },
   "outputs": [],
   "source": [
    "model.fit(train_pool, eval_set=validate_pool);"
   ]
  },
  {
   "cell_type": "code",
   "execution_count": 238,
   "metadata": {},
   "outputs": [
    {
     "name": "stdout",
     "output_type": "stream",
     "text": [
      "             precision    recall  f1-score   support\n",
      "\n",
      "Non-churned       0.89      0.91      0.90     42202\n",
      "    Churned       0.82      0.79      0.80     21506\n",
      "\n",
      "avg / total       0.87      0.87      0.87     63708\n",
      "\n"
     ]
    }
   ],
   "source": [
    "# F1 score для CatBoost - параметры оптимизированы\n",
    "\n",
    "report = classification_report(y_valid, model.predict(X_valid), target_names=['Non-churned', 'Churned'])\n",
    "print(report)"
   ]
  },
  {
   "cell_type": "markdown",
   "metadata": {},
   "source": [
    "### CONFUSION MATRIX ДЛЯ LGBM"
   ]
  },
  {
   "cell_type": "code",
   "execution_count": 239,
   "metadata": {
    "scrolled": false
   },
   "outputs": [
    {
     "name": "stdout",
     "output_type": "stream",
     "text": [
      "Confusion matrix, without normalization\n",
      "[[38560  3642]\n",
      " [ 4688 16818]]\n"
     ]
    },
    {
     "data": {
      "image/png": "[encoded data removed]",
      "text/plain": [
       "<matplotlib.figure.Figure at 0x1a4cf83588>"
      ]
     },
     "metadata": {},
     "output_type": "display_data"
    }
   ],
   "source": [
    "# Воспользуемся функцией построения матрицы ошибок из документации sklearn\n",
    "\n",
    "def plot_confusion_matrix(cm, classes,\n",
    "                          normalize=False,\n",
    "                          title='Confusion matrix',\n",
    "                          cmap=plt.cm.Blues):\n",
    "    \"\"\"\n",
    "    This function prints and plots the confusion matrix.\n",
    "    Normalization can be applied by setting `normalize=True`.\n",
    "    \"\"\"\n",
    "    plt.imshow(cm, interpolation='nearest', cmap=cmap)\n",
    "    plt.title(title)\n",
    "    plt.colorbar()\n",
    "    tick_marks = np.arange(len(classes))\n",
    "    plt.xticks(tick_marks, classes, rotation=45)\n",
    "    plt.yticks(tick_marks, classes)\n",
    "\n",
    "    if normalize:\n",
    "        cm = cm.astype('float') / cm.sum(axis=1)[:, np.newaxis]\n",
    "        print(\"Normalized confusion matrix\")\n",
    "    else:\n",
    "        print('Confusion matrix, without normalization')\n",
    "\n",
    "    print(cm)\n",
    "\n",
    "    thresh = cm.max() / 2.\n",
    "    for i, j in itertools.product(range(cm.shape[0]), range(cm.shape[1])):\n",
    "        plt.text(j, i, cm[i, j],\n",
    "                 horizontalalignment=\"center\",\n",
    "                 color=\"white\" if cm[i, j] > thresh else \"black\")\n",
    "\n",
    "    plt.tight_layout()\n",
    "    plt.ylabel('True label')\n",
    "    plt.xlabel('Predicted label')\n",
    "\n",
    "font = {'size' : 18}\n",
    "\n",
    "plt.rc('font', **font)\n",
    "\n",
    "cnf_matrix = confusion_matrix(y_valid, lgbm.predict(X_valid))\n",
    "plt.figure(figsize=(10, 8))\n",
    "plot_confusion_matrix(cnf_matrix, classes=['Non-churned', 'Churned'],\n",
    "                      title='Confusion matrix')\n",
    "# plt.savefig(\"conf_matrix.png\")\n",
    "plt.show()"
   ]
  },
  {
   "cell_type": "code",
   "execution_count": null,
   "metadata": {
    "collapsed": true
   },
   "outputs": [],
   "source": []
  }
 ],
 "metadata": {
  "kernelspec": {
   "display_name": "Python 3",
   "language": "python",
   "name": "python3"
  },
  "language_info": {
   "codemirror_mode": {
    "name": "ipython",
    "version": 3
   },
   "file_extension": ".py",
   "mimetype": "text/x-python",
   "name": "python",
   "nbconvert_exporter": "python",
   "pygments_lexer": "ipython3",
   "version": "3.6.3"
  }
 },
 "nbformat": 4,
 "nbformat_minor": 2
}

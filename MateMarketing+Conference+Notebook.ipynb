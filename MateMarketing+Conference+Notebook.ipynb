{
 "cells": [
  {
   "cell_type": "markdown",
   "metadata": {},
   "source": [
    "# Ak Bars Online (mobile) churn rate prediction\n",
    "\n",
    "### Источник данных\n",
    "\n",
    "Для составления исходного dataFrame (df_main) используются сессионные данные, доступные в приложении AppMetrica, а также данные о платежах и переводах, отправляемых разработчиками в AppMetrica.\n",
    "\n",
    "Количество пользователей считается по уникальному идентификатору устройства, который присваивается AppMetrica (параметр DeviceID)."
   ]
  },
  {
   "cell_type": "markdown",
   "metadata": {},
   "source": [
    "### Импорт библиотек + вспомогательные функции для работы с данными Clickhouse"
   ]
  },
  {
   "cell_type": "code",
   "execution_count": 1,
   "metadata": {
    "collapsed": true
   },
   "outputs": [],
   "source": [
    "HOST = 'http://localhost:8123'\n",
    "import requests\n",
    "import pandas as pd\n",
    "import numpy as np\n",
    "import seaborn as sns\n",
    "try:\n",
    "    from StringIO import StringIO\n",
    "except ImportError:\n",
    "    from io import StringIO\n",
    "import seaborn as sns\n",
    "import matplotlib\n",
    "import matplotlib.pyplot as plt\n",
    "import datetime\n",
    "%matplotlib inline\n",
    "\n",
    "# убираем scientific notation\n",
    "pd.options.display.float_format = '{:.2f}'.format\n",
    "\n",
    "# отключим предупреждения\n",
    "import warnings\n",
    "warnings.filterwarnings('ignore')\n",
    "\n",
    "import itertools\n",
    "from pylab import rcParams\n",
    "rcParams['figure.figsize'] = 12, 8\n",
    "\n",
    "# возвращаем результат из DataBase\n",
    "def get_clickhouse_data(query, host = HOST, connection_timeout = 1500):\n",
    "    r = requests.post(host, params = {'query': query}, timeout = connection_timeout)\n",
    "    if r.status_code == 200:\n",
    "        return r.text\n",
    "    else:\n",
    "        raise ValueError(r.text)\n",
    "        \n",
    "# преобразуем полученные данные в pandas DataFrame       \n",
    "def get_clickhouse_df(query, host = HOST, connection_timeout = 1500):\n",
    "    data = get_clickhouse_data(query, host, connection_timeout) \n",
    "    df = pd.read_csv(StringIO(data), sep = '\\t')\n",
    "    return df\n",
    "\n",
    "# константы для работы с временными диапазонами\n",
    "\n",
    "# вчерашняя дата\n",
    "yesterday = [(datetime.date.today() - datetime.timedelta(days=2)).strftime('%Y-%m-%d'),\n",
    "            (datetime.date.today() - datetime.timedelta(days=2)).strftime('%Y-%m-%d')]\n",
    "# последние 7 дней (без учета текущей даты)\n",
    "week_dates = [(datetime.date.today() - datetime.timedelta(days=7)).strftime('%Y-%m-%d'), \\\n",
    "(datetime.date.today() - datetime.timedelta(days=1)).strftime('%Y-%m-%d')]\n",
    "# текущий месяц (без учета текущей даты)\n",
    "month_dates = [datetime.date.today().strftime('%Y-%m-') + '01', \\\n",
    "(datetime.date.today() - datetime.timedelta(days=1)).strftime('%Y-%m-%d')]\n",
    "\n",
    "# выставляем даты для отчета\n",
    "# query_dates = ['2018-06-01', '2018-07-31'];\n",
    "query_dates = ['2018-09-03', '2018-10-03'];\n",
    "\n",
    "# выставляем даты для целевого признака по оттоку\n",
    "churn_query_dates = ['2018-08-01', '2018-08-31'];\n",
    "\n",
    "# формат даты\n",
    "fmt = '%Y-%m-%d'\n",
    "\n",
    "# функция для расчета признаков, связанных с сессиями пользователей (например, avgdaylag (средний кол-во дней между сессиями))\n",
    "def func(a):\n",
    "    i1, i2 = itertools.tee(iter(a))\n",
    "    next(i2)\n",
    "    res = [(int(round((datetime.strptime(y, fmt) - datetime.strptime(x, fmt)).total_seconds() / 60))) / 1440\n",
    "    for x, y in zip(i1, i2)]  # or just zip in Python 3\n",
    "    return round(np.mean(res),2)\n",
    "\n",
    "from datetime import datetime\n",
    "\n",
    "# здесь выставляем первое число месяца, на который прогнозируем отток\n",
    "\n",
    "reportDate = datetime(2018, 9, 1)\n",
    "\n",
    "sns.set(rc={'axes.facecolor':'grey', 'figure.facecolor':'grey'})\n",
    "sns.set(palette='Blues_r')"
   ]
  },
  {
   "cell_type": "markdown",
   "metadata": {},
   "source": [
    "## ВСЕ СЕССИИ"
   ]
  },
  {
   "cell_type": "markdown",
   "metadata": {},
   "source": [
    "Получим данные по сессиям за период. В нашем случае за четыре месяца (май-август 2018)"
   ]
  },
  {
   "cell_type": "code",
   "execution_count": 2,
   "metadata": {},
   "outputs": [
    {
     "name": "stdout",
     "output_type": "stream",
     "text": [
      "CPU times: user 7.43 s, sys: 2.57 s, total: 10 s\n",
      "Wall time: 11.7 s\n"
     ]
    }
   ],
   "source": [
    "%%time\n",
    "\n",
    "q = '''\n",
    "SELECT\n",
    "    DeviceID,\n",
    "    AppVersionName,\n",
    "    OSName,\n",
    "    SessionStartDate,\n",
    "    SessionStartDateTime,\n",
    "    SessionStartTimestamp\n",
    "FROM\n",
    "    mobile.sessions_starts_all\n",
    "WHERE\n",
    "    SessionStartDate BETWEEN ''' + ''' \\'''' + \\\n",
    "    query_dates[0] + '''\\' AND ''' + '''\\'''' + \\\n",
    "    query_dates[1] + '''\\' ''''FORMAT TabSeparatedWithNames'''\n",
    "\n",
    "sessions = get_clickhouse_df(q)"
   ]
  },
  {
   "cell_type": "markdown",
   "metadata": {},
   "source": [
    "Либо подгрузим ранее экспортированные данные из AppMetrica"
   ]
  },
  {
   "cell_type": "markdown",
   "metadata": {},
   "source": [
    "Пример запроса для получения данных по сессиям\n",
    "\n",
    "https://appmetrica.yandex.ru/export-log?url=%2Flogs-exporter%2Fsessions_starts%2Fcsv%2F%3Fapplication_id%3D773292%26date_since%3D2018-05-01%252000%253A00%253A00%26date_until%3D2018-09-30%252023%253A59%253A59%26date_dimension%3Ddefault%26use_utf8_bom%3Dtrue%26fields%3Dappmetrica_device_id%252Capp_version_name%252Csession_start_datetime%252Csession_start_timestamp%26inteface%3D1"
   ]
  },
  {
   "cell_type": "code",
   "execution_count": 3,
   "metadata": {},
   "outputs": [
    {
     "data": {
      "text/html": [
       "<div>\n",
       "<style scoped>\n",
       "    .dataframe tbody tr th:only-of-type {\n",
       "        vertical-align: middle;\n",
       "    }\n",
       "\n",
       "    .dataframe tbody tr th {\n",
       "        vertical-align: top;\n",
       "    }\n",
       "\n",
       "    .dataframe thead th {\n",
       "        text-align: right;\n",
       "    }\n",
       "</style>\n",
       "<table border=\"1\" class=\"dataframe\">\n",
       "  <thead>\n",
       "    <tr style=\"text-align: right;\">\n",
       "      <th></th>\n",
       "      <th>DeviceID</th>\n",
       "      <th>AppVersionName</th>\n",
       "      <th>OSName</th>\n",
       "      <th>SessionStartDate</th>\n",
       "      <th>SessionStartDateTime</th>\n",
       "      <th>SessionStartTimestamp</th>\n",
       "    </tr>\n",
       "  </thead>\n",
       "  <tbody>\n",
       "    <tr>\n",
       "      <th>0</th>\n",
       "      <td>10505484930268923928</td>\n",
       "      <td>3.20.0</td>\n",
       "      <td>ios</td>\n",
       "      <td>2018-09-03</td>\n",
       "      <td>2018-09-03 22:30:40</td>\n",
       "      <td>1536013840</td>\n",
       "    </tr>\n",
       "    <tr>\n",
       "      <th>1</th>\n",
       "      <td>14946039178146968182</td>\n",
       "      <td>3.24.1</td>\n",
       "      <td>android</td>\n",
       "      <td>2018-09-03</td>\n",
       "      <td>2018-09-03 21:05:31</td>\n",
       "      <td>1536008731</td>\n",
       "    </tr>\n",
       "    <tr>\n",
       "      <th>2</th>\n",
       "      <td>3166121082083361625</td>\n",
       "      <td>3.24.1</td>\n",
       "      <td>android</td>\n",
       "      <td>2018-09-03</td>\n",
       "      <td>2018-09-03 23:16:30</td>\n",
       "      <td>1536016590</td>\n",
       "    </tr>\n",
       "    <tr>\n",
       "      <th>3</th>\n",
       "      <td>7126554865110011613</td>\n",
       "      <td>3.24.1</td>\n",
       "      <td>android</td>\n",
       "      <td>2018-09-03</td>\n",
       "      <td>2018-09-03 21:17:46</td>\n",
       "      <td>1536009466</td>\n",
       "    </tr>\n",
       "    <tr>\n",
       "      <th>4</th>\n",
       "      <td>17090988081681948002</td>\n",
       "      <td>3.20.0</td>\n",
       "      <td>ios</td>\n",
       "      <td>2018-09-03</td>\n",
       "      <td>2018-09-03 22:18:47</td>\n",
       "      <td>1536013127</td>\n",
       "    </tr>\n",
       "  </tbody>\n",
       "</table>\n",
       "</div>"
      ],
      "text/plain": [
       "               DeviceID AppVersionName   OSName SessionStartDate  \\\n",
       "0  10505484930268923928         3.20.0      ios       2018-09-03   \n",
       "1  14946039178146968182         3.24.1  android       2018-09-03   \n",
       "2   3166121082083361625         3.24.1  android       2018-09-03   \n",
       "3   7126554865110011613         3.24.1  android       2018-09-03   \n",
       "4  17090988081681948002         3.20.0      ios       2018-09-03   \n",
       "\n",
       "  SessionStartDateTime  SessionStartTimestamp  \n",
       "0  2018-09-03 22:30:40             1536013840  \n",
       "1  2018-09-03 21:05:31             1536008731  \n",
       "2  2018-09-03 23:16:30             1536016590  \n",
       "3  2018-09-03 21:17:46             1536009466  \n",
       "4  2018-09-03 22:18:47             1536013127  "
      ]
     },
     "execution_count": 3,
     "metadata": {},
     "output_type": "execute_result"
    }
   ],
   "source": [
    "sessions.head()"
   ]
  },
  {
   "cell_type": "markdown",
   "metadata": {},
   "source": [
    "Создадим общий dataframe для пользователей, куда будем добавлять агрегированные данные. Посчитаем кол-во сессий на DeviceID, используя SessionStartTimestamp в качестве ID сессии"
   ]
  },
  {
   "cell_type": "code",
   "execution_count": 8,
   "metadata": {},
   "outputs": [
    {
     "name": "stdout",
     "output_type": "stream",
     "text": [
      "CPU times: user 588 ms, sys: 174 ms, total: 762 ms\n",
      "Wall time: 769 ms\n"
     ]
    }
   ],
   "source": [
    "%%time\n",
    "\n",
    "df_main = sessions.groupby('DeviceID')[['SessionStartTimestamp']]\\\n",
    "    .count().reset_index().sort_values(by='SessionStartTimestamp', ascending=False)"
   ]
  },
  {
   "cell_type": "markdown",
   "metadata": {},
   "source": [
    "Запишем дни сессий в порядке возрастания массивом в колонку SessionStartDate"
   ]
  },
  {
   "cell_type": "code",
   "execution_count": 9,
   "metadata": {
    "collapsed": true
   },
   "outputs": [],
   "source": [
    "df_main['SessionStartDate'] = [sorted(list(set(sessions['SessionStartDate'].loc[sessions['DeviceID'] == x['DeviceID']])))  \n",
    "    for _, x in df_main.iterrows()]"
   ]
  },
  {
   "cell_type": "markdown",
   "metadata": {},
   "source": [
    "Посчитаем среднюю продолжительность перерыва между днями, в течение которых были сессии"
   ]
  },
  {
   "cell_type": "code",
   "execution_count": 10,
   "metadata": {
    "collapsed": true
   },
   "outputs": [],
   "source": [
    "df_main['sessions_avgdaylag'] = df_main.apply(lambda x: func(x['SessionStartDate']), axis=1)"
   ]
  },
  {
   "cell_type": "markdown",
   "metadata": {},
   "source": [
    "Если у пользователя был один активный день, то avgdaylag будет равен кол-ву дней с этого дня и до даты отчета"
   ]
  },
  {
   "cell_type": "code",
   "execution_count": 11,
   "metadata": {
    "collapsed": true
   },
   "outputs": [],
   "source": [
    "tempSer = df_main[df_main['sessions_avgdaylag'].isnull()]['SessionStartDate'].apply(\n",
    "     lambda x: round((int(round((reportDate - datetime.strptime(x[0], fmt)).total_seconds() / 60))) / 1440))"
   ]
  },
  {
   "cell_type": "code",
   "execution_count": 12,
   "metadata": {
    "collapsed": true
   },
   "outputs": [],
   "source": [
    "df_main['sessions_avgdaylag'] = df_main['sessions_avgdaylag'].fillna(tempSer)"
   ]
  },
  {
   "cell_type": "markdown",
   "metadata": {},
   "source": [
    "Посчитаем кол-во дней, прошешдишх с последней сессии пользователя от даты формирования отчета"
   ]
  },
  {
   "cell_type": "code",
   "execution_count": 13,
   "metadata": {
    "collapsed": true
   },
   "outputs": [],
   "source": [
    "temp = sessions.groupby('DeviceID')[['SessionStartDate']].max().reset_index()\n",
    "temp['sessions_daysSinceLastSession'] = temp['SessionStartDate'].apply(\n",
    "    lambda x: round((int(round((reportDate - datetime.strptime(x, fmt)).total_seconds() / 60))) / 1440))\n",
    "df_main = df_main.join(temp.drop(['SessionStartDate'], axis=1).set_index('DeviceID'), on='DeviceID')"
   ]
  },
  {
   "cell_type": "markdown",
   "metadata": {},
   "source": [
    "Посчитаем количество дней, когда пользователь был активен в приложении"
   ]
  },
  {
   "cell_type": "code",
   "execution_count": 14,
   "metadata": {
    "collapsed": true
   },
   "outputs": [],
   "source": [
    "df_main['sessions_totaldaysactive'] = df_main['SessionStartDate'].apply(lambda x: len(x))"
   ]
  },
  {
   "cell_type": "markdown",
   "metadata": {},
   "source": [
    "Удалим массив уникальных дат с сессиями и переименуем столбец SessionStartTimestamp"
   ]
  },
  {
   "cell_type": "code",
   "execution_count": 15,
   "metadata": {
    "collapsed": true
   },
   "outputs": [],
   "source": [
    "df_main = df_main.drop(['SessionStartDate'], axis=1).rename(index=str, columns={\n",
    "    \"SessionStartTimestamp\": \"sessions_totalnumber\"\n",
    "})"
   ]
  },
  {
   "cell_type": "markdown",
   "metadata": {
    "collapsed": true
   },
   "source": [
    "## ВСЕ СОБЫТИЯ"
   ]
  },
  {
   "cell_type": "markdown",
   "metadata": {},
   "source": [
    "Создадим временный dataframe для всех событий"
   ]
  },
  {
   "cell_type": "code",
   "execution_count": 16,
   "metadata": {
    "collapsed": true,
    "scrolled": true
   },
   "outputs": [],
   "source": [
    "q = '''\n",
    "SELECT\n",
    "    AppVersionName,\n",
    "    OSName,\n",
    "    EventDate,\n",
    "    ReceiveDate,\n",
    "    ReceiveTimestamp,\n",
    "    EventTimestamp,\n",
    "    EventDateTime,\n",
    "    EventName,\n",
    "    DeviceID,\n",
    "    CAST(visitParamExtractRaw(replaceAll(EventParameters, '\"\"', '\"'), 'crmId') AS VARCHAR) AS crmId,\n",
    "    CAST(visitParamExtractRaw(replaceAll(EventParameters, '\"\"', '\"'), 'status') AS VARCHAR) AS authStatus,\n",
    "    CAST(visitParamExtractRaw(replaceAll(EventParameters, '\"\"', '\"'), 'gender') AS VARCHAR) AS gender,\n",
    "    CAST(visitParamExtractRaw(replaceAll(EventParameters, '\"\"', '\"'), 'тип операции') AS VARCHAR) AS operationType,\n",
    "    CAST(visitParamExtractRaw(replaceAll(EventParameters, '\"\"', '\"'), 'сумма операции') AS VARCHAR) AS operationAmount,\n",
    "    CAST(visitParamExtractRaw(replaceAll(EventParameters, '\"\"', '\"'), 'источник') AS VARCHAR) AS sender,\n",
    "    CAST(visitParamExtractRaw(replaceAll(EventParameters, '\"\"', '\"'), 'валюта отправителя') AS VARCHAR) AS senderCurrency,\n",
    "    CAST(visitParamExtractRaw(replaceAll(EventParameters, '\"\"', '\"'), 'получатель') AS VARCHAR) AS recipient,\n",
    "    CAST(visitParamExtractRaw(replaceAll(EventParameters, '\"\"', '\"'), 'валюта получателя') AS VARCHAR) AS recipientCurrency,\n",
    "    CAST(visitParamExtractRaw(replaceAll(EventParameters, '\"\"', '\"'), 'размер комиссии') AS VARCHAR) AS operationFee,\n",
    "    CAST(visitParamExtractRaw(replaceAll(EventParameters, '\"\"', '\"'), 'способ операции') AS VARCHAR) AS operationMethod,\n",
    "    CAST(visitParamExtractRaw(replaceAll(EventParameters, '\"\"', '\"'), 'срок') AS VARCHAR) AS depositTerm,\n",
    "    CAST(visitParamExtractRaw(replaceAll(EventParameters, '\"\"', '\"'), 'валюта') AS VARCHAR) AS depositCurrency,\n",
    "    CAST(visitParamExtractRaw(replaceAll(EventParameters, '\"\"', '\"'), 'ставка') AS VARCHAR) AS depositRate,\n",
    "    CAST(visitParamExtractRaw(replaceAll(EventParameters, '\"\"', '\"'), 'название') AS VARCHAR) AS depositName,\n",
    "    CAST(visitParamExtractRaw(replaceAll(EventParameters, '\"\"', '\"'), 'тип чата') AS VARCHAR) AS chatType,\n",
    "    CAST(visitParamExtractRaw(replaceAll(EventParameters, '\"\"', '\"'), 'операция') AS VARCHAR) AS operation\n",
    "FROM\n",
    "    mobile.events_all\n",
    "WHERE\n",
    "    match(EventName,'продажи|переводы|Переводы|^платежи$')\n",
    "    AND EventDate BETWEEN ''' + ''' \\'''' + \\\n",
    "    query_dates[0] + '''\\' AND ''' + '''\\'''' + \\\n",
    "    query_dates[1] + '''\\' ''''FORMAT TabSeparatedWithNames'''\n",
    "\n",
    "events = get_clickhouse_df(q)"
   ]
  },
  {
   "cell_type": "markdown",
   "metadata": {},
   "source": [
    "## ПЛАТЕЖИ"
   ]
  },
  {
   "cell_type": "markdown",
   "metadata": {},
   "source": [
    "Создадим отдельный dataframe для платежей без добавления платежи, где сумма операция неизвестна (недоступна)"
   ]
  },
  {
   "cell_type": "code",
   "execution_count": 17,
   "metadata": {
    "collapsed": true
   },
   "outputs": [],
   "source": [
    "payments = pd.read_csv('../dmitriilin/Downloads/AppMetrica Data (may-september 2018)/payments_may_september2018.csv',\n",
    "                       sep=',')"
   ]
  },
  {
   "cell_type": "code",
   "execution_count": 18,
   "metadata": {
    "collapsed": true
   },
   "outputs": [],
   "source": [
    "payments.drop(['Unnamed: 0'],\n",
    "              axis=1,\n",
    "              inplace=True)"
   ]
  },
  {
   "cell_type": "markdown",
   "metadata": {},
   "source": [
    "Рассчитаем агрегаты для платежей"
   ]
  },
  {
   "cell_type": "code",
   "execution_count": 19,
   "metadata": {
    "collapsed": true
   },
   "outputs": [],
   "source": [
    "f = {\n",
    "    'operationAmount':['count','sum', 'median', 'min', 'max'], #количество, сумма, медиана, минимум и максимум\n",
    "    'sender': ['nunique'], #кол-во уникальных источников платежей\n",
    "    'recipient': ['nunique'], #кол-во получателей платежей\n",
    "    'operationMethod': ['nunique'] #кол-во способов платежей\n",
    "}\n",
    "\n",
    "# расчитаем агрегаты по каждому DeviceID\n",
    "\n",
    "payments_agg = payments.groupby(['DeviceID']).agg(f)\n",
    "payments_agg.columns = payments_agg.columns.map('_'.join)\n",
    "payments_agg = payments_agg.reset_index().rename(columns={\n",
    "    'operationAmount_count': 'payments_operationAmount_count',\n",
    "    'operationAmount_sum': 'payments_operationAmount_sum',\n",
    "    'operationAmount_median': 'payments_operationAmount_median',\n",
    "    'operationAmount_min': 'payments_operationAmount_min',\n",
    "    'operationAmount_max': 'payments_operationAmount_max',\n",
    "    'sender_nunique': 'payments_sender_nunique',\n",
    "    'recipient_nunique': 'payments_recipient_nunique',\n",
    "    'operationMethod_nunique': 'payments_operationMethod_nunique'\n",
    "})"
   ]
  },
  {
   "cell_type": "markdown",
   "metadata": {},
   "source": [
    "Запишем дни платежей в порядке возрастания массивом в колонку payments_date"
   ]
  },
  {
   "cell_type": "code",
   "execution_count": 20,
   "metadata": {
    "collapsed": true
   },
   "outputs": [],
   "source": [
    "payments_agg['payments_date'] = [sorted(list(set(payments['EventDate'].loc[payments['DeviceID'] == x['DeviceID']])))  \n",
    "    for _, x in payments_agg.iterrows()]"
   ]
  },
  {
   "cell_type": "markdown",
   "metadata": {},
   "source": [
    "Посчитаем среднюю продолжительность перерыва между днями, в течение которых были платежи.\n",
    "Посчитаем количество дней, когда пользователь совершал платежи в приложении."
   ]
  },
  {
   "cell_type": "code",
   "execution_count": 21,
   "metadata": {
    "collapsed": true
   },
   "outputs": [],
   "source": [
    "payments_agg['payments_avgdaylag'] = payments_agg.apply(lambda x: func(x['payments_date']), axis=1)\n",
    "payments_agg['payments_daysactive'] = payments_agg['payments_date'].apply(lambda x: len(x))\n",
    "\n",
    "payments_agg = payments_agg.drop(['payments_date'], axis=1)"
   ]
  },
  {
   "cell_type": "markdown",
   "metadata": {},
   "source": [
    "Запишем данные о платежах в основой dataFrame"
   ]
  },
  {
   "cell_type": "code",
   "execution_count": 22,
   "metadata": {
    "collapsed": true
   },
   "outputs": [],
   "source": [
    "df_main = df_main.join(payments_agg.set_index('DeviceID'), on='DeviceID')"
   ]
  },
  {
   "cell_type": "markdown",
   "metadata": {},
   "source": [
    "Посчитаем кол-во дней, прошешдишх с последнего платежаа пользователя от даты формирования отчета"
   ]
  },
  {
   "cell_type": "code",
   "execution_count": 23,
   "metadata": {
    "collapsed": true
   },
   "outputs": [],
   "source": [
    "temp = payments.groupby('DeviceID')[['EventDate']].max().reset_index()\n",
    "temp['payments_daysSinceLastPayment'] = temp['EventDate'].apply(\n",
    "    lambda x: round((int(round((reportDate - datetime.strptime(x, fmt)).total_seconds() / 60))) / 1440))\n",
    "df_main = df_main.join(temp.drop(['EventDate'], axis=1).set_index('DeviceID'), on='DeviceID')"
   ]
  },
  {
   "cell_type": "markdown",
   "metadata": {},
   "source": [
    "Заполним отсутствующие данные для тех, кто ни разу не совершал платеж в выбранный период. Для признаков avgdaylag & daysSinceLastPayemnt запишем 122 дней (общее количество дней в периоде)."
   ]
  },
  {
   "cell_type": "code",
   "execution_count": 24,
   "metadata": {
    "collapsed": true
   },
   "outputs": [],
   "source": [
    "fillna0 = [\n",
    "    'payments_operationAmount_count',\n",
    "    'payments_operationAmount_sum',\n",
    "    'payments_operationAmount_median',\n",
    "    'payments_operationAmount_min',\n",
    "    'payments_operationAmount_max',\n",
    "    'payments_sender_nunique',\n",
    "    'payments_recipient_nunique',\n",
    "    'payments_operationMethod_nunique',\n",
    "    'payments_daysactive'\n",
    "]\n",
    "\n",
    "fillna122 = ['payments_avgdaylag', 'payments_daysSinceLastPayment']\n",
    "\n",
    "for i in fillna0:\n",
    "    df_main[i].fillna(0, inplace=True)\n",
    "\n",
    "for i in fillna122:\n",
    "    df_main[i].fillna(122, inplace=True)"
   ]
  },
  {
   "cell_type": "markdown",
   "metadata": {},
   "source": [
    "## ПЕРЕВОДЫ"
   ]
  },
  {
   "cell_type": "markdown",
   "metadata": {},
   "source": [
    "Для переводов посчитаем те же агрегаты, что и для платежей"
   ]
  },
  {
   "cell_type": "code",
   "execution_count": 25,
   "metadata": {
    "collapsed": true
   },
   "outputs": [],
   "source": [
    "fundTransfers = pd.read_csv('../dmitriilin/Downloads/AppMetrica Data (may-september 2018) 2/transfers_may_september2018.csv',\n",
    "                       sep=',')"
   ]
  },
  {
   "cell_type": "code",
   "execution_count": 26,
   "metadata": {
    "collapsed": true
   },
   "outputs": [],
   "source": [
    "f = {\n",
    "    'operationAmount':['count','sum', 'median', 'min', 'max'], #количество и сумма операций\n",
    "    'operationFee': ['sum'], #сумма комиссий\n",
    "    'sender': ['nunique'], #кол-во источников перевода\n",
    "    'recipient': ['nunique'], #кол-во получателей перевода\n",
    "    'operationMethod': ['nunique'], #кол-во способов перевода\n",
    "    'senderCurrency': ['nunique'], #кол-во валют источника перевода\n",
    "    'recipientCurrency': ['nunique'] #кол-во валют получателя перевода\n",
    "}\n",
    "\n",
    "fundTransfers_agg = fundTransfers.groupby(['DeviceID']).agg(f)\n",
    "fundTransfers_agg.columns = fundTransfers_agg.columns.map('_'.join)\n",
    "fundTransfers_agg = fundTransfers_agg.reset_index().rename(columns={\n",
    "    'operationAmount_count': 'transfers_operationAmount_count',\n",
    "    'operationAmount_sum': 'transfers_operationAmount_sum',\n",
    "    'operationAmount_median': 'transfers_operationAmount_median',\n",
    "    'operationAmount_min': 'transfers_operationAmount_min',\n",
    "    'operationAmount_max': 'transfers_operationAmount_max',\n",
    "    'operationFee_sum': 'transfers_operationFee_sum',\n",
    "    'sender_nunique': 'transfers_sender_nunique',\n",
    "    'recipient_nunique': 'transfers_recipient_nunique',\n",
    "    'operationMethod_nunique': 'transfers_operationMethod_nunique',\n",
    "    'senderCurrency_nunique': 'transfers_senderCurrency_nunique',\n",
    "    'recipientCurrency_nunique': 'transfers_recipientCurrency_nunique'\n",
    "})"
   ]
  },
  {
   "cell_type": "code",
   "execution_count": 27,
   "metadata": {
    "collapsed": true
   },
   "outputs": [],
   "source": [
    "fundTransfers_agg['transfers_date'] = [sorted(list(set(fundTransfers['EventDate'].loc[fundTransfers['DeviceID'] == x['DeviceID']])))  \n",
    "    for _, x in fundTransfers_agg.iterrows()]\n",
    "\n",
    "fundTransfers_agg['transfers_avgdaylag'] = fundTransfers_agg.apply(lambda x: func(x['transfers_date']), axis=1)\n",
    "fundTransfers_agg['transfers_daysactive'] = fundTransfers_agg['transfers_date'].apply(lambda x: len(x))\n",
    "\n",
    "fundTransfers_agg = fundTransfers_agg.drop(['transfers_date'], axis=1)"
   ]
  },
  {
   "cell_type": "code",
   "execution_count": 28,
   "metadata": {
    "collapsed": true
   },
   "outputs": [],
   "source": [
    "df_main = df_main.join(fundTransfers_agg.set_index('DeviceID'), on='DeviceID')"
   ]
  },
  {
   "cell_type": "code",
   "execution_count": 29,
   "metadata": {
    "collapsed": true
   },
   "outputs": [],
   "source": [
    "temp = fundTransfers.groupby('DeviceID')[['EventDate']].max().reset_index()\n",
    "temp['transfers_daysSinceLastTransfer'] = temp['EventDate'].apply(\n",
    "    lambda x: round((int(round((reportDate - datetime.strptime(x, fmt)).total_seconds() / 60))) / 1440))\n",
    "df_main = df_main.join(temp.drop(['EventDate'], axis=1).set_index('DeviceID'), on='DeviceID')"
   ]
  },
  {
   "cell_type": "code",
   "execution_count": 30,
   "metadata": {
    "collapsed": true
   },
   "outputs": [],
   "source": [
    "fillna0 = [\n",
    "    'transfers_operationAmount_count',\n",
    "    'transfers_operationAmount_sum',\n",
    "    'transfers_operationAmount_median',\n",
    "    'transfers_operationAmount_min',\n",
    "    'transfers_operationAmount_max',\n",
    "    'transfers_operationFee_sum',\n",
    "    'transfers_sender_nunique',\n",
    "    'transfers_recipient_nunique',\n",
    "    'transfers_operationMethod_nunique',\n",
    "    'transfers_senderCurrency_nunique',\n",
    "    'transfers_recipientCurrency_nunique',\n",
    "]\n",
    "\n",
    "fillna122 = ['transfers_avgdaylag', 'transfers_daysactive', 'transfers_daysSinceLastTransfer']\n",
    "\n",
    "for i in fillna0:\n",
    "    df_main[i].fillna(0, inplace=True)\n",
    "\n",
    "for i in fillna122:\n",
    "    df_main[i].fillna(122, inplace=True)"
   ]
  },
  {
   "cell_type": "markdown",
   "metadata": {},
   "source": [
    "## СЧИТАЕМ CHURN И ПРОСТАВЛЯЕМ TARGET FEATURE"
   ]
  },
  {
   "cell_type": "code",
   "execution_count": 31,
   "metadata": {
    "collapsed": true
   },
   "outputs": [],
   "source": [
    "q = '''\n",
    "SELECT\n",
    "    DeviceID,\n",
    "    AppVersionName,\n",
    "    OSName,\n",
    "    ReceiveDate,\n",
    "    ReceiveTimestamp,\n",
    "    SessionStartDate,\n",
    "    SessionStartDateTime,\n",
    "    SessionStartTimestamp\n",
    "FROM\n",
    "    mobile.sessions_starts_all\n",
    "WHERE\n",
    "    SessionStartDate BETWEEN ''' + ''' \\'''' + \\\n",
    "    churn_query_dates[0] + '''\\' AND ''' + '''\\'''' + \\\n",
    "    churn_query_dates[1] + '''\\' ''''FORMAT TabSeparatedWithNames'''\n",
    "\n",
    "sessions = get_clickhouse_df(q)"
   ]
  },
  {
   "cell_type": "code",
   "execution_count": 32,
   "metadata": {
    "collapsed": true
   },
   "outputs": [],
   "source": [
    "sessions = pd.read_csv('../dmitriilin/Downloads/sessions_starts.csv', sep=',')"
   ]
  },
  {
   "cell_type": "code",
   "execution_count": 33,
   "metadata": {
    "collapsed": true
   },
   "outputs": [],
   "source": [
    "# посчитаем кол-во сессий на DeviceID, используя SessionStartTimestamp в качестве ID сессии\n",
    "\n",
    "df_sessions_churn = sessions.groupby('appmetrica_device_id')[['session_start_timestamp']]\\\n",
    "    .count().reset_index().sort_values(by='session_start_timestamp', ascending=False)"
   ]
  },
  {
   "cell_type": "markdown",
   "metadata": {},
   "source": [
    "Посмотрим, какие DeviceID, из тех, что присутствуют в общем dataFrame за период, вернулись в прогнозируем периоде. Если DeviceID найден, ставим \"0\" (неотток), в противном случае - \"1\" (отток)"
   ]
  },
  {
   "cell_type": "code",
   "execution_count": 34,
   "metadata": {},
   "outputs": [
    {
     "data": {
      "text/plain": [
       "Index(['DeviceID', 'sessions_totalnumber', 'sessions_avgdaylag',\n",
       "       'sessions_daysSinceLastSession', 'sessions_totaldaysactive',\n",
       "       'payments_operationAmount_count', 'payments_operationAmount_sum',\n",
       "       'payments_operationAmount_median', 'payments_operationAmount_min',\n",
       "       'payments_operationAmount_max', 'payments_sender_nunique',\n",
       "       'payments_recipient_nunique', 'payments_operationMethod_nunique',\n",
       "       'payments_avgdaylag', 'payments_daysactive',\n",
       "       'payments_daysSinceLastPayment', 'transfers_operationAmount_count',\n",
       "       'transfers_operationAmount_sum', 'transfers_operationAmount_median',\n",
       "       'transfers_operationAmount_min', 'transfers_operationAmount_max',\n",
       "       'transfers_operationFee_sum', 'transfers_sender_nunique',\n",
       "       'transfers_recipient_nunique', 'transfers_operationMethod_nunique',\n",
       "       'transfers_senderCurrency_nunique',\n",
       "       'transfers_recipientCurrency_nunique', 'transfers_avgdaylag',\n",
       "       'transfers_daysactive', 'transfers_daysSinceLastTransfer'],\n",
       "      dtype='object')"
      ]
     },
     "execution_count": 34,
     "metadata": {},
     "output_type": "execute_result"
    }
   ],
   "source": [
    "df_main.columns"
   ]
  },
  {
   "cell_type": "code",
   "execution_count": 35,
   "metadata": {
    "collapsed": true
   },
   "outputs": [],
   "source": [
    "df_main['churned'] = df_main['DeviceID'].isin(df_sessions_churn['appmetrica_device_id']).apply(lambda x: 0 if x is True else 1)"
   ]
  },
  {
   "cell_type": "markdown",
   "metadata": {},
   "source": [
    "Как видим, 4-месячный отток составляет порядка 35% процентов."
   ]
  },
  {
   "cell_type": "code",
   "execution_count": 36,
   "metadata": {},
   "outputs": [
    {
     "data": {
      "text/plain": [
       "0   0.66\n",
       "1   0.34\n",
       "Name: churned, dtype: float64"
      ]
     },
     "execution_count": 36,
     "metadata": {},
     "output_type": "execute_result"
    }
   ],
   "source": [
    "df_main['churned'].value_counts(normalize=True)"
   ]
  },
  {
   "cell_type": "markdown",
   "metadata": {},
   "source": [
    "Посмотрим, как признаки из разных категория коррелируют с целевым"
   ]
  },
  {
   "cell_type": "code",
   "execution_count": 37,
   "metadata": {},
   "outputs": [
    {
     "data": {
      "image/png": "[encoded data removed]",
      "text/plain": [
       "<matplotlib.figure.Figure at 0x1a399ca160>"
      ]
     },
     "metadata": {},
     "output_type": "display_data"
    }
   ],
   "source": [
    "sns.heatmap(df_main[[f for f in df_main.columns if 'sessions' in f or 'churned' in f]].corr(), annot=True);\n",
    "# sns.heatmap(df_main[[f for f in df_main.columns if 'payments' in f or 'churned' in f]].corr(), annot=True);\n",
    "# sns.heatmap(df_main[[f for f in df_main.columns if 'transfers' in f or 'churned' in f]].corr(), annot=True);"
   ]
  },
  {
   "cell_type": "markdown",
   "metadata": {},
   "source": [
    "Наконец, посмотрим на получившийся dataFrame"
   ]
  },
  {
   "cell_type": "code",
   "execution_count": 38,
   "metadata": {},
   "outputs": [
    {
     "data": {
      "text/html": [
       "<div>\n",
       "<style scoped>\n",
       "    .dataframe tbody tr th:only-of-type {\n",
       "        vertical-align: middle;\n",
       "    }\n",
       "\n",
       "    .dataframe tbody tr th {\n",
       "        vertical-align: top;\n",
       "    }\n",
       "\n",
       "    .dataframe thead th {\n",
       "        text-align: right;\n",
       "    }\n",
       "</style>\n",
       "<table border=\"1\" class=\"dataframe\">\n",
       "  <thead>\n",
       "    <tr style=\"text-align: right;\">\n",
       "      <th></th>\n",
       "      <th>DeviceID</th>\n",
       "      <th>sessions_totalnumber</th>\n",
       "      <th>sessions_avgdaylag</th>\n",
       "      <th>sessions_daysSinceLastSession</th>\n",
       "      <th>sessions_totaldaysactive</th>\n",
       "      <th>payments_operationAmount_count</th>\n",
       "      <th>payments_operationAmount_sum</th>\n",
       "      <th>payments_operationAmount_median</th>\n",
       "      <th>payments_operationAmount_min</th>\n",
       "      <th>payments_operationAmount_max</th>\n",
       "      <th>...</th>\n",
       "      <th>transfers_operationFee_sum</th>\n",
       "      <th>transfers_sender_nunique</th>\n",
       "      <th>transfers_recipient_nunique</th>\n",
       "      <th>transfers_operationMethod_nunique</th>\n",
       "      <th>transfers_senderCurrency_nunique</th>\n",
       "      <th>transfers_recipientCurrency_nunique</th>\n",
       "      <th>transfers_avgdaylag</th>\n",
       "      <th>transfers_daysactive</th>\n",
       "      <th>transfers_daysSinceLastTransfer</th>\n",
       "      <th>churned</th>\n",
       "    </tr>\n",
       "  </thead>\n",
       "  <tbody>\n",
       "    <tr>\n",
       "      <th>134993</th>\n",
       "      <td>11652750677926616943</td>\n",
       "      <td>1</td>\n",
       "      <td>64.00</td>\n",
       "      <td>64</td>\n",
       "      <td>1</td>\n",
       "      <td>0.00</td>\n",
       "      <td>0.00</td>\n",
       "      <td>0.00</td>\n",
       "      <td>0.00</td>\n",
       "      <td>0.00</td>\n",
       "      <td>...</td>\n",
       "      <td>0.00</td>\n",
       "      <td>0.00</td>\n",
       "      <td>0.00</td>\n",
       "      <td>0.00</td>\n",
       "      <td>0.00</td>\n",
       "      <td>0.00</td>\n",
       "      <td>122.00</td>\n",
       "      <td>122.00</td>\n",
       "      <td>122.00</td>\n",
       "      <td>1</td>\n",
       "    </tr>\n",
       "    <tr>\n",
       "      <th>134991</th>\n",
       "      <td>11652467921430136755</td>\n",
       "      <td>1</td>\n",
       "      <td>7.00</td>\n",
       "      <td>7</td>\n",
       "      <td>1</td>\n",
       "      <td>0.00</td>\n",
       "      <td>0.00</td>\n",
       "      <td>0.00</td>\n",
       "      <td>0.00</td>\n",
       "      <td>0.00</td>\n",
       "      <td>...</td>\n",
       "      <td>0.00</td>\n",
       "      <td>0.00</td>\n",
       "      <td>0.00</td>\n",
       "      <td>0.00</td>\n",
       "      <td>0.00</td>\n",
       "      <td>0.00</td>\n",
       "      <td>122.00</td>\n",
       "      <td>122.00</td>\n",
       "      <td>122.00</td>\n",
       "      <td>1</td>\n",
       "    </tr>\n",
       "    <tr>\n",
       "      <th>201752</th>\n",
       "      <td>17423490244212443576</td>\n",
       "      <td>1</td>\n",
       "      <td>90.00</td>\n",
       "      <td>90</td>\n",
       "      <td>1</td>\n",
       "      <td>0.00</td>\n",
       "      <td>0.00</td>\n",
       "      <td>0.00</td>\n",
       "      <td>0.00</td>\n",
       "      <td>0.00</td>\n",
       "      <td>...</td>\n",
       "      <td>0.00</td>\n",
       "      <td>0.00</td>\n",
       "      <td>0.00</td>\n",
       "      <td>0.00</td>\n",
       "      <td>0.00</td>\n",
       "      <td>0.00</td>\n",
       "      <td>122.00</td>\n",
       "      <td>122.00</td>\n",
       "      <td>122.00</td>\n",
       "      <td>1</td>\n",
       "    </tr>\n",
       "    <tr>\n",
       "      <th>134990</th>\n",
       "      <td>11652302996568120843</td>\n",
       "      <td>1</td>\n",
       "      <td>6.00</td>\n",
       "      <td>6</td>\n",
       "      <td>1</td>\n",
       "      <td>0.00</td>\n",
       "      <td>0.00</td>\n",
       "      <td>0.00</td>\n",
       "      <td>0.00</td>\n",
       "      <td>0.00</td>\n",
       "      <td>...</td>\n",
       "      <td>0.00</td>\n",
       "      <td>0.00</td>\n",
       "      <td>0.00</td>\n",
       "      <td>0.00</td>\n",
       "      <td>0.00</td>\n",
       "      <td>0.00</td>\n",
       "      <td>122.00</td>\n",
       "      <td>122.00</td>\n",
       "      <td>122.00</td>\n",
       "      <td>1</td>\n",
       "    </tr>\n",
       "    <tr>\n",
       "      <th>25842</th>\n",
       "      <td>2228942890004763754</td>\n",
       "      <td>1</td>\n",
       "      <td>61.00</td>\n",
       "      <td>61</td>\n",
       "      <td>1</td>\n",
       "      <td>0.00</td>\n",
       "      <td>0.00</td>\n",
       "      <td>0.00</td>\n",
       "      <td>0.00</td>\n",
       "      <td>0.00</td>\n",
       "      <td>...</td>\n",
       "      <td>0.00</td>\n",
       "      <td>0.00</td>\n",
       "      <td>0.00</td>\n",
       "      <td>0.00</td>\n",
       "      <td>0.00</td>\n",
       "      <td>0.00</td>\n",
       "      <td>122.00</td>\n",
       "      <td>122.00</td>\n",
       "      <td>122.00</td>\n",
       "      <td>1</td>\n",
       "    </tr>\n",
       "  </tbody>\n",
       "</table>\n",
       "<p>5 rows × 31 columns</p>\n",
       "</div>"
      ],
      "text/plain": [
       "                    DeviceID  sessions_totalnumber  sessions_avgdaylag  \\\n",
       "134993  11652750677926616943                     1               64.00   \n",
       "134991  11652467921430136755                     1                7.00   \n",
       "201752  17423490244212443576                     1               90.00   \n",
       "134990  11652302996568120843                     1                6.00   \n",
       "25842    2228942890004763754                     1               61.00   \n",
       "\n",
       "        sessions_daysSinceLastSession  sessions_totaldaysactive  \\\n",
       "134993                             64                         1   \n",
       "134991                              7                         1   \n",
       "201752                             90                         1   \n",
       "134990                              6                         1   \n",
       "25842                              61                         1   \n",
       "\n",
       "        payments_operationAmount_count  payments_operationAmount_sum  \\\n",
       "134993                            0.00                          0.00   \n",
       "134991                            0.00                          0.00   \n",
       "201752                            0.00                          0.00   \n",
       "134990                            0.00                          0.00   \n",
       "25842                             0.00                          0.00   \n",
       "\n",
       "        payments_operationAmount_median  payments_operationAmount_min  \\\n",
       "134993                             0.00                          0.00   \n",
       "134991                             0.00                          0.00   \n",
       "201752                             0.00                          0.00   \n",
       "134990                             0.00                          0.00   \n",
       "25842                              0.00                          0.00   \n",
       "\n",
       "        payments_operationAmount_max   ...     transfers_operationFee_sum  \\\n",
       "134993                          0.00   ...                           0.00   \n",
       "134991                          0.00   ...                           0.00   \n",
       "201752                          0.00   ...                           0.00   \n",
       "134990                          0.00   ...                           0.00   \n",
       "25842                           0.00   ...                           0.00   \n",
       "\n",
       "        transfers_sender_nunique  transfers_recipient_nunique  \\\n",
       "134993                      0.00                         0.00   \n",
       "134991                      0.00                         0.00   \n",
       "201752                      0.00                         0.00   \n",
       "134990                      0.00                         0.00   \n",
       "25842                       0.00                         0.00   \n",
       "\n",
       "        transfers_operationMethod_nunique  transfers_senderCurrency_nunique  \\\n",
       "134993                               0.00                              0.00   \n",
       "134991                               0.00                              0.00   \n",
       "201752                               0.00                              0.00   \n",
       "134990                               0.00                              0.00   \n",
       "25842                                0.00                              0.00   \n",
       "\n",
       "        transfers_recipientCurrency_nunique  transfers_avgdaylag  \\\n",
       "134993                                 0.00               122.00   \n",
       "134991                                 0.00               122.00   \n",
       "201752                                 0.00               122.00   \n",
       "134990                                 0.00               122.00   \n",
       "25842                                  0.00               122.00   \n",
       "\n",
       "        transfers_daysactive  transfers_daysSinceLastTransfer  churned  \n",
       "134993                122.00                           122.00        1  \n",
       "134991                122.00                           122.00        1  \n",
       "201752                122.00                           122.00        1  \n",
       "134990                122.00                           122.00        1  \n",
       "25842                 122.00                           122.00        1  \n",
       "\n",
       "[5 rows x 31 columns]"
      ]
     },
     "execution_count": 38,
     "metadata": {},
     "output_type": "execute_result"
    }
   ],
   "source": [
    "df_main.tail()"
   ]
  },
  {
   "cell_type": "code",
   "execution_count": 39,
   "metadata": {},
   "outputs": [
    {
     "data": {
      "text/plain": [
       "Index(['DeviceID', 'sessions_totalnumber', 'sessions_avgdaylag',\n",
       "       'sessions_daysSinceLastSession', 'sessions_totaldaysactive',\n",
       "       'payments_operationAmount_count', 'payments_operationAmount_sum',\n",
       "       'payments_operationAmount_median', 'payments_operationAmount_min',\n",
       "       'payments_operationAmount_max', 'payments_sender_nunique',\n",
       "       'payments_recipient_nunique', 'payments_operationMethod_nunique',\n",
       "       'payments_avgdaylag', 'payments_daysactive',\n",
       "       'payments_daysSinceLastPayment', 'transfers_operationAmount_count',\n",
       "       'transfers_operationAmount_sum', 'transfers_operationAmount_median',\n",
       "       'transfers_operationAmount_min', 'transfers_operationAmount_max',\n",
       "       'transfers_operationFee_sum', 'transfers_sender_nunique',\n",
       "       'transfers_recipient_nunique', 'transfers_operationMethod_nunique',\n",
       "       'transfers_senderCurrency_nunique',\n",
       "       'transfers_recipientCurrency_nunique', 'transfers_avgdaylag',\n",
       "       'transfers_daysactive', 'transfers_daysSinceLastTransfer', 'churned'],\n",
       "      dtype='object')"
      ]
     },
     "execution_count": 39,
     "metadata": {},
     "output_type": "execute_result"
    }
   ],
   "source": [
    "df_main.columns"
   ]
  },
  {
   "cell_type": "code",
   "execution_count": 40,
   "metadata": {},
   "outputs": [
    {
     "data": {
      "text/plain": [
       "(213702, 31)"
      ]
     },
     "execution_count": 40,
     "metadata": {},
     "output_type": "execute_result"
    }
   ],
   "source": [
    "df_main.shape"
   ]
  },
  {
   "cell_type": "code",
   "execution_count": 41,
   "metadata": {},
   "outputs": [
    {
     "name": "stdout",
     "output_type": "stream",
     "text": [
      "<class 'pandas.core.frame.DataFrame'>\n",
      "Index: 213702 entries, 140125 to 25842\n",
      "Data columns (total 31 columns):\n",
      "DeviceID                               213702 non-null uint64\n",
      "sessions_totalnumber                   213702 non-null int64\n",
      "sessions_avgdaylag                     213702 non-null float64\n",
      "sessions_daysSinceLastSession          213702 non-null int64\n",
      "sessions_totaldaysactive               213702 non-null int64\n",
      "payments_operationAmount_count         213702 non-null float64\n",
      "payments_operationAmount_sum           213702 non-null float64\n",
      "payments_operationAmount_median        213702 non-null float64\n",
      "payments_operationAmount_min           213702 non-null float64\n",
      "payments_operationAmount_max           213702 non-null float64\n",
      "payments_sender_nunique                213702 non-null float64\n",
      "payments_recipient_nunique             213702 non-null float64\n",
      "payments_operationMethod_nunique       213702 non-null float64\n",
      "payments_avgdaylag                     213702 non-null float64\n",
      "payments_daysactive                    213702 non-null float64\n",
      "payments_daysSinceLastPayment          213702 non-null float64\n",
      "transfers_operationAmount_count        213702 non-null float64\n",
      "transfers_operationAmount_sum          213702 non-null float64\n",
      "transfers_operationAmount_median       213702 non-null float64\n",
      "transfers_operationAmount_min          213702 non-null float64\n",
      "transfers_operationAmount_max          213702 non-null float64\n",
      "transfers_operationFee_sum             213702 non-null float64\n",
      "transfers_sender_nunique               213702 non-null float64\n",
      "transfers_recipient_nunique            213702 non-null float64\n",
      "transfers_operationMethod_nunique      213702 non-null float64\n",
      "transfers_senderCurrency_nunique       213702 non-null float64\n",
      "transfers_recipientCurrency_nunique    213702 non-null float64\n",
      "transfers_avgdaylag                    213702 non-null float64\n",
      "transfers_daysactive                   213702 non-null float64\n",
      "transfers_daysSinceLastTransfer        213702 non-null float64\n",
      "churned                                213702 non-null int64\n",
      "dtypes: float64(26), int64(4), uint64(1)\n",
      "memory usage: 52.2+ MB\n"
     ]
    }
   ],
   "source": [
    "df_main.info()"
   ]
  },
  {
   "cell_type": "markdown",
   "metadata": {
    "collapsed": true
   },
   "source": [
    "__________________"
   ]
  },
  {
   "cell_type": "markdown",
   "metadata": {},
   "source": [
    "## Exploratory data analysis"
   ]
  },
  {
   "cell_type": "code",
   "execution_count": 5,
   "metadata": {
    "collapsed": true
   },
   "outputs": [],
   "source": [
    "#delete this cell\n",
    "\n",
    "df_main = pd.read_csv('../dmitriilin/Desktop/data frames for ML/df_main_may_august2018.csv')"
   ]
  },
  {
   "cell_type": "code",
   "execution_count": 6,
   "metadata": {
    "collapsed": true
   },
   "outputs": [],
   "source": [
    "example = df_main[[f for f in df_main.columns if 'sessions' in f or 'churned' in f]][\n",
    "\n",
    "    ((df_main['sessions_daysSinceLastSession'] > df_main['sessions_daysSinceLastSession'].quantile(.1)) &\n",
    "    (df_main['sessions_daysSinceLastSession'] < df_main['sessions_daysSinceLastSession'].quantile(.75)))\n",
    "    &\n",
    "    ((df_main['sessions_avgdaylag'] > df_main['sessions_avgdaylag'].quantile(.1)) &\n",
    "    (df_main['sessions_avgdaylag'] < df_main['sessions_avgdaylag'].quantile(.75)))\n",
    "    &\n",
    "    ((df_main['sessions_totaldaysactive'] > df_main['sessions_totaldaysactive'].quantile(.10)) &\n",
    "    (df_main['sessions_totaldaysactive'] < df_main['sessions_totaldaysactive'].quantile(.75)))\n",
    "    &\n",
    "    ((df_main['sessions_totalnumber'] > df_main['sessions_totalnumber'].quantile(.10)) &\n",
    "    (df_main['sessions_totalnumber'] < df_main['sessions_totalnumber'].quantile(.75)))\n",
    "]"
   ]
  },
  {
   "cell_type": "code",
   "execution_count": 7,
   "metadata": {},
   "outputs": [
    {
     "data": {
      "image/png": "[encoded data removed]",
      "text/plain": [
       "<matplotlib.figure.Figure at 0x110080eb8>"
      ]
     },
     "metadata": {},
     "output_type": "display_data"
    }
   ],
   "source": [
    "_, axes = plt.subplots(1, 4, sharey=True, figsize=(16,4))\n",
    "\n",
    "sns.boxplot(y='sessions_daysSinceLastSession', x='churned', data=example, palette='Blues', ax=axes[0]);\n",
    "sns.boxplot(y='sessions_avgdaylag', x='churned', data=example, palette='Blues', ax=axes[1]);\n",
    "sns.boxplot(y='sessions_totaldaysactive', x='churned', data=example, palette='Blues', ax=axes[2]);\n",
    "sns.boxplot(y='sessions_totalnumber', x='churned', data=example, palette='Blues', ax=axes[3]);"
   ]
  },
  {
   "cell_type": "code",
   "execution_count": 8,
   "metadata": {},
   "outputs": [
    {
     "data": {
      "image/png": "[encoded data removed]",
      "text/plain": [
       "<matplotlib.figure.Figure at 0x110086438>"
      ]
     },
     "metadata": {},
     "output_type": "display_data"
    }
   ],
   "source": [
    "sns.set(rc={\"figure.figsize\": (18, 8)})\n",
    "sns.countplot(\n",
    "    x='sessions_daysSinceLastSession',\n",
    "    hue='churned',\n",
    "    data=df_main[(df_main['sessions_daysSinceLastSession'] > 10) &\n",
    "                 (df_main['sessions_daysSinceLastSession'] < 35)],\n",
    "    palette='Blues'\n",
    ");"
   ]
  },
  {
   "cell_type": "code",
   "execution_count": 103,
   "metadata": {},
   "outputs": [
    {
     "data": {
      "image/png": "[encoded data removed]",
      "text/plain": [
       "<matplotlib.figure.Figure at 0x1a1f3d2668>"
      ]
     },
     "metadata": {},
     "output_type": "display_data"
    }
   ],
   "source": [
    "plt.scatter(df_main[df_main['churned'] == 1]['sessions_daysSinceLastSession'], \n",
    "            df_main[df_main['churned'] == 1]['sessions_totalnumber'],\n",
    "           color='red', label='churn');\n",
    "plt.scatter(df_main[df_main['churned'] == 0]['sessions_daysSinceLastSession'], \n",
    "            df_main[df_main['churned'] == 0]['sessions_totalnumber'],\n",
    "           color='blue', label='loyal');\n",
    "plt.xlabel('Количество дней с последней сессии');\n",
    "plt.ylabel('Общее количество сессий');\n",
    "plt.title('Распределение сессий для лояльных/ушедших');\n",
    "plt.legend();"
   ]
  },
  {
   "cell_type": "markdown",
   "metadata": {
    "collapsed": true
   },
   "source": [
    "__________________"
   ]
  },
  {
   "cell_type": "markdown",
   "metadata": {},
   "source": [
    "## FEATURE ENGINEERING"
   ]
  },
  {
   "cell_type": "markdown",
   "metadata": {},
   "source": [
    "Добавим несколько новых признаков, основывающихся, прежде всего, на сессионых данных пользователей."
   ]
  },
  {
   "cell_type": "code",
   "execution_count": 42,
   "metadata": {
    "collapsed": true
   },
   "outputs": [],
   "source": [
    "# общее количество сессий за 4 месяца меньше 2\n",
    "\n",
    "df_main['sessions_totalnumber_less_2'] = df_main['sessions_totalnumber'].apply(lambda x: 1 if x < 2 else 0)"
   ]
  },
  {
   "cell_type": "code",
   "execution_count": 43,
   "metadata": {
    "collapsed": true
   },
   "outputs": [],
   "source": [
    "# общее количество сессий за 4 месяца меньше 6\n",
    "\n",
    "df_main['sessions_totalnumber_less_6'] = df_main['sessions_totalnumber'].apply(lambda x: 1 if x < 6 else 0)"
   ]
  },
  {
   "cell_type": "code",
   "execution_count": 44,
   "metadata": {
    "collapsed": true
   },
   "outputs": [],
   "source": [
    "# общее количество активных дней за 4 месяца меньше 2\n",
    "\n",
    "df_main['sessions_totaldaysactive_less_2'] = df_main['sessions_totaldaysactive'].apply(lambda x: 1 if x < 2 else 0)"
   ]
  },
  {
   "cell_type": "code",
   "execution_count": 45,
   "metadata": {
    "collapsed": true
   },
   "outputs": [],
   "source": [
    "df_main['sessions_avgdaylag_greater_20'] = df_main['sessions_avgdaylag'].apply(lambda x: 1 if x > 20.5 else 0)\n",
    "df_main['sessions_avgdaylag_greater_10'] = df_main['sessions_avgdaylag'].apply(lambda x: 1 if x > 10 else 0)\n",
    "df_main['sessions_avgdaylag_greater_15'] = df_main['sessions_avgdaylag'].apply(lambda x: 1 if x > 15 else 0)\n",
    "df_main['sessions_totaldaysactive_equalsless_2'] = df_main['sessions_totaldaysactive'].apply(lambda x: 1 if x <= 2 else 0)\n",
    "df_main['sessions_daysSinceLastSession_equalsgreater_19'] = df_main['sessions_daysSinceLastSession'].apply(lambda x: 1 if x >= 19 else 0)\n",
    "df_main['sessions_totalnumber_equalsless_5'] = df_main['sessions_totalnumber'].apply(lambda x: 1 if x <= 5 else 0)"
   ]
  },
  {
   "cell_type": "code",
   "execution_count": 46,
   "metadata": {
    "collapsed": true
   },
   "outputs": [],
   "source": [
    "def label_race(row):\n",
    "    if (row['sessions_avgdaylag_greater_10'] == 1 and row['sessions_totaldaysactive_equalsless_2'] == 1 and\n",
    "        row['sessions_daysSinceLastSession_equalsgreater_19'] == 1 and row['sessions_totalnumber_equalsless_5'] == 1):\n",
    "        return 1\n",
    "    else:\n",
    "        return 0"
   ]
  },
  {
   "cell_type": "code",
   "execution_count": 47,
   "metadata": {
    "collapsed": true
   },
   "outputs": [],
   "source": [
    "df_main['sessions_isPassive'] = df_main.apply(lambda row: label_race (row),axis=1)"
   ]
  },
  {
   "cell_type": "code",
   "execution_count": 48,
   "metadata": {
    "collapsed": true
   },
   "outputs": [],
   "source": [
    "df_main['payments_isPassive'] = df_main['payments_operationAmount_count'].apply(lambda x: 1 if x == 0 else 0)\n",
    "df_main['transfers_isPassive'] = df_main['transfers_operationAmount_count'].apply(lambda x: 1 if x == 0 else 0)"
   ]
  },
  {
   "cell_type": "markdown",
   "metadata": {},
   "source": [
    "Построим кор. матрицу для \"сессионных\" признаков"
   ]
  },
  {
   "cell_type": "code",
   "execution_count": 49,
   "metadata": {},
   "outputs": [
    {
     "data": {
      "image/png": "[encoded data removed]",
      "text/plain": [
       "<matplotlib.figure.Figure at 0x1a39f79f60>"
      ]
     },
     "metadata": {},
     "output_type": "display_data"
    }
   ],
   "source": [
    "fig, ax = plt.subplots(figsize=(15,10))\n",
    "\n",
    "sns.heatmap(df_main[[f for f in df_main.columns if 'sessions' in f or 'churned' in f]].corr(), annot=True);"
   ]
  },
  {
   "cell_type": "markdown",
   "metadata": {},
   "source": [
    "_______"
   ]
  },
  {
   "cell_type": "code",
   "execution_count": 96,
   "metadata": {
    "collapsed": true
   },
   "outputs": [],
   "source": [
    "df_main.to_csv('../dmitriilin/Desktop/df_main_may_august2018.csv')"
   ]
  },
  {
   "cell_type": "code",
   "execution_count": 107,
   "metadata": {},
   "outputs": [
    {
     "data": {
      "text/plain": [
       "(8.0, 40.0)"
      ]
     },
     "execution_count": 107,
     "metadata": {},
     "output_type": "execute_result"
    }
   ],
   "source": [
    "df_main[df_main['churned'] == 1]['sessions_totalnumber'].median(),\\\n",
    "df_main[df_main['churned'] == 0]['sessions_totalnumber'].median()"
   ]
  },
  {
   "cell_type": "code",
   "execution_count": 106,
   "metadata": {},
   "outputs": [
    {
     "data": {
      "text/plain": [
       "(4.0, 19.0)"
      ]
     },
     "execution_count": 106,
     "metadata": {},
     "output_type": "execute_result"
    }
   ],
   "source": [
    "df_main[df_main['churned'] == 1]['sessions_totaldaysactive'].median(),\\\n",
    "df_main[df_main['churned'] == 0]['sessions_totaldaysactive'].median()"
   ]
  },
  {
   "cell_type": "code",
   "execution_count": 113,
   "metadata": {},
   "outputs": [
    {
     "data": {
      "text/plain": [
       "(6.86, 3.41)"
      ]
     },
     "execution_count": 113,
     "metadata": {},
     "output_type": "execute_result"
    }
   ],
   "source": [
    "df_main[df_main['churned'] == 1]['sessions_avgdaylag'].median(),\\\n",
    "df_main[df_main['churned'] == 0]['sessions_avgdaylag'].median()"
   ]
  },
  {
   "cell_type": "code",
   "execution_count": 121,
   "metadata": {},
   "outputs": [
    {
     "data": {
      "text/plain": [
       "(1.6443201963725624, 7.847448209044539)"
      ]
     },
     "execution_count": 121,
     "metadata": {},
     "output_type": "execute_result"
    }
   ],
   "source": [
    "df_main[df_main['churned'] == 1]['payments_operationAmount_count'].mean(),\\\n",
    "df_main[df_main['churned'] == 0]['payments_operationAmount_count'].mean()"
   ]
  },
  {
   "cell_type": "code",
   "execution_count": 122,
   "metadata": {},
   "outputs": [
    {
     "data": {
      "text/plain": [
       "(1.6706668484931133, 8.165360613227708)"
      ]
     },
     "execution_count": 122,
     "metadata": {},
     "output_type": "execute_result"
    }
   ],
   "source": [
    "df_main[df_main['churned'] == 1]['transfers_operationAmount_count'].mean(),\\\n",
    "df_main[df_main['churned'] == 0]['transfers_operationAmount_count'].mean()"
   ]
  },
  {
   "cell_type": "markdown",
   "metadata": {},
   "source": [
    "## ОБУЧАЕМ МОДЕЛЬ (-И)"
   ]
  },
  {
   "cell_type": "code",
   "execution_count": 57,
   "metadata": {
    "collapsed": true
   },
   "outputs": [],
   "source": [
    "from sklearn.model_selection import train_test_split, GridSearchCV, StratifiedKFold, cross_val_score\n",
    "from sklearn.metrics import accuracy_score\n",
    "from sklearn.tree import DecisionTreeClassifier, DecisionTreeRegressor\n",
    "from sklearn.neighbors import KNeighborsClassifier\n",
    "from sklearn.linear_model import LogisticRegression, LogisticRegressionCV, SGDClassifier\n",
    "from sklearn.metrics import confusion_matrix\n",
    "from sklearn.metrics import precision_recall_curve, classification_report\n",
    "from sklearn.metrics import f1_score\n",
    "from sklearn.preprocessing import PolynomialFeatures, StandardScaler\n",
    "from sklearn.pipeline import Pipeline\n",
    "from collections import Counter"
   ]
  },
  {
   "cell_type": "code",
   "execution_count": 58,
   "metadata": {
    "collapsed": true
   },
   "outputs": [],
   "source": [
    "y = df_main['churned']\n",
    "X = df_main.drop(['churned'], axis=1)\n",
    "\n",
    "X_train, X_valid, y_train, y_valid = train_test_split(X, y, test_size=.3, random_state=42)"
   ]
  },
  {
   "cell_type": "markdown",
   "metadata": {},
   "source": [
    "__________________"
   ]
  },
  {
   "cell_type": "markdown",
   "metadata": {},
   "source": [
    "## RANDOM FOREST"
   ]
  },
  {
   "cell_type": "code",
   "execution_count": 62,
   "metadata": {
    "scrolled": false
   },
   "outputs": [
    {
     "name": "stdout",
     "output_type": "stream",
     "text": [
      "             precision    recall  f1-score   support\n",
      "\n",
      "non-churned       0.90      0.92      0.91     41993\n",
      "    churned       0.84      0.81      0.82     22118\n",
      "\n",
      "avg / total       0.88      0.88      0.88     64111\n",
      "\n"
     ]
    }
   ],
   "source": [
    "print(classification_report(y_valid, forest.predict(X_valid), target_names=['non-churned', 'churned']))"
   ]
  },
  {
   "cell_type": "markdown",
   "metadata": {},
   "source": [
    "## GradientBoosting (LIGHT)"
   ]
  },
  {
   "cell_type": "code",
   "execution_count": 65,
   "metadata": {
    "collapsed": true
   },
   "outputs": [],
   "source": [
    "import lightgbm as lgb\n",
    "\n",
    "# Set params\n",
    "# Scores ~0.784 (without tuning and early stopping)\n",
    "params = {\n",
    "    'boosting_type': 'gbdt',\n",
    "    'max_depth' : -1,\n",
    "    'objective': 'binary',\n",
    "    'nthread': 3, # Updated from nthread\n",
    "    'num_leaves': 34,\n",
    "    'learning_rate': 0.1,\n",
    "    'max_bin': 1024,\n",
    "    'subsample_for_bin': 200,\n",
    "    'subsample': 1,\n",
    "    'subsample_freq': 1,\n",
    "    'colsample_bytree': 0.8,\n",
    "    'reg_alpha': 5,\n",
    "    'reg_lambda': 10,\n",
    "    'min_split_gain': 0.5,\n",
    "    'min_child_weight': 1,\n",
    "    'min_child_samples': 5,\n",
    "    'scale_pos_weight': 1,\n",
    "    'num_class' : 1,\n",
    "    'metric' : 'binary_logloss',\n",
    "    'num_iterations' : 200\n",
    "}\n",
    "\n",
    "gridParams = {\n",
    "    'learning_rate': [0.1],\n",
    "    'n_estimators': [40],\n",
    "    'num_leaves': [31],\n",
    "    'boosting_type' : ['gbdt'],\n",
    "    'objective' : ['binary'],\n",
    "    'random_state' : [42], # Updated from 'seed'\n",
    "    'colsample_bytree' : [0.65, 0.66],\n",
    "    'subsample' : [0.7,0.75],\n",
    "    'reg_alpha' : [1.2, 1.4],\n",
    "    'reg_lambda' : [1.2, 1.4]\n",
    "}\n",
    "\n",
    "lgbm = lgb.LGBMClassifier(\n",
    "    boosting_type= params['boosting_type'],\n",
    "    objective = params['objective'],\n",
    "    n_jobs = -1, # Updated from 'nthread'\n",
    "    silent = True,\n",
    "    max_depth = params['max_depth'],\n",
    "    max_bin = params['max_bin'],\n",
    "    subsample_for_bin = params['subsample_for_bin'],\n",
    "    subsample = params['subsample'],\n",
    "    subsample_freq = params['subsample_freq'],\n",
    "    min_split_gain = params['min_split_gain'],\n",
    "    min_child_weight = params['min_child_weight'],\n",
    "    min_child_samples = params['min_child_samples'],\n",
    "    scale_pos_weight = params['scale_pos_weight'],\n",
    "    learning_rate = params['learning_rate'],\n",
    "    num_iterations=params['num_iterations'],\n",
    "    num_leaves=params['num_leaves']\n",
    ")"
   ]
  },
  {
   "cell_type": "code",
   "execution_count": 66,
   "metadata": {},
   "outputs": [
    {
     "data": {
      "text/plain": [
       "LGBMClassifier(boosting_type='gbdt', class_weight=None, colsample_bytree=1.0,\n",
       "        learning_rate=0.1, max_bin=1024, max_depth=-1, min_child_samples=5,\n",
       "        min_child_weight=1, min_split_gain=0.5, n_estimators=100,\n",
       "        n_jobs=-1, num_iterations=200, num_leaves=34, objective='binary',\n",
       "        random_state=None, reg_alpha=0.0, reg_lambda=0.0,\n",
       "        scale_pos_weight=1, silent=True, subsample=1,\n",
       "        subsample_for_bin=200, subsample_freq=1)"
      ]
     },
     "execution_count": 66,
     "metadata": {},
     "output_type": "execute_result"
    }
   ],
   "source": [
    "lgbm.fit(X_train, y_train)"
   ]
  },
  {
   "cell_type": "code",
   "execution_count": 67,
   "metadata": {},
   "outputs": [
    {
     "name": "stdout",
     "output_type": "stream",
     "text": [
      "             precision    recall  f1-score   support\n",
      "\n",
      "Non-churned       0.92      0.91      0.91     41993\n",
      "    Churned       0.83      0.85      0.84     22118\n",
      "\n",
      "avg / total       0.89      0.89      0.89     64111\n",
      "\n"
     ]
    },
    {
     "name": "stderr",
     "output_type": "stream",
     "text": [
      "/Users/dmitriilin/anaconda3/lib/python3.6/site-packages/sklearn/preprocessing/label.py:151: DeprecationWarning: The truth value of an empty array is ambiguous. Returning False, but in future this will result in an error. Use `array.size > 0` to check that an array is not empty.\n",
      "  if diff:\n"
     ]
    }
   ],
   "source": [
    "# F1 score для litegb - параметры НЕоптимизированы\n",
    "\n",
    "report = classification_report(y_valid, lgbm.predict(X_valid), target_names=['Non-churned', 'Churned'])\n",
    "print(report)"
   ]
  },
  {
   "cell_type": "code",
   "execution_count": 71,
   "metadata": {},
   "outputs": [
    {
     "name": "stdout",
     "output_type": "stream",
     "text": [
      "CPU times: user 18.2 s, sys: 452 ms, total: 18.7 s\n",
      "Wall time: 8min 1s\n"
     ]
    }
   ],
   "source": [
    "%%time\n",
    "lgbm_grid = GridSearchCV(lgbm, gridParams,\n",
    "                    verbose=False,\n",
    "                    cv=5,\n",
    "                    n_jobs=-1, scoring='f1')\n",
    "lgbm_grid.fit(X_train, y_train)"
   ]
  },
  {
   "cell_type": "code",
   "execution_count": 72,
   "metadata": {},
   "outputs": [
    {
     "data": {
      "text/plain": [
       "({'boosting_type': 'gbdt',\n",
       "  'colsample_bytree': 0.66,\n",
       "  'learning_rate': 0.1,\n",
       "  'n_estimators': 40,\n",
       "  'num_leaves': 31,\n",
       "  'objective': 'binary',\n",
       "  'random_state': 42,\n",
       "  'reg_alpha': 1.2,\n",
       "  'reg_lambda': 1.2,\n",
       "  'subsample': 0.75},\n",
       " 0.8412683210877118)"
      ]
     },
     "execution_count": 72,
     "metadata": {},
     "output_type": "execute_result"
    }
   ],
   "source": [
    "lgbm_grid.best_params_, lgbm_grid.best_score_"
   ]
  },
  {
   "cell_type": "code",
   "execution_count": 73,
   "metadata": {},
   "outputs": [
    {
     "name": "stdout",
     "output_type": "stream",
     "text": [
      "             precision    recall  f1-score   support\n",
      "\n",
      "Non-churned       0.92      0.91      0.91     41993\n",
      "    Churned       0.83      0.85      0.84     22118\n",
      "\n",
      "avg / total       0.89      0.89      0.89     64111\n",
      "\n"
     ]
    }
   ],
   "source": [
    "# F1 score для litegb - параметры НЕоптимизированы\n",
    "\n",
    "report = classification_report(y_valid, lgbm.predict(X_valid), target_names=['Non-churned', 'Churned'])\n",
    "print(report)"
   ]
  },
  {
   "cell_type": "code",
   "execution_count": 74,
   "metadata": {},
   "outputs": [
    {
     "name": "stdout",
     "output_type": "stream",
     "text": [
      "             precision    recall  f1-score   support\n",
      "\n",
      "Non-churned       0.92      0.91      0.91     41993\n",
      "    Churned       0.83      0.85      0.84     22118\n",
      "\n",
      "avg / total       0.89      0.89      0.89     64111\n",
      "\n"
     ]
    }
   ],
   "source": [
    "# F1 score для litegb - параметры оптимизированы\n",
    "\n",
    "report = classification_report(y_valid, lgbm_grid.predict(X_valid), target_names=['Non-churned', 'Churned'])\n",
    "print(report)"
   ]
  },
  {
   "cell_type": "markdown",
   "metadata": {},
   "source": [
    "## CATBOOST"
   ]
  },
  {
   "cell_type": "code",
   "execution_count": 76,
   "metadata": {
    "_cell_guid": "24967b57-732b-7180-bfd5-005beff75974",
    "_uuid": "d3b5087c7fab5542cac722ad7ebc52e0244d0559",
    "collapsed": true
   },
   "outputs": [],
   "source": [
    "from catboost import CatBoostClassifier, cv, Pool"
   ]
  },
  {
   "cell_type": "code",
   "execution_count": 77,
   "metadata": {
    "collapsed": true
   },
   "outputs": [],
   "source": [
    "model = CatBoostClassifier(\n",
    "    custom_loss=['F1'],\n",
    "    random_seed=42,\n",
    "    logging_level='Silent'\n",
    ")"
   ]
  },
  {
   "cell_type": "code",
   "execution_count": 78,
   "metadata": {
    "collapsed": true
   },
   "outputs": [],
   "source": [
    "# np.where(X.dtypes != np.float)[0]"
   ]
  },
  {
   "cell_type": "code",
   "execution_count": 79,
   "metadata": {
    "scrolled": false
   },
   "outputs": [
    {
     "name": "stdout",
     "output_type": "stream",
     "text": [
      "Learning rate set to 0.132013\n"
     ]
    }
   ],
   "source": [
    "model.fit(\n",
    "    X_train, y_train,\n",
    "    eval_set=(X_valid, y_valid),\n",
    "    plot=False\n",
    ");"
   ]
  },
  {
   "cell_type": "code",
   "execution_count": 80,
   "metadata": {},
   "outputs": [
    {
     "name": "stdout",
     "output_type": "stream",
     "text": [
      "Learning rate set to 0.068175\n"
     ]
    }
   ],
   "source": [
    "cv_data = cv(\n",
    "    Pool(X, y),\n",
    "    model.get_params(),\n",
    "    plot=False\n",
    ")"
   ]
  },
  {
   "cell_type": "code",
   "execution_count": 81,
   "metadata": {},
   "outputs": [
    {
     "name": "stdout",
     "output_type": "stream",
     "text": [
      "Best validation F1 score: 0.84±0.00 on step 543\n"
     ]
    }
   ],
   "source": [
    "print('Best validation F1 score: {:.2f}±{:.2f} on step {}'.format(\n",
    "    np.max(cv_data['test-F1-mean']),\n",
    "    cv_data['test-F1-std'][np.argmax(cv_data['test-F1-mean'])],\n",
    "    np.argmax(cv_data['test-F1-mean'])\n",
    "))"
   ]
  },
  {
   "cell_type": "code",
   "execution_count": 82,
   "metadata": {},
   "outputs": [
    {
     "name": "stdout",
     "output_type": "stream",
     "text": [
      "Precise validation F1 score: 0.841652341941943\n"
     ]
    }
   ],
   "source": [
    "print('Precise validation F1 score: {}'.format(np.max(cv_data['test-F1-mean'])))"
   ]
  },
  {
   "cell_type": "code",
   "execution_count": 83,
   "metadata": {},
   "outputs": [
    {
     "name": "stdout",
     "output_type": "stream",
     "text": [
      "Learning rate set to 0.128186\n",
      "Random seed assigned for this model: 54405374444769\n"
     ]
    }
   ],
   "source": [
    "model_without_seed = CatBoostClassifier(iterations=500, logging_level='Silent')\n",
    "model_without_seed.fit(X_train, y_train)\n",
    "\n",
    "print('Random seed assigned for this model: {}'.format(model_without_seed.random_seed_))"
   ]
  },
  {
   "cell_type": "code",
   "execution_count": 84,
   "metadata": {
    "collapsed": true
   },
   "outputs": [],
   "source": [
    "params = {\n",
    "    'iterations': 200,\n",
    "    'learning_rate': 0.1,\n",
    "    'eval_metric': 'F1',\n",
    "    'random_seed': 42,\n",
    "    'logging_level': 'Silent'\n",
    "}\n",
    "train_pool = Pool(X_train, y_train)\n",
    "validate_pool = Pool(X_valid, y_valid)"
   ]
  },
  {
   "cell_type": "code",
   "execution_count": 85,
   "metadata": {},
   "outputs": [
    {
     "name": "stdout",
     "output_type": "stream",
     "text": [
      "Best model validation F1: 0.8407\n"
     ]
    }
   ],
   "source": [
    "cb = CatBoostClassifier(**params)\n",
    "cb.fit(train_pool, eval_set=validate_pool)\n",
    "\n",
    "# best_model_params = params.copy()\n",
    "# best_model_params.update({\n",
    "#     'use_best_model': True\n",
    "# })\n",
    "# best_model = CatBoostClassifier(**best_model_params)\n",
    "# best_model.fit(train_pool, eval_set=validate_pool);\n",
    "\n",
    "print('Best model validation F1: {:.4}'.format(\n",
    "#     accuracy_score(y_valid, best_model.predict(X_valid))\n",
    "    f1_score(y_valid, cb.predict(X_valid))\n",
    "))"
   ]
  },
  {
   "cell_type": "markdown",
   "metadata": {},
   "source": [
    "### Пробуем Early Stopping"
   ]
  },
  {
   "cell_type": "code",
   "execution_count": 87,
   "metadata": {
    "scrolled": true
   },
   "outputs": [
    {
     "name": "stdout",
     "output_type": "stream",
     "text": [
      "CPU times: user 34 s, sys: 1.75 s, total: 35.7 s\n",
      "Wall time: 12 s\n"
     ]
    }
   ],
   "source": [
    "%%time\n",
    "params.update({\n",
    "    'od_type': 'Iter',\n",
    "    'od_wait': 50\n",
    "})\n",
    "cb_early_stopping = CatBoostClassifier(**params)\n",
    "cb_early_stopping.fit(train_pool, eval_set=validate_pool);"
   ]
  },
  {
   "cell_type": "code",
   "execution_count": 88,
   "metadata": {},
   "outputs": [
    {
     "name": "stdout",
     "output_type": "stream",
     "text": [
      "Early-stopped best model tree count: 184\n",
      "Early-stopped best model validation F1: 0.8403\n"
     ]
    }
   ],
   "source": [
    "print('Early-stopped best model tree count: {}'.format(cb.tree_count_))\n",
    "print('Early-stopped best model validation F1: {:.4}'.format(\n",
    "    f1_score(y_valid, cb_early_stopping.predict(X_valid))\n",
    "))"
   ]
  },
  {
   "cell_type": "code",
   "execution_count": 89,
   "metadata": {},
   "outputs": [
    {
     "data": {
      "text/plain": [
       "({'eval_metric': 'F1',\n",
       "  'iterations': 200,\n",
       "  'learning_rate': 0.1,\n",
       "  'logging_level': 'Silent',\n",
       "  'loss_function': 'Logloss',\n",
       "  'od_type': 'Iter',\n",
       "  'od_wait': 50,\n",
       "  'random_seed': 42},\n",
       " {'eval_metric': 'F1',\n",
       "  'iterations': 200,\n",
       "  'learning_rate': 0.1,\n",
       "  'logging_level': 'Silent',\n",
       "  'loss_function': 'Logloss',\n",
       "  'random_seed': 42})"
      ]
     },
     "execution_count": 89,
     "metadata": {},
     "output_type": "execute_result"
    }
   ],
   "source": [
    "cb_early_stopping.get_params(), cb.get_params()"
   ]
  },
  {
   "cell_type": "markdown",
   "metadata": {},
   "source": [
    "### Пробуем оптимизировать параметры"
   ]
  },
  {
   "cell_type": "code",
   "execution_count": 90,
   "metadata": {
    "collapsed": true
   },
   "outputs": [],
   "source": [
    "import  hyperopt\n",
    "\n",
    "def hyperopt_objective(params):\n",
    "    model = CatBoostClassifier(\n",
    "        l2_leaf_reg=int(params['l2_leaf_reg']),\n",
    "        learning_rate=params['learning_rate'],\n",
    "        iterations=100, #make 50\n",
    "        eval_metric='F1',\n",
    "        random_seed=42,\n",
    "        logging_level='Silent'\n",
    "    )\n",
    "    \n",
    "    cv_data = cv(\n",
    "        Pool(X, y),\n",
    "        model.get_params()\n",
    "    )\n",
    "    best_accuracy = np.max(cv_data['test-F1-mean'])\n",
    "    \n",
    "    return 1 - best_accuracy # as hyperopt minimises"
   ]
  },
  {
   "cell_type": "code",
   "execution_count": 91,
   "metadata": {},
   "outputs": [
    {
     "name": "stdout",
     "output_type": "stream",
     "text": [
      "{'l2_leaf_reg': 2.0, 'learning_rate': 0.1661030060980962}\n"
     ]
    }
   ],
   "source": [
    "from numpy.random import RandomState\n",
    "\n",
    "params_space = {\n",
    "    'l2_leaf_reg': hyperopt.hp.qloguniform('l2_leaf_reg', 0, 2, 1),\n",
    "    'learning_rate': hyperopt.hp.uniform('learning_rate', 1e-3, 5e-1)\n",
    "}\n",
    "\n",
    "trials = hyperopt.Trials()\n",
    "\n",
    "best = hyperopt.fmin(\n",
    "    hyperopt_objective,\n",
    "    space=params_space,\n",
    "    algo=hyperopt.tpe.suggest,\n",
    "    max_evals=50,\n",
    "    trials=trials,\n",
    "    rstate=RandomState(123)\n",
    ")\n",
    "\n",
    "print(best)"
   ]
  },
  {
   "cell_type": "code",
   "execution_count": 92,
   "metadata": {
    "collapsed": true
   },
   "outputs": [],
   "source": [
    "model = CatBoostClassifier(\n",
    "    l2_leaf_reg=int(best['l2_leaf_reg']),\n",
    "    learning_rate=best['learning_rate'],\n",
    "    iterations=100,\n",
    "    eval_metric='F1',\n",
    "    random_seed=42,\n",
    "    logging_level='Silent',\n",
    "    use_best_model=True\n",
    ")\n",
    "cv_data = cv(Pool(X, y), model.get_params())"
   ]
  },
  {
   "cell_type": "code",
   "execution_count": 93,
   "metadata": {},
   "outputs": [
    {
     "name": "stdout",
     "output_type": "stream",
     "text": [
      "Precise validation F1 score: 0.8412501161964352\n"
     ]
    }
   ],
   "source": [
    "print('Precise validation F1 score: {}'.format(np.max(cv_data['test-F1-mean'])))\n"
   ]
  },
  {
   "cell_type": "code",
   "execution_count": 94,
   "metadata": {},
   "outputs": [
    {
     "name": "stdout",
     "output_type": "stream",
     "text": [
      "             precision    recall  f1-score   support\n",
      "\n",
      "Non-churned       0.92      0.91      0.91     41993\n",
      "    Churned       0.83      0.85      0.84     22118\n",
      "\n",
      "avg / total       0.89      0.89      0.89     64111\n",
      "\n"
     ]
    }
   ],
   "source": [
    "# F1 score для CatBoost - параметры НЕоптимизированы\n",
    "\n",
    "report = classification_report(y_valid, cb.predict(X_valid), target_names=['Non-churned', 'Churned'])\n",
    "print(report)"
   ]
  },
  {
   "cell_type": "code",
   "execution_count": 95,
   "metadata": {
    "collapsed": true
   },
   "outputs": [],
   "source": [
    "model.fit(train_pool, eval_set=validate_pool);"
   ]
  },
  {
   "cell_type": "code",
   "execution_count": 96,
   "metadata": {},
   "outputs": [
    {
     "name": "stdout",
     "output_type": "stream",
     "text": [
      "             precision    recall  f1-score   support\n",
      "\n",
      "Non-churned       0.92      0.91      0.91     41993\n",
      "    Churned       0.83      0.85      0.84     22118\n",
      "\n",
      "avg / total       0.89      0.89      0.89     64111\n",
      "\n"
     ]
    }
   ],
   "source": [
    "# F1 score для CatBoost - параметры оптимизированы\n",
    "\n",
    "report = classification_report(y_valid, model.predict(X_valid), target_names=['Non-churned', 'Churned'])\n",
    "print(report)"
   ]
  },
  {
   "cell_type": "markdown",
   "metadata": {},
   "source": [
    "### CONFUSION MATRIX ДЛЯ LGBM"
   ]
  },
  {
   "cell_type": "code",
   "execution_count": 100,
   "metadata": {
    "scrolled": false
   },
   "outputs": [
    {
     "name": "stdout",
     "output_type": "stream",
     "text": [
      "Confusion matrix, without normalization\n",
      "[[38025  3968]\n",
      " [ 3257 18861]]\n"
     ]
    },
    {
     "data": {
      "image/png": "[encoded data removed]",
      "text/plain": [
       "<matplotlib.figure.Figure at 0x1a21d536a0>"
      ]
     },
     "metadata": {},
     "output_type": "display_data"
    }
   ],
   "source": [
    "# Воспользуемся функцией построения матрицы ошибок из документации sklearn\n",
    "\n",
    "def plot_confusion_matrix(cm, classes,\n",
    "                          normalize=False,\n",
    "                          title='Confusion matrix',\n",
    "                          cmap=plt.cm.Blues):\n",
    "    \"\"\"\n",
    "    This function prints and plots the confusion matrix.\n",
    "    Normalization can be applied by setting `normalize=True`.\n",
    "    \"\"\"\n",
    "    plt.imshow(cm, interpolation='nearest', cmap=cmap)\n",
    "    plt.title(title)\n",
    "    plt.colorbar()\n",
    "    tick_marks = np.arange(len(classes))\n",
    "    plt.xticks(tick_marks, classes, rotation=45)\n",
    "    plt.yticks(tick_marks, classes)\n",
    "\n",
    "    if normalize:\n",
    "        cm = cm.astype('float') / cm.sum(axis=1)[:, np.newaxis]\n",
    "        print(\"Normalized confusion matrix\")\n",
    "    else:\n",
    "        print('Confusion matrix, without normalization')\n",
    "\n",
    "    print(cm)\n",
    "\n",
    "    thresh = cm.max() / 2.\n",
    "    for i, j in itertools.product(range(cm.shape[0]), range(cm.shape[1])):\n",
    "        plt.text(j, i, cm[i, j],\n",
    "                 horizontalalignment=\"center\",\n",
    "                 color=\"white\" if cm[i, j] > thresh else \"black\")\n",
    "\n",
    "    plt.tight_layout()\n",
    "    plt.ylabel('True label')\n",
    "    plt.xlabel('Predicted label')\n",
    "\n",
    "font = {'size' : 18}\n",
    "\n",
    "plt.rc('font', **font)\n",
    "\n",
    "cnf_matrix = confusion_matrix(y_valid, lgbm.predict(X_valid))\n",
    "plt.figure(figsize=(10, 8))\n",
    "plot_confusion_matrix(cnf_matrix, classes=['Non-churned', 'Churned'],\n",
    "                      title='LGBM Confusion matrix')\n",
    "# plt.savefig(\"conf_matrix.png\")\n",
    "plt.show()"
   ]
  },
  {
   "cell_type": "code",
   "execution_count": 101,
   "metadata": {},
   "outputs": [
    {
     "name": "stdout",
     "output_type": "stream",
     "text": [
      "Confusion matrix, without normalization\n",
      "[[38095  3898]\n",
      " [ 3242 18876]]\n"
     ]
    },
    {
     "data": {
      "image/png": "[encoded data removed]",
      "text/plain": [
       "<matplotlib.figure.Figure at 0x1a5c2d83c8>"
      ]
     },
     "metadata": {},
     "output_type": "display_data"
    }
   ],
   "source": [
    "font = {'size' : 18}\n",
    "\n",
    "plt.rc('font', **font)\n",
    "\n",
    "cnf_matrix = confusion_matrix(y_valid, model.predict(X_valid))\n",
    "plt.figure(figsize=(10, 8))\n",
    "plot_confusion_matrix(cnf_matrix, classes=['Non-churned', 'Churned'],\n",
    "                      title='CatBoost Confusion matrix')\n",
    "# plt.savefig(\"conf_matrix.png\")\n",
    "plt.show()"
   ]
  },
  {
   "cell_type": "markdown",
   "metadata": {},
   "source": [
    "## СДЕЛАЕМ ПРОГНОЗ НА НОЯБРЬ 2018"
   ]
  },
  {
   "cell_type": "code",
   "execution_count": 131,
   "metadata": {
    "collapsed": true
   },
   "outputs": [],
   "source": [
    "# загрузим данные по сессиям за 4 мес. (июль-август-сентябрь-октябрь 2018)\n",
    "\n",
    "sessions = pd.read_csv('../dmitriilin/Downloads/sessions_july_october_2018.csv')"
   ]
  },
  {
   "cell_type": "code",
   "execution_count": 133,
   "metadata": {
    "collapsed": true
   },
   "outputs": [],
   "source": [
    "df_main_november_predict = sessions.groupby('DeviceID')[['SessionStartTimestamp']]\\\n",
    "    .count().reset_index().sort_values(by='SessionStartTimestamp', ascending=False)\n",
    "\n",
    "df_main_november_predict['SessionStartDate'] = [sorted(list(set(sessions['SessionStartDate'].loc[sessions['DeviceID'] == x['DeviceID']])))  \n",
    "    for _, x in df_main_november_predict.iterrows()]\n",
    "\n",
    "df_main_november_predict['sessions_avgdaylag'] = df_main_november_predict.apply(lambda x: func(x['SessionStartDate']), axis=1)\n",
    "\n",
    "tempSer = df_main_november_predict[df_main_november_predict['sessions_avgdaylag'].isnull()]['SessionStartDate'].apply(\n",
    "     lambda x: round((int(round((reportDate - datetime.strptime(x[0], fmt)).total_seconds() / 60))) / 1440))\n",
    "\n",
    "df_main_november_predict['sessions_avgdaylag'] = df_main_november_predict['sessions_avgdaylag'].fillna(tempSer)\n",
    "\n",
    "temp = sessions.groupby('DeviceID')[['SessionStartDate']].max().reset_index()\n",
    "temp['sessions_daysSinceLastSession'] = temp['SessionStartDate'].apply(\n",
    "    lambda x: round((int(round((reportDate - datetime.strptime(x, fmt)).total_seconds() / 60))) / 1440))\n",
    "df_main_november_predict = df_main_november_predict.join(temp.drop(['SessionStartDate'], axis=1).set_index('DeviceID'), on='DeviceID')\n",
    "\n",
    "df_main_november_predict['sessions_totaldaysactive'] = df_main_november_predict['SessionStartDate'].apply(lambda x: len(x))\n",
    "\n",
    "df_main_november_predict = df_main_november_predict.drop(['SessionStartDate'], axis=1).rename(index=str, columns={\n",
    "    \"SessionStartTimestamp\": \"sessions_totalnumber\"\n",
    "})"
   ]
  },
  {
   "cell_type": "code",
   "execution_count": 134,
   "metadata": {
    "collapsed": true
   },
   "outputs": [],
   "source": [
    "payments = pd.read_csv('../dmitriilin/Downloads/payments_july_october_2018.csv')"
   ]
  },
  {
   "cell_type": "code",
   "execution_count": 137,
   "metadata": {
    "collapsed": true
   },
   "outputs": [],
   "source": [
    "f = {\n",
    "    'operationAmount':['count','sum', 'median', 'min', 'max'], #количество, сумма, медиана, минимум и максимум\n",
    "    'sender': ['nunique'], #кол-во уникальных источников платежей\n",
    "    'recipient': ['nunique'], #кол-во получателей платежей\n",
    "    'operationMethod': ['nunique'] #кол-во способов платежей\n",
    "}\n",
    "\n",
    "# расчитаем агрегаты по каждому DeviceID\n",
    "\n",
    "payments_agg = payments.groupby(['DeviceID']).agg(f)\n",
    "payments_agg.columns = payments_agg.columns.map('_'.join)\n",
    "payments_agg = payments_agg.reset_index().rename(columns={\n",
    "    'operationAmount_count': 'payments_operationAmount_count',\n",
    "    'operationAmount_sum': 'payments_operationAmount_sum',\n",
    "    'operationAmount_median': 'payments_operationAmount_median',\n",
    "    'operationAmount_min': 'payments_operationAmount_min',\n",
    "    'operationAmount_max': 'payments_operationAmount_max',\n",
    "    'sender_nunique': 'payments_sender_nunique',\n",
    "    'recipient_nunique': 'payments_recipient_nunique',\n",
    "    'operationMethod_nunique': 'payments_operationMethod_nunique'\n",
    "})\n",
    "\n",
    "\n",
    "payments_agg['payments_date'] = [sorted(list(set(payments['EventDate'].loc[payments['DeviceID'] == x['DeviceID']])))  \n",
    "    for _, x in payments_agg.iterrows()]\n",
    "payments_agg['payments_avgdaylag'] = payments_agg.apply(lambda x: func(x['payments_date']), axis=1)\n",
    "payments_agg['payments_daysactive'] = payments_agg['payments_date'].apply(lambda x: len(x))\n",
    "\n",
    "payments_agg = payments_agg.drop(['payments_date'], axis=1)\n",
    "df_main_november_predict = df_main_november_predict.join(payments_agg.set_index('DeviceID'), on='DeviceID')\n",
    "temp = payments.groupby('DeviceID')[['EventDate']].max().reset_index()\n",
    "temp['payments_daysSinceLastPayment'] = temp['EventDate'].apply(\n",
    "    lambda x: round((int(round((reportDate - datetime.strptime(x, fmt)).total_seconds() / 60))) / 1440))\n",
    "df_main_november_predict = df_main_november_predict.join(temp.drop(['EventDate'], axis=1).set_index('DeviceID'), on='DeviceID')\n",
    "\n",
    "fillna0 = [\n",
    "    'payments_operationAmount_count',\n",
    "    'payments_operationAmount_sum',\n",
    "    'payments_operationAmount_median',\n",
    "    'payments_operationAmount_min',\n",
    "    'payments_operationAmount_max',\n",
    "    'payments_sender_nunique',\n",
    "    'payments_recipient_nunique',\n",
    "    'payments_operationMethod_nunique',\n",
    "    'payments_daysactive'\n",
    "]\n",
    "\n",
    "fillna110 = ['payments_avgdaylag', 'payments_daysSinceLastPayment']\n",
    "\n",
    "for i in fillna0:\n",
    "    df_main_november_predict[i].fillna(0, inplace=True)\n",
    "\n",
    "for i in fillna110:\n",
    "    df_main_november_predict[i].fillna(110, inplace=True)"
   ]
  },
  {
   "cell_type": "code",
   "execution_count": 138,
   "metadata": {
    "collapsed": true
   },
   "outputs": [],
   "source": [
    "fundTransfers = pd.read_csv('../dmitriilin/Downloads/transfers_july_october_2018.csv', sep=',')"
   ]
  },
  {
   "cell_type": "code",
   "execution_count": 139,
   "metadata": {
    "collapsed": true
   },
   "outputs": [],
   "source": [
    "f = {\n",
    "    'operationAmount':['count','sum', 'median', 'min', 'max'], #количество и сумма операций\n",
    "    'operationFee': ['sum'], #сумма комиссий\n",
    "    'sender': ['nunique'], #кол-во источников перевода\n",
    "    'recipient': ['nunique'], #кол-во получателей перевода\n",
    "    'operationMethod': ['nunique'], #кол-во способов перевода\n",
    "    'senderCurrency': ['nunique'], #кол-во валют источника перевода\n",
    "    'recipientCurrency': ['nunique'] #кол-во валют получателя перевода\n",
    "}\n",
    "\n",
    "fundTransfers_agg = fundTransfers.groupby(['DeviceID']).agg(f)\n",
    "fundTransfers_agg.columns = fundTransfers_agg.columns.map('_'.join)\n",
    "fundTransfers_agg = fundTransfers_agg.reset_index().rename(columns={\n",
    "    'operationAmount_count': 'transfers_operationAmount_count',\n",
    "    'operationAmount_sum': 'transfers_operationAmount_sum',\n",
    "    'operationAmount_median': 'transfers_operationAmount_median',\n",
    "    'operationAmount_min': 'transfers_operationAmount_min',\n",
    "    'operationAmount_max': 'transfers_operationAmount_max',\n",
    "    'operationFee_sum': 'transfers_operationFee_sum',\n",
    "    'sender_nunique': 'transfers_sender_nunique',\n",
    "    'recipient_nunique': 'transfers_recipient_nunique',\n",
    "    'operationMethod_nunique': 'transfers_operationMethod_nunique',\n",
    "    'senderCurrency_nunique': 'transfers_senderCurrency_nunique',\n",
    "    'recipientCurrency_nunique': 'transfers_recipientCurrency_nunique'\n",
    "})\n",
    "\n",
    "fundTransfers_agg['transfers_date'] = [sorted(list(set(fundTransfers['EventDate'].loc[fundTransfers['DeviceID'] == x['DeviceID']])))  \n",
    "    for _, x in fundTransfers_agg.iterrows()]\n",
    "\n",
    "fundTransfers_agg['transfers_avgdaylag'] = fundTransfers_agg.apply(lambda x: func(x['transfers_date']), axis=1)\n",
    "fundTransfers_agg['transfers_daysactive'] = fundTransfers_agg['transfers_date'].apply(lambda x: len(x))\n",
    "\n",
    "fundTransfers_agg = fundTransfers_agg.drop(['transfers_date'], axis=1)\n",
    "\n",
    "df_main_november_predict = df_main_november_predict.join(fundTransfers_agg.set_index('DeviceID'), on='DeviceID')\n",
    "\n",
    "temp = fundTransfers.groupby('DeviceID')[['EventDate']].max().reset_index()\n",
    "temp['transfers_daysSinceLastTransfer'] = temp['EventDate'].apply(\n",
    "    lambda x: round((int(round((reportDate - datetime.strptime(x, fmt)).total_seconds() / 60))) / 1440))\n",
    "df_main_november_predict = df_main_november_predict.join(temp.drop(['EventDate'], axis=1).set_index('DeviceID'), on='DeviceID')\n",
    "\n",
    "fillna0 = [\n",
    "    'transfers_operationAmount_count',\n",
    "    'transfers_operationAmount_sum',\n",
    "    'transfers_operationAmount_median',\n",
    "    'transfers_operationAmount_min',\n",
    "    'transfers_operationAmount_max',\n",
    "    'transfers_operationFee_sum',\n",
    "    'transfers_sender_nunique',\n",
    "    'transfers_recipient_nunique',\n",
    "    'transfers_operationMethod_nunique',\n",
    "    'transfers_senderCurrency_nunique',\n",
    "    'transfers_recipientCurrency_nunique',\n",
    "]\n",
    "\n",
    "fillna110 = ['transfers_avgdaylag', 'transfers_daysactive', 'transfers_daysSinceLastTransfer']\n",
    "\n",
    "for i in fillna0:\n",
    "    df_main_november_predict[i].fillna(0, inplace=True)\n",
    "\n",
    "for i in fillna110:\n",
    "    df_main_november_predict[i].fillna(110, inplace=True)"
   ]
  },
  {
   "cell_type": "code",
   "execution_count": 140,
   "metadata": {
    "collapsed": true
   },
   "outputs": [],
   "source": [
    "# общее количество сессий за 3 месяца меньше 2\n",
    "\n",
    "df_main_november_predict['sessions_totalnumber_less_2'] = df_main_november_predict['sessions_totalnumber'].apply(lambda x: 1 if x < 2 else 0)\n",
    "\n",
    "# общее количество сессий за 3 месяца меньше 6\n",
    "\n",
    "df_main_november_predict['sessions_totalnumber_less_6'] = df_main_november_predict['sessions_totalnumber'].apply(lambda x: 1 if x < 6 else 0)\n",
    "\n",
    "# общее количество активных дней за 1 месяц меньше 2\n",
    "\n",
    "df_main_november_predict['sessions_totaldaysactive_less_2'] = df_main_november_predict['sessions_totaldaysactive'].apply(lambda x: 1 if x < 2 else 0)\n",
    "\n",
    "df_main_november_predict['sessions_avgdaylag_greater_20'] = df_main_november_predict['sessions_avgdaylag'].apply(lambda x: 1 if x > 20.5 else 0)\n",
    "df_main_november_predict['sessions_avgdaylag_greater_10'] = df_main_november_predict['sessions_avgdaylag'].apply(lambda x: 1 if x > 10 else 0)\n",
    "df_main_november_predict['sessions_avgdaylag_greater_15'] = df_main_november_predict['sessions_avgdaylag'].apply(lambda x: 1 if x > 15 else 0)\n",
    "df_main_november_predict['sessions_totaldaysactive_equalsless_2'] = df_main_november_predict['sessions_totaldaysactive'].apply(lambda x: 1 if x <= 2 else 0)\n",
    "df_main_november_predict['sessions_daysSinceLastSession_equalsgreater_19'] = df_main_november_predict['sessions_daysSinceLastSession'].apply(lambda x: 1 if x >= 19 else 0)\n",
    "df_main_november_predict['sessions_totalnumber_equalsless_5'] = df_main_november_predict['sessions_totalnumber'].apply(lambda x: 1 if x <= 5 else 0)\n",
    "\n",
    "df_main_november_predict['sessions_isPassive'] = df_main_november_predict.apply(lambda row: label_race (row),axis=1)\n",
    "\n",
    "df_main_november_predict['payments_isPassive'] = df_main_november_predict['payments_operationAmount_count'].apply(lambda x: 1 if x == 0 else 0)\n",
    "df_main_november_predict['transfers_isPassive'] = df_main_november_predict['transfers_operationAmount_count'].apply(lambda x: 1 if x == 0 else 0)"
   ]
  },
  {
   "cell_type": "markdown",
   "metadata": {},
   "source": [
    "### Предсказываем отток"
   ]
  },
  {
   "cell_type": "code",
   "execution_count": 165,
   "metadata": {
    "collapsed": true
   },
   "outputs": [],
   "source": [
    "df_main_november_predict['will_churn'] = lgbm.predict(df_main_november_predict)"
   ]
  },
  {
   "cell_type": "code",
   "execution_count": 166,
   "metadata": {
    "scrolled": true
   },
   "outputs": [
    {
     "data": {
      "text/plain": [
       "0    212601\n",
       "1     33888\n",
       "Name: will_churn, dtype: int64"
      ]
     },
     "execution_count": 166,
     "metadata": {},
     "output_type": "execute_result"
    }
   ],
   "source": [
    "df_main_november_predict[['DeviceID', 'will_churn']]['will_churn'].value_counts()"
   ]
  },
  {
   "cell_type": "code",
   "execution_count": 168,
   "metadata": {},
   "outputs": [
    {
     "data": {
      "text/plain": [
       "0   0.86\n",
       "1   0.14\n",
       "Name: will_churn, dtype: float64"
      ]
     },
     "execution_count": 168,
     "metadata": {},
     "output_type": "execute_result"
    }
   ],
   "source": [
    "df_main_november_predict['will_churn'].value_counts(normalize=True)"
   ]
  },
  {
   "cell_type": "code",
   "execution_count": 171,
   "metadata": {},
   "outputs": [
    {
     "data": {
      "text/plain": [
       "Index(['DeviceID', 'sessions_totalnumber', 'sessions_avgdaylag',\n",
       "       'sessions_daysSinceLastSession', 'sessions_totaldaysactive',\n",
       "       'payments_operationAmount_count', 'payments_operationAmount_sum',\n",
       "       'payments_operationAmount_median', 'payments_operationAmount_min',\n",
       "       'payments_operationAmount_max', 'payments_sender_nunique',\n",
       "       'payments_recipient_nunique', 'payments_operationMethod_nunique',\n",
       "       'payments_avgdaylag', 'payments_daysactive',\n",
       "       'payments_daysSinceLastPayment', 'transfers_operationAmount_count',\n",
       "       'transfers_operationAmount_sum', 'transfers_operationAmount_median',\n",
       "       'transfers_operationAmount_min', 'transfers_operationAmount_max',\n",
       "       'transfers_operationFee_sum', 'transfers_sender_nunique',\n",
       "       'transfers_recipient_nunique', 'transfers_operationMethod_nunique',\n",
       "       'transfers_senderCurrency_nunique',\n",
       "       'transfers_recipientCurrency_nunique', 'transfers_avgdaylag',\n",
       "       'transfers_daysactive', 'transfers_daysSinceLastTransfer',\n",
       "       'sessions_totalnumber_less_2', 'sessions_totalnumber_less_6',\n",
       "       'sessions_totaldaysactive_less_2', 'sessions_avgdaylag_greater_20',\n",
       "       'sessions_avgdaylag_greater_10', 'sessions_avgdaylag_greater_15',\n",
       "       'sessions_totaldaysactive_equalsless_2',\n",
       "       'sessions_daysSinceLastSession_equalsgreater_19',\n",
       "       'sessions_totalnumber_equalsless_5', 'sessions_isPassive',\n",
       "       'payments_isPassive', 'transfers_isPassive', 'will_churn'],\n",
       "      dtype='object')"
      ]
     },
     "execution_count": 171,
     "metadata": {},
     "output_type": "execute_result"
    }
   ],
   "source": [
    "df_main_november_predict.columns"
   ]
  },
  {
   "cell_type": "code",
   "execution_count": 172,
   "metadata": {},
   "outputs": [
    {
     "data": {
      "text/plain": [
       "count   33888.00\n",
       "mean       33.29\n",
       "std        17.92\n",
       "min       -48.00\n",
       "25%        20.00\n",
       "50%        34.00\n",
       "75%        48.00\n",
       "max        62.00\n",
       "Name: sessions_daysSinceLastSession, dtype: float64"
      ]
     },
     "execution_count": 172,
     "metadata": {},
     "output_type": "execute_result"
    }
   ],
   "source": [
    "df_main_november_predict[df_main_november_predict['will_churn'] == 1]['sessions_daysSinceLastSession'].describe()"
   ]
  },
  {
   "cell_type": "code",
   "execution_count": 95,
   "metadata": {
    "collapsed": true,
    "scrolled": false
   },
   "outputs": [],
   "source": [
    "# crmIds = \n",
    "events[events['DeviceID'].isin(df_main_september_predict[df_main_september_predict['will_churn'] == 1]['DeviceID'])]"
   ]
  },
  {
   "cell_type": "code",
   "execution_count": 174,
   "metadata": {
    "collapsed": true
   },
   "outputs": [],
   "source": [
    "df_main_november_predict.to_csv('../dmitriilin/Desktop/df_main_november_predict.csv')"
   ]
  },
  {
   "cell_type": "code",
   "execution_count": 118,
   "metadata": {},
   "outputs": [
    {
     "data": {
      "text/plain": [
       "7601"
      ]
     },
     "execution_count": 118,
     "metadata": {},
     "output_type": "execute_result"
    }
   ],
   "source": [
    "crmIds['Dev']"
   ]
  },
  {
   "cell_type": "code",
   "execution_count": 102,
   "metadata": {
    "collapsed": true
   },
   "outputs": [],
   "source": [
    "crmIds_will_churn = crmIds.groupby('DeviceID')[['crmId']].min().reset_index()"
   ]
  },
  {
   "cell_type": "code",
   "execution_count": 123,
   "metadata": {
    "collapsed": true
   },
   "outputs": [],
   "source": [
    "crmIds_will_churn[~crmIds_will_churn['crmId'].isnull()].reset_index().drop('index', axis=1)\\\n",
    "    .to_csv('../dmitriilin/Desktop/predicted_as_churn_september_2018.csv')"
   ]
  },
  {
   "cell_type": "markdown",
   "metadata": {},
   "source": [
    "### Сохраняем модель"
   ]
  },
  {
   "cell_type": "markdown",
   "metadata": {
    "collapsed": true
   },
   "source": [
    "```python\n",
    "with open(FILENAME, 'wb') as f:\n",
    "    pickle.dump(model, f)\n",
    "    \n",
    "    \n",
    "with open(FILENAME, 'rb') as f:\n",
    "    model = pickle.load(f)\n",
    "```"
   ]
  },
  {
   "cell_type": "code",
   "execution_count": 163,
   "metadata": {
    "collapsed": true
   },
   "outputs": [],
   "source": [
    "import pickle as pkl\n",
    "\n",
    "with open('lgbm_model.pkl', 'wb') as f:\n",
    "    pkl.dump(lgbm, f)"
   ]
  },
  {
   "cell_type": "code",
   "execution_count": 164,
   "metadata": {
    "collapsed": true
   },
   "outputs": [],
   "source": [
    "with open('lgbm_model.pkl', 'rb') as f:\n",
    "    model = pkl.load(f)"
   ]
  },
  {
   "cell_type": "code",
   "execution_count": 130,
   "metadata": {},
   "outputs": [
    {
     "data": {
      "text/plain": [
       "LGBMClassifier(boosting_type='gbdt', class_weight=None, colsample_bytree=1.0,\n",
       "        learning_rate=0.1, max_bin=1024, max_depth=-1, min_child_samples=5,\n",
       "        min_child_weight=1, min_split_gain=0.5, n_estimators=100,\n",
       "        n_jobs=-1, num_iterations=200, num_leaves=34, objective='binary',\n",
       "        random_state=None, reg_alpha=0.0, reg_lambda=0.0,\n",
       "        scale_pos_weight=1, silent=True, subsample=1,\n",
       "        subsample_for_bin=200, subsample_freq=1)"
      ]
     },
     "execution_count": 130,
     "metadata": {},
     "output_type": "execute_result"
    }
   ],
   "source": [
    "model"
   ]
  },
  {
   "cell_type": "code",
   "execution_count": null,
   "metadata": {
    "collapsed": true
   },
   "outputs": [],
   "source": []
  }
 ],
 "metadata": {
  "kernelspec": {
   "display_name": "Python 3",
   "language": "python",
   "name": "python3"
  },
  "language_info": {
   "codemirror_mode": {
    "name": "ipython",
    "version": 3
   },
   "file_extension": ".py",
   "mimetype": "text/x-python",
   "name": "python",
   "nbconvert_exporter": "python",
   "pygments_lexer": "ipython3",
   "version": "3.6.3"
  }
 },
 "nbformat": 4,
 "nbformat_minor": 2
}
